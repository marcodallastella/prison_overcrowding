{
 "cells": [
  {
   "cell_type": "code",
   "execution_count": 1,
   "metadata": {},
   "outputs": [],
   "source": [
    "import pandas as pd"
   ]
  },
  {
   "cell_type": "code",
   "execution_count": 2,
   "metadata": {},
   "outputs": [],
   "source": [
    "bollettini_df = pd.read_csv('../outputs/clean/bollettini_mensili_data.csv')\n",
    "institutes_df = pd.read_csv('../outputs/clean/istituti_penitenziari_data.csv')"
   ]
  },
  {
   "cell_type": "code",
   "execution_count": 3,
   "metadata": {},
   "outputs": [],
   "source": [
    "# Calculate totals for bollettini\n",
    "totals_df = bollettini_df.groupby('dati_aggiornati_al').agg({'capienza_regolamentare': 'sum', 'detenuti_totale': 'sum', 'detenuti_donne': 'sum', 'detenuti_stranieri': 'sum'}).reset_index()\n",
    "totals_df['tasso_affollamento'] = totals_df['detenuti_totale'] / totals_df['capienza_regolamentare']\n",
    "totals_df['tasso_affollamento'] = totals_df['tasso_affollamento'].round(2)\n",
    "\n",
    "totals_df.to_csv('../outputs/viz/bollettini_mensili_totali.csv', index=False, encoding=\"UTF-8\")\n"
   ]
  },
  {
   "cell_type": "code",
   "execution_count": 27,
   "metadata": {},
   "outputs": [],
   "source": [
    "# Calculate totals for bollettini\n",
    "totals_institutes_df = institutes_df.groupby('dati_aggiornati_al').agg({'posti_regolamentari': 'sum', 'posti_non_disponibili': 'sum', 'totale_detenuti': 'sum'}).reset_index()\n",
    "totals_institutes_df['posti_reali'] = totals_institutes_df['posti_regolamentari'] - totals_institutes_df['posti_non_disponibili']\n",
    "totals_institutes_df['tasso_reale'] = totals_institutes_df['totale_detenuti'] / totals_institutes_df['posti_reali']\n",
    "totals_institutes_df['tasso_reale'] = totals_institutes_df['tasso_reale'].round(2)\n",
    "\n",
    "totals_institutes_df.to_csv('../outputs/viz/istituti_totali.csv', index=False, encoding=\"UTF-8\")\n"
   ]
  }
 ],
 "metadata": {
  "kernelspec": {
   "display_name": "Python 3",
   "language": "python",
   "name": "python3"
  },
  "language_info": {
   "codemirror_mode": {
    "name": "ipython",
    "version": 3
   },
   "file_extension": ".py",
   "mimetype": "text/x-python",
   "name": "python",
   "nbconvert_exporter": "python",
   "pygments_lexer": "ipython3",
   "version": "3.10.1"
  }
 },
 "nbformat": 4,
 "nbformat_minor": 2
}

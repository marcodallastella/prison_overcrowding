{
 "cells": [
  {
   "cell_type": "markdown",
   "metadata": {},
   "source": [
    "# Scraper institutes\n",
    "This notebook is a monthly scraper used to retrieve information about condition in detention centers in Italy. To do so, it uses the id numbers of the various detention centers to navigate to the dedicated webpages with Selenium, store locally the html code of the page and then parse it using BeautifuSoup. The information is then stored in a pandas dataframe and saved as a csv file."
   ]
  },
  {
   "cell_type": "code",
   "execution_count": 1,
   "metadata": {},
   "outputs": [],
   "source": [
    "import pandas as pd\n",
    "import requests\n",
    "import datetime\n",
    "from bs4 import BeautifulSoup\n",
    "import asyncio\n",
    "from playwright.async_api import async_playwright\n",
    "from time import sleep\n",
    "from pathlib import Path"
   ]
  },
  {
   "cell_type": "code",
   "execution_count": 2,
   "metadata": {},
   "outputs": [],
   "source": [
    "# Get current date\n",
    "current_month = datetime.datetime.now().strftime(\"%Y-%m\")\n",
    "current_day = datetime.datetime.now().strftime(\"%Y-%m-%d\")"
   ]
  },
  {
   "cell_type": "code",
   "execution_count": 3,
   "metadata": {},
   "outputs": [],
   "source": [
    "# Collect institutes id numbers\n",
    "df_institutes = pd.read_csv(f'../outputs/clean/institutes_info.csv')\n",
    "prison_ids = df_institutes['id_istituto'].tolist()"
   ]
  },
  {
   "cell_type": "code",
   "execution_count": 5,
   "metadata": {},
   "outputs": [],
   "source": [
    "# Function to grab the html code of the page\n",
    "async def get_html(prison_id, current_day):\n",
    "\n",
    "    # dest = Path(f\"../outputs/raw/snapshots/{current_day}_{prison_id}.html\")\n",
    "\n",
    "    # if dest.exists() : #... load it from file\n",
    "    #     print(f\"Already have {dest}, loading!\")\n",
    "    #     page_html = open(dest).read()\n",
    "    # else:\n",
    "    BASE_URL = \"https://www.giustizia.it/giustizia/it/dettaglio_scheda.page?s=\"\n",
    "    playwright = await async_playwright().start()\n",
    "\n",
    "    try:\n",
    "        browser = await playwright.firefox.launch()\n",
    "        context = await browser.new_context(viewport={'width': 1280, 'height': 800})\n",
    "        page = await context.new_page()\n",
    "        await page.goto(f\"{BASE_URL}{prison_id}\")\n",
    "        print(\"Fetching \" + f\"{BASE_URL}{prison_id}\")\n",
    "        page_html = await page.content()\n",
    "        \n",
    "        # Stores html code in dest\n",
    "        # dest.write_text(page_html)\n",
    "    finally:\n",
    "        await browser.close()\n",
    "        await playwright.stop()\n",
    "    \n",
    "    return page_html"
   ]
  },
  {
   "cell_type": "code",
   "execution_count": 6,
   "metadata": {},
   "outputs": [],
   "source": [
    "# Function to extract institute name and type\n",
    "def extract_institute_details(soup):\n",
    "    institute_name = soup.find('h1', {'class': 'titoloIstituto'}).text.strip()\n",
    "    institute_type = soup.find('h3', {'class': 'titoloIstituto'}).text.strip()\n",
    "    return institute_name, institute_type\n",
    "\n",
    "# Function to extract capacity table data\n",
    "def extract_capacity_data(soup):\n",
    "    table_capienze = soup.find_all('table')[0]\n",
    "    rows = table_capienze.find_all('tr')\n",
    "    if len(rows) > 1:  # Ensure there are rows in the table\n",
    "        cells = rows[1].find_all('td') \n",
    "        posti_regolamentari = int(cells[0].text.strip())\n",
    "        posti_non_disponibili = int(cells[1].text.strip())\n",
    "        totale_detenuti = int(cells[2].text.strip())\n",
    "    else:\n",
    "        posti_regolamentari = posti_non_disponibili = totale_detenuti = 0\n",
    "    return posti_regolamentari, posti_non_disponibili, totale_detenuti\n",
    "\n",
    "# Function to extract updated date\n",
    "def extract_updated_date(soup, header_text):\n",
    "    target_span = soup.find('h2', text=header_text)\n",
    "    if target_span:\n",
    "        span = target_span.find_next_sibling('span')\n",
    "        return span.text.strip() if span else 'NA'\n",
    "    return 'NA'\n",
    "\n",
    "def extract_personnel_details(soup, header_text):\n",
    "    target_span = soup.find('h2', text=header_text)\n",
    "    if target_span:\n",
    "        try:\n",
    "            div = target_span.find_next('div', {'class': 'listaContenutiComplessi'})\n",
    "            spans = div.find_all('span', {'class': 'valoreSottocampo'})\n",
    "            return spans[0].text.strip(), spans[1].text.strip(), spans[2].text.strip()\n",
    "        except:\n",
    "            return 'NA', 'NA', 'NA'\n",
    "    return 'NA', 'NA', 'NA'\n",
    "\n",
    "# Function to extract staff table data\n",
    "def extract_staff_data(soup):\n",
    "    table_staff = soup.find_all('table')[1]\n",
    "    cells = table_staff.find_all('td')\n",
    "    polizia_penitenziaria_effettivi = int(cells[0].text.strip())\n",
    "    polizia_penitenziaria_previsti = int(cells[1].text.strip())\n",
    "    amministrativi_effettivi = int(cells[2].text.strip())\n",
    "    amministrativi_previsti = int(cells[3].text.strip())\n",
    "    educatori_effettivi = int(cells[4].text.strip())\n",
    "    educatori_previsti = int(cells[5].text.strip())\n",
    "    return (polizia_penitenziaria_effettivi, polizia_penitenziaria_previsti,\n",
    "            amministrativi_effettivi, amministrativi_previsti,\n",
    "            educatori_effettivi, educatori_previsti)\n",
    "\n",
    "# Function to extract last update date\n",
    "def extract_date_of_last_update(soup):\n",
    "    # Police staff\n",
    "    target_span= soup.find('h2', text='personale polizia penitenziaria aggiornato al')\n",
    "    try:\n",
    "        span = target_span.find_next_sibling('span')\n",
    "        personale_polizia_aggiornato_al = span.text.strip()\n",
    "    except:\n",
    "        personale_polizia_aggiornato_al = 'NA'\n",
    "\n",
    "    # Administrative staff\n",
    "    target_span= soup.find('h2', text='personale amministrativo aggiornato al')\n",
    "    try:\n",
    "        span = target_span.find_next_sibling('span')\n",
    "        personale_amministrativo_aggiornato_al = span.text.strip()\n",
    "    except:\n",
    "        personale_amministrativo_aggiornato_al = 'NA'\n",
    "\n",
    "    return personale_polizia_aggiornato_al, personale_amministrativo_aggiornato_al\n",
    "    "
   ]
  },
  {
   "cell_type": "code",
   "execution_count": 7,
   "metadata": {},
   "outputs": [],
   "source": [
    "# Function to extract institute data\n",
    "def get_prison_data(soup, current_day):\n",
    "\n",
    "    institute_name, institute_type = extract_institute_details(soup)\n",
    "    posti_regolamentari, posti_non_disponibili, totale_detenuti = extract_capacity_data(soup)\n",
    "    dati_aggiornati_al = extract_updated_date(soup, 'dati aggiornati al ')\n",
    "    asl, first_name_asl, last_name_asl = extract_personnel_details(soup, 'Responsabile ASL per il carcere')\n",
    "    first_name, last_name, role = extract_personnel_details(soup, 'Direttore')\n",
    "    (polizia_penitenziaria_effettivi, polizia_penitenziaria_previsti, amministrativi_effettivi, amministrativi_previsti, educatori_effettivi, educatori_previsti) = extract_staff_data(soup)\n",
    "    personale_polizia_aggiornato_al, personale_amministrativo_aggiornato_al = extract_date_of_last_update(soup)\n",
    "\n",
    "    prison_data = {\n",
    "            'id': prison_id,\n",
    "            'nome': institute_name,\n",
    "            'tipo': institute_type,\n",
    "            'posti_regolamentari': posti_regolamentari,\n",
    "            'posti_non_disponibili': posti_non_disponibili,\n",
    "            'posti_occupati': totale_detenuti,\n",
    "            'posti_aggiornati_al': dati_aggiornati_al,\n",
    "            'asl': asl,\n",
    "            'nome_responsabile_asl': first_name_asl,\n",
    "            'cognome_responsabile_asl': last_name_asl,\n",
    "            'nome_direttore': first_name,\n",
    "            'cognome_direttore': last_name,\n",
    "            'ruolo_direttore': role,\n",
    "            'personale_polizia_effettivi': polizia_penitenziaria_effettivi,\n",
    "            'personale_polizia_previsti': polizia_penitenziaria_previsti,\n",
    "            'personale_amministrativi_effettivi': amministrativi_effettivi,\n",
    "            'personale_amministrativi_previsti': amministrativi_previsti,\n",
    "            'personale_educatori_effettivi': educatori_effettivi,\n",
    "            'personale_educatori_previsti': educatori_previsti,\n",
    "            'personale_polizia_aggiornato_a': personale_polizia_aggiornato_al,\n",
    "            'personale_amministrativo_aggiornato_al': personale_amministrativo_aggiornato_al,\n",
    "        }\n",
    "        \n",
    "    return prison_data"
   ]
  },
  {
   "cell_type": "code",
   "execution_count": 8,
   "metadata": {},
   "outputs": [
    {
     "name": "stdout",
     "output_type": "stream",
     "text": [
      "Fetching https://www.giustizia.it/giustizia/it/dettaglio_scheda.page?s=MII179988\n",
      "Attempt 1 failed for prison_id MII179988. Error: invalid literal for int() with base 10: ''\n",
      "Fetching https://www.giustizia.it/giustizia/it/dettaglio_scheda.page?s=MII179988\n",
      "Attempt 2 failed for prison_id MII179988. Error: invalid literal for int() with base 10: ''\n"
     ]
    },
    {
     "ename": "CancelledError",
     "evalue": "",
     "output_type": "error",
     "traceback": [
      "\u001b[0;31m---------------------------------------------------------------------------\u001b[0m",
      "\u001b[0;31mCancelledError\u001b[0m                            Traceback (most recent call last)",
      "Cell \u001b[0;32mIn[8], line 7\u001b[0m\n\u001b[1;32m      5\u001b[0m \u001b[38;5;28;01mfor\u001b[39;00m attempt \u001b[38;5;129;01min\u001b[39;00m \u001b[38;5;28mrange\u001b[39m(\u001b[38;5;241m5\u001b[39m):\n\u001b[1;32m      6\u001b[0m     \u001b[38;5;28;01mtry\u001b[39;00m:\n\u001b[0;32m----> 7\u001b[0m         html_content \u001b[38;5;241m=\u001b[39m \u001b[38;5;28;01mawait\u001b[39;00m get_html(prison_id, current_month)\n\u001b[1;32m      8\u001b[0m         \u001b[38;5;66;03m# Parse the html with BeautifulSoup\u001b[39;00m\n\u001b[1;32m      9\u001b[0m         soup \u001b[38;5;241m=\u001b[39m BeautifulSoup(html_content, \u001b[38;5;124m'\u001b[39m\u001b[38;5;124mhtml.parser\u001b[39m\u001b[38;5;124m'\u001b[39m)\n",
      "Cell \u001b[0;32mIn[5], line 11\u001b[0m, in \u001b[0;36mget_html\u001b[0;34m(prison_id, current_day)\u001b[0m\n\u001b[1;32m      2\u001b[0m \u001b[38;5;28;01masync\u001b[39;00m \u001b[38;5;28;01mdef\u001b[39;00m \u001b[38;5;21mget_html\u001b[39m(prison_id, current_day):\n\u001b[1;32m      3\u001b[0m \n\u001b[1;32m      4\u001b[0m     \u001b[38;5;66;03m# dest = Path(f\"../outputs/raw/snapshots/{current_day}_{prison_id}.html\")\u001b[39;00m\n\u001b[0;32m   (...)\u001b[0m\n\u001b[1;32m      8\u001b[0m     \u001b[38;5;66;03m#     page_html = open(dest).read()\u001b[39;00m\n\u001b[1;32m      9\u001b[0m     \u001b[38;5;66;03m# else:\u001b[39;00m\n\u001b[1;32m     10\u001b[0m     BASE_URL \u001b[38;5;241m=\u001b[39m \u001b[38;5;124m\"\u001b[39m\u001b[38;5;124mhttps://www.giustizia.it/giustizia/it/dettaglio_scheda.page?s=\u001b[39m\u001b[38;5;124m\"\u001b[39m\n\u001b[0;32m---> 11\u001b[0m     playwright \u001b[38;5;241m=\u001b[39m \u001b[38;5;28;01mawait\u001b[39;00m async_playwright()\u001b[38;5;241m.\u001b[39mstart()\n\u001b[1;32m     13\u001b[0m     \u001b[38;5;28;01mtry\u001b[39;00m:\n\u001b[1;32m     14\u001b[0m         browser \u001b[38;5;241m=\u001b[39m \u001b[38;5;28;01mawait\u001b[39;00m playwright\u001b[38;5;241m.\u001b[39mfirefox\u001b[38;5;241m.\u001b[39mlaunch()\n",
      "File \u001b[0;32m~/.pyenv/versions/3.10.11/lib/python3.10/site-packages/playwright/async_api/_context_manager.py:52\u001b[0m, in \u001b[0;36mPlaywrightContextManager.start\u001b[0;34m(self)\u001b[0m\n\u001b[1;32m     51\u001b[0m \u001b[38;5;28;01masync\u001b[39;00m \u001b[38;5;28;01mdef\u001b[39;00m \u001b[38;5;21mstart\u001b[39m(\u001b[38;5;28mself\u001b[39m) \u001b[38;5;241m-\u001b[39m\u001b[38;5;241m>\u001b[39m AsyncPlaywright:\n\u001b[0;32m---> 52\u001b[0m     \u001b[38;5;28;01mreturn\u001b[39;00m \u001b[38;5;28;01mawait\u001b[39;00m \u001b[38;5;28mself\u001b[39m\u001b[38;5;241m.\u001b[39m\u001b[38;5;21m__aenter__\u001b[39m()\n",
      "File \u001b[0;32m~/.pyenv/versions/3.10.11/lib/python3.10/site-packages/playwright/async_api/_context_manager.py:41\u001b[0m, in \u001b[0;36mPlaywrightContextManager.__aenter__\u001b[0;34m(self)\u001b[0m\n\u001b[1;32m     38\u001b[0m loop\u001b[38;5;241m.\u001b[39mcreate_task(\u001b[38;5;28mself\u001b[39m\u001b[38;5;241m.\u001b[39m_connection\u001b[38;5;241m.\u001b[39mrun())\n\u001b[1;32m     39\u001b[0m playwright_future \u001b[38;5;241m=\u001b[39m \u001b[38;5;28mself\u001b[39m\u001b[38;5;241m.\u001b[39m_connection\u001b[38;5;241m.\u001b[39mplaywright_future\n\u001b[0;32m---> 41\u001b[0m done, _ \u001b[38;5;241m=\u001b[39m \u001b[38;5;28;01mawait\u001b[39;00m asyncio\u001b[38;5;241m.\u001b[39mwait(\n\u001b[1;32m     42\u001b[0m     {\u001b[38;5;28mself\u001b[39m\u001b[38;5;241m.\u001b[39m_connection\u001b[38;5;241m.\u001b[39m_transport\u001b[38;5;241m.\u001b[39mon_error_future, playwright_future},\n\u001b[1;32m     43\u001b[0m     return_when\u001b[38;5;241m=\u001b[39masyncio\u001b[38;5;241m.\u001b[39mFIRST_COMPLETED,\n\u001b[1;32m     44\u001b[0m )\n\u001b[1;32m     45\u001b[0m \u001b[38;5;28;01mif\u001b[39;00m \u001b[38;5;129;01mnot\u001b[39;00m playwright_future\u001b[38;5;241m.\u001b[39mdone():\n\u001b[1;32m     46\u001b[0m     playwright_future\u001b[38;5;241m.\u001b[39mcancel()\n",
      "File \u001b[0;32m~/.pyenv/versions/3.10.11/lib/python3.10/asyncio/tasks.py:384\u001b[0m, in \u001b[0;36mwait\u001b[0;34m(fs, timeout, return_when)\u001b[0m\n\u001b[1;32m    377\u001b[0m     warnings\u001b[38;5;241m.\u001b[39mwarn(\u001b[38;5;124m\"\u001b[39m\u001b[38;5;124mThe explicit passing of coroutine objects to \u001b[39m\u001b[38;5;124m\"\u001b[39m\n\u001b[1;32m    378\u001b[0m                   \u001b[38;5;124m\"\u001b[39m\u001b[38;5;124masyncio.wait() is deprecated since Python 3.8, and \u001b[39m\u001b[38;5;124m\"\u001b[39m\n\u001b[1;32m    379\u001b[0m                   \u001b[38;5;124m\"\u001b[39m\u001b[38;5;124mscheduled for removal in Python 3.11.\u001b[39m\u001b[38;5;124m\"\u001b[39m,\n\u001b[1;32m    380\u001b[0m                   \u001b[38;5;167;01mDeprecationWarning\u001b[39;00m, stacklevel\u001b[38;5;241m=\u001b[39m\u001b[38;5;241m2\u001b[39m)\n\u001b[1;32m    382\u001b[0m fs \u001b[38;5;241m=\u001b[39m {ensure_future(f, loop\u001b[38;5;241m=\u001b[39mloop) \u001b[38;5;28;01mfor\u001b[39;00m f \u001b[38;5;129;01min\u001b[39;00m fs}\n\u001b[0;32m--> 384\u001b[0m \u001b[38;5;28;01mreturn\u001b[39;00m \u001b[38;5;28;01mawait\u001b[39;00m _wait(fs, timeout, return_when, loop)\n",
      "File \u001b[0;32m~/.pyenv/versions/3.10.11/lib/python3.10/asyncio/tasks.py:491\u001b[0m, in \u001b[0;36m_wait\u001b[0;34m(fs, timeout, return_when, loop)\u001b[0m\n\u001b[1;32m    488\u001b[0m     f\u001b[38;5;241m.\u001b[39madd_done_callback(_on_completion)\n\u001b[1;32m    490\u001b[0m \u001b[38;5;28;01mtry\u001b[39;00m:\n\u001b[0;32m--> 491\u001b[0m     \u001b[38;5;28;01mawait\u001b[39;00m waiter\n\u001b[1;32m    492\u001b[0m \u001b[38;5;28;01mfinally\u001b[39;00m:\n\u001b[1;32m    493\u001b[0m     \u001b[38;5;28;01mif\u001b[39;00m timeout_handle \u001b[38;5;129;01mis\u001b[39;00m \u001b[38;5;129;01mnot\u001b[39;00m \u001b[38;5;28;01mNone\u001b[39;00m:\n",
      "\u001b[0;31mCancelledError\u001b[0m: "
     ]
    }
   ],
   "source": [
    "data = []\n",
    "\n",
    "for prison_id in prison_ids:\n",
    "    success = False\n",
    "    for attempt in range(5):\n",
    "        try:\n",
    "            html_content = await get_html(prison_id, current_month)\n",
    "            # Parse the html with BeautifulSoup\n",
    "            soup = BeautifulSoup(html_content, 'html.parser')\n",
    "            prison_data = get_prison_data(soup, current_day)\n",
    "\n",
    "            # Append prison_data to data list\n",
    "            data.append(prison_data)\n",
    "\n",
    "            success = True\n",
    "            break  # Break the retry loop if successful\n",
    "\n",
    "        except Exception as e:\n",
    "            print(f\"Attempt {attempt+1} failed for prison_id {prison_id}. Error: {e}\")\n",
    "            if attempt < 5:  # If not the last attempt, sleep for 10 seconds before retrying\n",
    "                sleep(10)\n",
    "\n",
    "    if not success:\n",
    "        print(f\"Failed to fetch data for prison_id {prison_id} after 5 attempts.\")\n",
    "\n",
    "    # Sleep for 3 seconds before making the next request\n",
    "    sleep(3)\n",
    "\n",
    "# Convert prison_data_list to a Pandas DataFrame\n",
    "data_df = pd.DataFrame(data)"
   ]
  },
  {
   "cell_type": "code",
   "execution_count": null,
   "metadata": {},
   "outputs": [],
   "source": [
    "old_data_path = Path('../outputs/raw/institutes_raw.csv')\n",
    "\n",
    "if old_data_path.exists():\n",
    "  old_data = pd.read_csv('../outputs/raw/institutes_raw.csv')\n",
    "  combined_data = pd.concat([old_data, data_df], ignore_index=True)\n",
    "  combined_data.drop_duplicates(inplace=True)\n",
    "else:\n",
    "  combined_data = data_df\n",
    "  combined_data.drop_duplicates(inplace=True)\n",
    "\n",
    "combined_data.to_csv('../outputs/raw/institutes_raw.csv', index=False)"
   ]
  },
  {
   "cell_type": "markdown",
   "metadata": {},
   "source": [
    "Some basic cleaning for the dates"
   ]
  },
  {
   "cell_type": "code",
   "execution_count": 1,
   "metadata": {},
   "outputs": [],
   "source": [
    "# Fixing dates\n",
    "data_df['posti_aggiornati_al'] = pd.to_datetime(data_df['posti_aggiornati_al'], dayfirst=True)\n",
    "\n",
    "data_df['posti_aggiornati_al'] = data_df['posti_aggiornati_al'].dt.strftime('%Y-%m-%d')\n",
    "data_df.head()\n",
    "\n",
    "data_df['personale_polizia_aggiornato_a'] = pd.to_datetime(data_df['personale_polizia_aggiornato_a'], format='%d/%m/%Y', errors='coerce').dt.strftime('%Y-%m-%d')\n",
    "data_df['personale_amministrativo_aggiornato_al'] = pd.to_datetime(data_df['personale_amministrativo_aggiornato_al'], format='%d-%m-%Y', errors='coerce').dt.strftime('%Y-%m-%d')"
   ]
  },
  {
   "cell_type": "code",
   "execution_count": 31,
   "metadata": {},
   "outputs": [],
   "source": [
    "old_data_path = Path('../outputs/clean/institutes.csv')\n",
    "\n",
    "if old_data_path.exists():\n",
    "  old_data = pd.read_csv('../outputs/raw/institutes_raw.csv')\n",
    "  combined_data = pd.concat([old_data, data_df], ignore_index=True)\n",
    "  combined_data.drop_duplicates(inplace=True)\n",
    "else:\n",
    "  combined_data = data_df\n",
    "  combined_data.drop_duplicates(inplace=True)\n",
    "\n",
    "combined_data.to_csv('../outputs/clean/institutes.csv', index=False)"
   ]
  }
 ],
 "metadata": {
  "kernelspec": {
   "display_name": "Python 3",
   "language": "python",
   "name": "python3"
  },
  "language_info": {
   "codemirror_mode": {
    "name": "ipython",
    "version": 3
   },
   "file_extension": ".py",
   "mimetype": "text/x-python",
   "name": "python",
   "nbconvert_exporter": "python",
   "pygments_lexer": "ipython3",
   "version": "3.10.11"
  }
 },
 "nbformat": 4,
 "nbformat_minor": 2
}

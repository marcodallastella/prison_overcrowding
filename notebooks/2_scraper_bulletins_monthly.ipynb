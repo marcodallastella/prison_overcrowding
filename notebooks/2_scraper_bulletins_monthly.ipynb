{
 "cells": [
  {
   "cell_type": "markdown",
   "metadata": {},
   "source": [
    "# Scraper gobal monthly\n",
    "\n",
    "This notebook is a monthly scraper used to retrieve information about monthly bulletines about inmates in detention centers in Italy."
   ]
  },
  {
   "cell_type": "code",
   "execution_count": 1,
   "metadata": {},
   "outputs": [
    {
     "ename": "ModuleNotFoundError",
     "evalue": "No module named 'seleniumwire'",
     "output_type": "error",
     "traceback": [
      "\u001b[0;31m---------------------------------------------------------------------------\u001b[0m",
      "\u001b[0;31mModuleNotFoundError\u001b[0m                       Traceback (most recent call last)",
      "\u001b[0;32m/var/folders/m0/g7ky_r7x67l1pv2zgg_fptx80000gn/T/ipykernel_73992/4229255944.py\u001b[0m in \u001b[0;36m<module>\u001b[0;34m\u001b[0m\n\u001b[1;32m     10\u001b[0m \u001b[0;32mimport\u001b[0m \u001b[0mtime\u001b[0m\u001b[0;34m\u001b[0m\u001b[0;34m\u001b[0m\u001b[0m\n\u001b[1;32m     11\u001b[0m \u001b[0;34m\u001b[0m\u001b[0m\n\u001b[0;32m---> 12\u001b[0;31m \u001b[0;32mfrom\u001b[0m \u001b[0mseleniumwire\u001b[0m \u001b[0;32mimport\u001b[0m \u001b[0mwebdriver\u001b[0m\u001b[0;34m\u001b[0m\u001b[0;34m\u001b[0m\u001b[0m\n\u001b[0m\u001b[1;32m     13\u001b[0m \u001b[0;32mfrom\u001b[0m \u001b[0mselenium\u001b[0m\u001b[0;34m.\u001b[0m\u001b[0mwebdriver\u001b[0m\u001b[0;34m.\u001b[0m\u001b[0mcommon\u001b[0m\u001b[0;34m.\u001b[0m\u001b[0mkeys\u001b[0m \u001b[0;32mimport\u001b[0m \u001b[0mKeys\u001b[0m\u001b[0;34m\u001b[0m\u001b[0;34m\u001b[0m\u001b[0m\n\u001b[1;32m     14\u001b[0m \u001b[0;32mfrom\u001b[0m \u001b[0mselenium\u001b[0m\u001b[0;34m.\u001b[0m\u001b[0mwebdriver\u001b[0m\u001b[0;34m.\u001b[0m\u001b[0mfirefox\u001b[0m\u001b[0;34m.\u001b[0m\u001b[0moptions\u001b[0m \u001b[0;32mimport\u001b[0m \u001b[0mOptions\u001b[0m\u001b[0;34m\u001b[0m\u001b[0;34m\u001b[0m\u001b[0m\n",
      "\u001b[0;31mModuleNotFoundError\u001b[0m: No module named 'seleniumwire'"
     ]
    }
   ],
   "source": [
    "import requests\n",
    "from bs4 import BeautifulSoup\n",
    "import pandas as pd\n",
    "from time import sleep\n",
    "import datetime\n",
    "import re\n",
    "\n",
    "from pathlib import Path\n",
    "from random import randint\n",
    "import time\n",
    "\n",
    "from selenium import webdriver\n",
    "from selenium.webdriver.common.keys import Keys\n",
    "from selenium.webdriver.firefox.options import Options\n",
    "from selenium.webdriver.common.by import By"
   ]
  },
  {
   "cell_type": "code",
   "execution_count": 6,
   "metadata": {},
   "outputs": [],
   "source": [
    "months_eng_ita = {\n",
    "    \"january\": \"gennaio\",\n",
    "    \"february\": \"febbraio\",\n",
    "    \"march\": \"marzo\",\n",
    "    \"april\": \"aprile\",\n",
    "    \"may\": \"maggio\",\n",
    "    \"june\": \"giugno\",\n",
    "    \"july\": \"luglio\",\n",
    "    \"august\": \"agosto\",\n",
    "    \"september\": \"settembre\",\n",
    "    \"october\": \"ottobre\",\n",
    "    \"november\": \"novembre\",\n",
    "    \"december\": \"dicembre\"\n",
    "}\n",
    "\n",
    "\n",
    "# Get the current date\n",
    "current_date = datetime.datetime.now()\n",
    "\n",
    "day = (current_date.replace(day=1) - datetime.timedelta(days=1)).day\n",
    "month = (current_date - datetime.timedelta(days=current_date.day)).strftime(\"%B\").lower()\n",
    "month = months_eng_ita.get(month)\n",
    "\n",
    "year = current_date.year\n",
    "\n",
    "target = f'Detenuti italiani e stranieri presenti e capienze per istituto - aggiornamento al {day} {month} {year}'"
   ]
  },
  {
   "cell_type": "markdown",
   "metadata": {},
   "source": [
    "## Selenium\n",
    "This section of the notebook uses Selenium to look for any updated data by searching for the target string and the last day of the previous month."
   ]
  },
  {
   "cell_type": "code",
   "execution_count": 26,
   "metadata": {},
   "outputs": [],
   "source": [
    "def open_browser():\n",
    "    \"\"\"\n",
    "    Opens a new automated browser window with all tell-tales of automated browser disabled\n",
    "    \"\"\"\n",
    "    options = Options()\n",
    "    options.add_argument(\"--start-maximized\")\n",
    "\n",
    "    # Enable headless mode\n",
    "    options.add_argument(\"--headless\")\n",
    "\n",
    "    # remove all signs of this being an automated browser\n",
    "    options.set_preference(\"dom.webdriver.enabled\", False)\n",
    "    options.set_preference('useAutomationExtension', False)\n",
    "    options.set_preference(\"general.useragent.override\", \"Mozilla/5.0 (Windows NT 10.0; Win64; x64; rv:89.0) Gecko/20100101 Firefox/89.0\")\n",
    "\n",
    "    # open the browser with the new options\n",
    "    driver = webdriver.Firefox(options=options)\n",
    "    return driver"
   ]
  },
  {
   "cell_type": "code",
   "execution_count": 27,
   "metadata": {},
   "outputs": [
    {
     "name": "stdout",
     "output_type": "stream",
     "text": [
      "https://www.giustizia.it/giustizia/it/mg_1_14_1.page?contentId=SST462936\n",
      "Already have ../outputs/raw/bollettini/SST462936.html, loading!\n"
     ]
    }
   ],
   "source": [
    "# Open up the browser, go to page\n",
    "driver = open_browser()\n",
    "url = 'https://www.giustizia.it/giustizia/page/it/statistiche'\n",
    "driver.get(url)\n",
    "\n",
    "sleep(3)\n",
    "\n",
    "# Accept cookies if present\n",
    "try:\n",
    "  cookies = driver.find_element(By.XPATH, \"/html/body/div[4]/div/div/div/div[3]/a[1]\")\n",
    "  cookies.click()\n",
    "except:\n",
    "  pass\n",
    "\n",
    "\n",
    "sleep(3)\n",
    "\n",
    "# Find the Search box\n",
    "search_box = driver.find_element(\n",
    "    By.NAME, \"search\"\n",
    ")\n",
    "\n",
    "# Do the search\n",
    "search_term = f'Detenuti italiani e stranieri presenti e capienze per istituto - aggiornamento al {day} {month} {year}'\n",
    "search_box.send_keys(search_term)\n",
    "search_box.send_keys(Keys.RETURN)\n",
    "\n",
    "sleep(3)\n",
    "\n",
    "# Find the link to the page we want and click it\n",
    "target_link = driver.find_element(\"link text\", target)\n",
    "target_link.click()\n",
    "\n",
    "# Save the html code\n",
    "\n",
    "current_page_url = driver.current_url\n",
    "print(current_page_url)\n",
    "\n",
    "link_id = re.search(r'Id=(.*)', current_page_url).group(1)\n",
    "dest = Path(\"../outputs/raw/bollettini/\" + link_id + \".html\")\n",
    "\n",
    "if dest.exists(): # .... load it from file\n",
    "        print(f\"Already have {dest}, loading!\")\n",
    "        page_html = open(dest).read()\n",
    "\n",
    "else: # ... fetch it and save it\n",
    "# Get the URL and HTML code\n",
    "  url = driver.current_url\n",
    "  page_html = driver.page_source\n",
    "\n",
    "  with open(dest, 'w') as f:\n",
    "    f.write(page_html)\n",
    "    print(f\"Page saved in {dest}. Extracting data.\")\n",
    "\n",
    "# Close the browser\n",
    "driver.quit()"
   ]
  },
  {
   "cell_type": "markdown",
   "metadata": {},
   "source": [
    "## BeautifulSoup\n",
    "This section of the notebook uses BeautifulSoup to parse the page html code and extract table information."
   ]
  },
  {
   "cell_type": "code",
   "execution_count": 29,
   "metadata": {},
   "outputs": [],
   "source": [
    "columns = [\n",
    "    'url',\n",
    "    'dati_aggiornati_al',\n",
    "    'descrizione',\n",
    "    'regione_di_detenzione',\n",
    "    'sigla_provincia',\n",
    "    'nome_istituto',\n",
    "    'tipo_istituto',\n",
    "    'capienza_regolamentare',\n",
    "    'detenuti_totale',\n",
    "    'detenuti_donne',\n",
    "    'detenuti_stranieri'\n",
    "]\n",
    "\n",
    "#   ... And parse it with BeautifulSoup\n",
    "all_data = []\n",
    "\n",
    "soup = BeautifulSoup(page_html, \"html.parser\")\n",
    "# Fix date if wrong\n",
    "date = soup.find(\"p\", class_=\"date\").text\n",
    "title = target\n",
    "date_title = title.split(\"- \")[1].strip()\n",
    "date_title = date_title.replace(\"aggiornamento al \", \"\").lower()\n",
    "\n",
    "\n",
    "if date_title == date:\n",
    "    date = date\n",
    "else:\n",
    "    print(f\"Date fixed from {date} to {date_title}\")\n",
    "    date = date_title\n",
    "\n",
    "tables = soup.select(\"table\")\n",
    "table = tables[0]\n",
    "row_els = table.select(\"tbody tr\")\n",
    "\n",
    "table_data = []\n",
    "\n",
    "for row in row_els:\n",
    "    row_cells = [url, date, title]\n",
    "    for i, cell in enumerate(row.select(\"td\")):\n",
    "        if i < 4:\n",
    "            row_cells.append(cell.text) # Extract only digits from last four columns\n",
    "        else:\n",
    "            number = cell.text.replace('.', '')  # Remove dots\n",
    "            row_cells.append(number)\n",
    "                    \n",
    "        table_data.append(row_cells)\n",
    "\n",
    "all_data.extend(table_data)\n",
    "\n",
    "# Creating the df\n",
    "df = pd.DataFrame(table_data, columns=columns)\n",
    "\n",
    "df.to_csv('../outputs/raw/data_raw.csv', mode='a', header=False, index=False)"
   ]
  }
 ],
 "metadata": {
  "kernelspec": {
   "display_name": "Python 3",
   "language": "python",
   "name": "python3"
  },
  "language_info": {
   "codemirror_mode": {
    "name": "ipython",
    "version": 3
   },
   "file_extension": ".py",
   "mimetype": "text/x-python",
   "name": "python",
   "nbconvert_exporter": "python",
   "pygments_lexer": "ipython3",
   "version": "3.10.1"
  }
 },
 "nbformat": 4,
 "nbformat_minor": 2
}

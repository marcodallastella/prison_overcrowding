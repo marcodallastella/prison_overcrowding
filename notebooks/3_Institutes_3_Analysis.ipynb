{
 "cells": [
  {
   "cell_type": "code",
   "execution_count": 1,
   "metadata": {},
   "outputs": [],
   "source": [
    "import pandas as pd"
   ]
  },
  {
   "cell_type": "markdown",
   "metadata": {},
   "source": [
    "## Institutes"
   ]
  },
  {
   "cell_type": "code",
   "execution_count": null,
   "metadata": {},
   "outputs": [],
   "source": [
    "df = pd.read_csv('../outputs/clean/institutes.csv')\n",
    "df.head()"
   ]
  },
  {
   "cell_type": "markdown",
   "metadata": {},
   "source": [
    "## Most recent data"
   ]
  },
  {
   "cell_type": "code",
   "execution_count": null,
   "metadata": {},
   "outputs": [],
   "source": [
    "# Get the most recent update\n",
    "df['posti_aggiornati_al'] = pd.to_datetime(df['posti_aggiornati_al'], format='%Y-%m-%d')\n",
    "df_most_recent = df.loc[df.groupby('id')['posti_aggiornati_al'].idxmax()]\n",
    "\n",
    "# Adding columns for places available and overcrowding index\n",
    "df_most_recent['posti_reali'] = df_most_recent['posti_regolamentari'] - df_most_recent['posti_non_disponibili']\n",
    "df_most_recent['tasso_sovraffollamento'] = round(df_most_recent['posti_occupati'] / df_most_recent['posti_reali'],2)\n",
    "df_most_recent.head()"
   ]
  },
  {
   "cell_type": "code",
   "execution_count": null,
   "metadata": {},
   "outputs": [],
   "source": [
    "df_most_recent.value_counts(['posti_aggiornati_al'])"
   ]
  },
  {
   "cell_type": "code",
   "execution_count": null,
   "metadata": {},
   "outputs": [],
   "source": [
    "# Adding institutes' information for mapping the institutes\n",
    "# Read institutes' csv\n",
    "\n",
    "df_info = pd.read_csv('../outputs/clean/institutes_info.csv')\n",
    "df_info = df_info.rename(columns={'id_istituto': 'id'})\n",
    "\n",
    "merged_df = pd.merge(df_most_recent, df_info, on='id')\n",
    "\n",
    "# Adding additional columns\n",
    "merged_df['posti_reali'] = merged_df['posti_regolamentari'] - merged_df['posti_non_disponibili']\n",
    "\n",
    "merged_df['tasso_affollamento'] = (merged_df['posti_occupati'] / merged_df['posti_reali']).round(2)\n",
    "\n",
    "# Keep only relevant columns\n",
    "df_filtered = merged_df[\n",
    "  [\n",
    "    'id',\n",
    "    'nome',\n",
    "    'tasso_affollamento',\n",
    "    'indirizzo',\n",
    "    'tipo',\n",
    "   'posti_regolamentari',\n",
    "    'posti_non_disponibili',\n",
    "    'posti_reali',\n",
    "    'posti_occupati',\n",
    "    'posti_aggiornati_al',\n",
    "    'personale_polizia_previsti',\n",
    "    'personale_polizia_effettivi',\n",
    "    'personale_polizia_aggiornato_a',\n",
    "    'personale_amministrativi_previsti',\n",
    "    'personale_amministrativi_effettivi',\n",
    "    'personale_amministrativo_aggiornato_al',\n",
    "    'latitudine',\n",
    "    'longitude'\n",
    "    ]\n",
    "    ]\n",
    "\n",
    "df_filtered.head()"
   ]
  },
  {
   "cell_type": "code",
   "execution_count": null,
   "metadata": {},
   "outputs": [],
   "source": [
    "df_filtered.head()"
   ]
  },
  {
   "cell_type": "code",
   "execution_count": null,
   "metadata": {},
   "outputs": [],
   "source": [
    "df_filtered['scheda_istituto'] = '<a href=\"https://www.giustizia.it/giustizia/page/it/dettaglio_scheda_istituto_penitenziario?s='+df_filtered['id']+'>Vai alla scheda istituto.</a>'\n",
    "\n",
    "df_filtered.head()"
   ]
  },
  {
   "cell_type": "code",
   "execution_count": 8,
   "metadata": {},
   "outputs": [],
   "source": [
    "# Saving csv\n",
    "df_filtered.to_csv('../outputs/viz/institutes_most_recent.csv', index=False, encoding='UTF-8-sig')"
   ]
  },
  {
   "cell_type": "markdown",
   "metadata": {},
   "source": [
    "## 1. Totals"
   ]
  },
  {
   "cell_type": "code",
   "execution_count": null,
   "metadata": {},
   "outputs": [],
   "source": [
    "grouped_df = df.groupby('posti_aggiornati_al').sum(numeric_only=True).reset_index()\n",
    "grouped_df"
   ]
  },
  {
   "cell_type": "code",
   "execution_count": null,
   "metadata": {},
   "outputs": [],
   "source": [
    "grouped_df['posti_reali'] = (grouped_df['posti_regolamentari'] - grouped_df['posti_non_disponibili']).round(2)\n",
    "\n",
    "grouped_df['tasso_sovraffollamento'] = (grouped_df['posti_occupati'] / grouped_df['posti_reali']).round(2)\n",
    "\n",
    "grouped_df.head()\n"
   ]
  },
  {
   "cell_type": "code",
   "execution_count": 11,
   "metadata": {},
   "outputs": [],
   "source": [
    "grouped_df.to_csv('../outputs/viz/institutes_totals.csv', index=False)"
   ]
  }
 ],
 "metadata": {
  "kernelspec": {
   "display_name": "Python 3",
   "language": "python",
   "name": "python3"
  },
  "language_info": {
   "codemirror_mode": {
    "name": "ipython",
    "version": 3
   },
   "file_extension": ".py",
   "mimetype": "text/x-python",
   "name": "python",
   "nbconvert_exporter": "python",
   "pygments_lexer": "ipython3",
   "version": "3.10.11"
  }
 },
 "nbformat": 4,
 "nbformat_minor": 2
}

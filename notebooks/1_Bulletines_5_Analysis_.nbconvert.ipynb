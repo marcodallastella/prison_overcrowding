{
 "cells": [
  {
   "cell_type": "code",
   "execution_count": 1,
   "metadata": {
    "execution": {
     "iopub.execute_input": "2024-10-08T20:16:09.443214Z",
     "iopub.status.busy": "2024-10-08T20:16:09.442738Z",
     "iopub.status.idle": "2024-10-08T20:16:09.684808Z",
     "shell.execute_reply": "2024-10-08T20:16:09.684209Z"
    }
   },
   "outputs": [],
   "source": [
    "import pandas as pd"
   ]
  },
  {
   "cell_type": "code",
   "execution_count": 2,
   "metadata": {
    "execution": {
     "iopub.execute_input": "2024-10-08T20:16:09.687354Z",
     "iopub.status.busy": "2024-10-08T20:16:09.686831Z",
     "iopub.status.idle": "2024-10-08T20:16:09.702719Z",
     "shell.execute_reply": "2024-10-08T20:16:09.702196Z"
    }
   },
   "outputs": [],
   "source": [
    "#Monthly aggregated data\n",
    "\n",
    "df = pd.read_csv('../outputs/clean/bulletines.csv')"
   ]
  },
  {
   "cell_type": "markdown",
   "metadata": {},
   "source": [
    "## 1. Bulletines totals (monthly aggregated data)"
   ]
  },
  {
   "cell_type": "code",
   "execution_count": null,
   "metadata": {
    "execution": {
     "iopub.execute_input": "2024-10-08T20:16:09.705103Z",
     "iopub.status.busy": "2024-10-08T20:16:09.704686Z",
     "iopub.status.idle": "2024-10-08T20:16:09.718091Z",
     "shell.execute_reply": "2024-10-08T20:16:09.717458Z"
    }
   },
   "outputs": [],
   "source": [
    "grouped_df = df.groupby('Ultimo aggiornamento').agg({\n",
    "    'Capienza Regolamentare': 'sum',\n",
    "    'Detenuti presenti - totale': 'sum',\n",
    "    'Detenuti presenti - donne': 'sum',\n",
    "    'Detenuti presenti - stranieri': 'sum'\n",
    "}).reset_index()\n",
    "grouped_df.head()"
   ]
  },
  {
   "cell_type": "code",
   "execution_count": null,
   "metadata": {
    "execution": {
     "iopub.execute_input": "2024-10-08T20:16:09.754888Z",
     "iopub.status.busy": "2024-10-08T20:16:09.754644Z",
     "iopub.status.idle": "2024-10-08T20:16:09.763471Z",
     "shell.execute_reply": "2024-10-08T20:16:09.762956Z"
    }
   },
   "outputs": [],
   "source": [
    "grouped_df['Tasso di sovraffollamento'] = (grouped_df['Detenuti presenti - totale'] / grouped_df['Capienza Regolamentare']).round(2)\n",
    "grouped_df.tail()"
   ]
  },
  {
   "cell_type": "code",
   "execution_count": 5,
   "metadata": {
    "execution": {
     "iopub.execute_input": "2024-10-08T20:16:09.765511Z",
     "iopub.status.busy": "2024-10-08T20:16:09.765133Z",
     "iopub.status.idle": "2024-10-08T20:16:09.769456Z",
     "shell.execute_reply": "2024-10-08T20:16:09.768960Z"
    }
   },
   "outputs": [],
   "source": [
    "grouped_df.to_csv('../outputs/viz/bulletines_totals.csv', index=False, encoding='UTF-8')"
   ]
  }
 ],
 "metadata": {
  "kernelspec": {
   "display_name": "Python 3",
   "language": "python",
   "name": "python3"
  },
  "language_info": {
   "codemirror_mode": {
    "name": "ipython",
    "version": 3
   },
   "file_extension": ".py",
   "mimetype": "text/x-python",
   "name": "python",
   "nbconvert_exporter": "python",
   "pygments_lexer": "ipython3",
   "version": "3.10.15"
  }
 },
 "nbformat": 4,
 "nbformat_minor": 2
}

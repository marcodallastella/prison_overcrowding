{
 "cells": [
  {
   "cell_type": "code",
   "execution_count": 1,
   "metadata": {
    "execution": {
     "iopub.execute_input": "2024-10-15T05:07:39.000205Z",
     "iopub.status.busy": "2024-10-15T05:07:38.999975Z",
     "iopub.status.idle": "2024-10-15T05:07:39.242143Z",
     "shell.execute_reply": "2024-10-15T05:07:39.241545Z"
    }
   },
   "outputs": [],
   "source": [
    "import pandas as pd"
   ]
  },
  {
   "cell_type": "code",
   "execution_count": 2,
   "metadata": {
    "execution": {
     "iopub.execute_input": "2024-10-15T05:07:39.244659Z",
     "iopub.status.busy": "2024-10-15T05:07:39.244286Z",
     "iopub.status.idle": "2024-10-15T05:07:39.261520Z",
     "shell.execute_reply": "2024-10-15T05:07:39.260959Z"
    }
   },
   "outputs": [],
   "source": [
    "#Monthly aggregated data\n",
    "\n",
    "df = pd.read_csv('../outputs/clean/bulletines.csv')"
   ]
  },
  {
   "cell_type": "markdown",
   "metadata": {},
   "source": [
    "## 1. Bulletines totals (monthly aggregated data)"
   ]
  },
  {
   "cell_type": "code",
   "execution_count": 3,
   "metadata": {
    "execution": {
     "iopub.execute_input": "2024-10-15T05:07:39.263894Z",
     "iopub.status.busy": "2024-10-15T05:07:39.263519Z",
     "iopub.status.idle": "2024-10-15T05:07:39.277389Z",
     "shell.execute_reply": "2024-10-15T05:07:39.276718Z"
    }
   },
   "outputs": [
    {
     "data": {
      "text/html": [
       "<div>\n",
       "<style scoped>\n",
       "    .dataframe tbody tr th:only-of-type {\n",
       "        vertical-align: middle;\n",
       "    }\n",
       "\n",
       "    .dataframe tbody tr th {\n",
       "        vertical-align: top;\n",
       "    }\n",
       "\n",
       "    .dataframe thead th {\n",
       "        text-align: right;\n",
       "    }\n",
       "</style>\n",
       "<table border=\"1\" class=\"dataframe\">\n",
       "  <thead>\n",
       "    <tr style=\"text-align: right;\">\n",
       "      <th></th>\n",
       "      <th>Ultimo aggiornamento</th>\n",
       "      <th>Capienza Regolamentare</th>\n",
       "      <th>Detenuti presenti - totale</th>\n",
       "      <th>Detenuti presenti - donne</th>\n",
       "      <th>Detenuti presenti - stranieri</th>\n",
       "    </tr>\n",
       "  </thead>\n",
       "  <tbody>\n",
       "    <tr>\n",
       "      <th>0</th>\n",
       "      <td>2019-01-31</td>\n",
       "      <td>50550</td>\n",
       "      <td>60125</td>\n",
       "      <td>2580</td>\n",
       "      <td>20309</td>\n",
       "    </tr>\n",
       "    <tr>\n",
       "      <th>1</th>\n",
       "      <td>2019-02-28</td>\n",
       "      <td>50522</td>\n",
       "      <td>60348</td>\n",
       "      <td>2623</td>\n",
       "      <td>20325</td>\n",
       "    </tr>\n",
       "    <tr>\n",
       "      <th>2</th>\n",
       "      <td>2019-03-31</td>\n",
       "      <td>50514</td>\n",
       "      <td>60611</td>\n",
       "      <td>2656</td>\n",
       "      <td>20412</td>\n",
       "    </tr>\n",
       "    <tr>\n",
       "      <th>3</th>\n",
       "      <td>2019-04-30</td>\n",
       "      <td>50511</td>\n",
       "      <td>60439</td>\n",
       "      <td>2659</td>\n",
       "      <td>20324</td>\n",
       "    </tr>\n",
       "    <tr>\n",
       "      <th>4</th>\n",
       "      <td>2019-05-31</td>\n",
       "      <td>50528</td>\n",
       "      <td>60476</td>\n",
       "      <td>2648</td>\n",
       "      <td>20277</td>\n",
       "    </tr>\n",
       "  </tbody>\n",
       "</table>\n",
       "</div>"
      ],
      "text/plain": [
       "  Ultimo aggiornamento  Capienza Regolamentare  Detenuti presenti - totale  \\\n",
       "0           2019-01-31                   50550                       60125   \n",
       "1           2019-02-28                   50522                       60348   \n",
       "2           2019-03-31                   50514                       60611   \n",
       "3           2019-04-30                   50511                       60439   \n",
       "4           2019-05-31                   50528                       60476   \n",
       "\n",
       "   Detenuti presenti - donne  Detenuti presenti - stranieri  \n",
       "0                       2580                          20309  \n",
       "1                       2623                          20325  \n",
       "2                       2656                          20412  \n",
       "3                       2659                          20324  \n",
       "4                       2648                          20277  "
      ]
     },
     "execution_count": 3,
     "metadata": {},
     "output_type": "execute_result"
    }
   ],
   "source": [
    "grouped_df = df.groupby('Ultimo aggiornamento').agg({\n",
    "    'Capienza Regolamentare': 'sum',\n",
    "    'Detenuti presenti - totale': 'sum',\n",
    "    'Detenuti presenti - donne': 'sum',\n",
    "    'Detenuti presenti - stranieri': 'sum'\n",
    "}).reset_index()\n",
    "grouped_df.head()"
   ]
  },
  {
   "cell_type": "code",
   "execution_count": 4,
   "metadata": {
    "execution": {
     "iopub.execute_input": "2024-10-15T05:07:39.312263Z",
     "iopub.status.busy": "2024-10-15T05:07:39.311948Z",
     "iopub.status.idle": "2024-10-15T05:07:39.320919Z",
     "shell.execute_reply": "2024-10-15T05:07:39.320365Z"
    }
   },
   "outputs": [
    {
     "data": {
      "text/html": [
       "<div>\n",
       "<style scoped>\n",
       "    .dataframe tbody tr th:only-of-type {\n",
       "        vertical-align: middle;\n",
       "    }\n",
       "\n",
       "    .dataframe tbody tr th {\n",
       "        vertical-align: top;\n",
       "    }\n",
       "\n",
       "    .dataframe thead th {\n",
       "        text-align: right;\n",
       "    }\n",
       "</style>\n",
       "<table border=\"1\" class=\"dataframe\">\n",
       "  <thead>\n",
       "    <tr style=\"text-align: right;\">\n",
       "      <th></th>\n",
       "      <th>Ultimo aggiornamento</th>\n",
       "      <th>Capienza Regolamentare</th>\n",
       "      <th>Detenuti presenti - totale</th>\n",
       "      <th>Detenuti presenti - donne</th>\n",
       "      <th>Detenuti presenti - stranieri</th>\n",
       "      <th>Tasso di sovraffollamento</th>\n",
       "    </tr>\n",
       "  </thead>\n",
       "  <tbody>\n",
       "    <tr>\n",
       "      <th>64</th>\n",
       "      <td>2024-05-31</td>\n",
       "      <td>51241</td>\n",
       "      <td>61547</td>\n",
       "      <td>2663</td>\n",
       "      <td>19259</td>\n",
       "      <td>120</td>\n",
       "    </tr>\n",
       "    <tr>\n",
       "      <th>65</th>\n",
       "      <td>2024-06-30</td>\n",
       "      <td>51234</td>\n",
       "      <td>61480</td>\n",
       "      <td>2682</td>\n",
       "      <td>19213</td>\n",
       "      <td>120</td>\n",
       "    </tr>\n",
       "    <tr>\n",
       "      <th>66</th>\n",
       "      <td>2024-07-31</td>\n",
       "      <td>51207</td>\n",
       "      <td>61133</td>\n",
       "      <td>2682</td>\n",
       "      <td>19150</td>\n",
       "      <td>119</td>\n",
       "    </tr>\n",
       "    <tr>\n",
       "      <th>67</th>\n",
       "      <td>2024-08-31</td>\n",
       "      <td>50911</td>\n",
       "      <td>61758</td>\n",
       "      <td>2686</td>\n",
       "      <td>19507</td>\n",
       "      <td>121</td>\n",
       "    </tr>\n",
       "    <tr>\n",
       "      <th>68</th>\n",
       "      <td>2024-09-30</td>\n",
       "      <td>102392</td>\n",
       "      <td>123724</td>\n",
       "      <td>5346</td>\n",
       "      <td>39154</td>\n",
       "      <td>121</td>\n",
       "    </tr>\n",
       "  </tbody>\n",
       "</table>\n",
       "</div>"
      ],
      "text/plain": [
       "   Ultimo aggiornamento  Capienza Regolamentare  Detenuti presenti - totale  \\\n",
       "64           2024-05-31                   51241                       61547   \n",
       "65           2024-06-30                   51234                       61480   \n",
       "66           2024-07-31                   51207                       61133   \n",
       "67           2024-08-31                   50911                       61758   \n",
       "68           2024-09-30                  102392                      123724   \n",
       "\n",
       "    Detenuti presenti - donne  Detenuti presenti - stranieri  \\\n",
       "64                       2663                          19259   \n",
       "65                       2682                          19213   \n",
       "66                       2682                          19150   \n",
       "67                       2686                          19507   \n",
       "68                       5346                          39154   \n",
       "\n",
       "    Tasso di sovraffollamento  \n",
       "64                        120  \n",
       "65                        120  \n",
       "66                        119  \n",
       "67                        121  \n",
       "68                        121  "
      ]
     },
     "execution_count": 4,
     "metadata": {},
     "output_type": "execute_result"
    }
   ],
   "source": [
    "grouped_df['Tasso di sovraffollamento'] = round((grouped_df['Detenuti presenti - totale'] / grouped_df['Capienza Regolamentare']) * 100, 0).astype(int)\n",
    "\n",
    "grouped_df.tail()"
   ]
  },
  {
   "cell_type": "code",
   "execution_count": 5,
   "metadata": {
    "execution": {
     "iopub.execute_input": "2024-10-15T05:07:39.322893Z",
     "iopub.status.busy": "2024-10-15T05:07:39.322695Z",
     "iopub.status.idle": "2024-10-15T05:07:39.326930Z",
     "shell.execute_reply": "2024-10-15T05:07:39.326440Z"
    }
   },
   "outputs": [],
   "source": [
    "grouped_df.to_csv('../outputs/viz/bulletines_totals.csv', index=False, encoding='UTF-8')"
   ]
  }
 ],
 "metadata": {
  "kernelspec": {
   "display_name": "Python 3",
   "language": "python",
   "name": "python3"
  },
  "language_info": {
   "codemirror_mode": {
    "name": "ipython",
    "version": 3
   },
   "file_extension": ".py",
   "mimetype": "text/x-python",
   "name": "python",
   "nbconvert_exporter": "python",
   "pygments_lexer": "ipython3",
   "version": "3.10.15"
  }
 },
 "nbformat": 4,
 "nbformat_minor": 2
}

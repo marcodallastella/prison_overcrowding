{
 "cells": [
  {
   "cell_type": "markdown",
   "metadata": {},
   "source": [
    "# Scraper institutes\n",
    "This notebook is a monthly scraper used to retrieve information about condition in detention centers in Italy. To do so, it uses the id numbers of the various detention centers to navigate to the dedicated webpages with Selenium, store locally the html code of the page and then parse it using BeautifuSoup. The information is then stored in a pandas dataframe and saved as a csv file."
   ]
  },
  {
   "cell_type": "code",
   "execution_count": 1,
   "metadata": {
    "execution": {
     "iopub.execute_input": "2024-09-23T00:20:21.730327Z",
     "iopub.status.busy": "2024-09-23T00:20:21.729831Z",
     "iopub.status.idle": "2024-09-23T00:20:22.111704Z",
     "shell.execute_reply": "2024-09-23T00:20:22.111064Z"
    }
   },
   "outputs": [],
   "source": [
    "import pandas as pd\n",
    "import requests\n",
    "import datetime\n",
    "from bs4 import BeautifulSoup\n",
    "import asyncio\n",
    "from playwright.async_api import async_playwright\n",
    "from time import sleep\n",
    "from pathlib import Path"
   ]
  },
  {
   "cell_type": "code",
   "execution_count": 2,
   "metadata": {
    "execution": {
     "iopub.execute_input": "2024-09-23T00:20:22.114355Z",
     "iopub.status.busy": "2024-09-23T00:20:22.113871Z",
     "iopub.status.idle": "2024-09-23T00:20:22.117077Z",
     "shell.execute_reply": "2024-09-23T00:20:22.116550Z"
    }
   },
   "outputs": [],
   "source": [
    "# Get current date\n",
    "current_month = datetime.datetime.now().strftime(\"%Y-%m\")\n",
    "current_day = datetime.datetime.now().strftime(\"%Y-%m-%d\")"
   ]
  },
  {
   "cell_type": "code",
   "execution_count": 3,
   "metadata": {
    "execution": {
     "iopub.execute_input": "2024-09-23T00:20:22.119191Z",
     "iopub.status.busy": "2024-09-23T00:20:22.118801Z",
     "iopub.status.idle": "2024-09-23T00:20:22.125142Z",
     "shell.execute_reply": "2024-09-23T00:20:22.124466Z"
    }
   },
   "outputs": [],
   "source": [
    "# Collect institutes id numbers\n",
    "df_institutes = pd.read_csv(f'../outputs/clean/istituti_info.csv')\n",
    "prison_ids = df_institutes['id_istituto'].tolist()"
   ]
  },
  {
   "cell_type": "code",
   "execution_count": 4,
   "metadata": {
    "execution": {
     "iopub.execute_input": "2024-09-23T00:20:22.127051Z",
     "iopub.status.busy": "2024-09-23T00:20:22.126846Z",
     "iopub.status.idle": "2024-09-23T00:20:22.131624Z",
     "shell.execute_reply": "2024-09-23T00:20:22.131118Z"
    }
   },
   "outputs": [],
   "source": [
    "# Function to grab the html code of the page\n",
    "async def get_html(prison_id, current_day):\n",
    "\n",
    "    dest = Path(f\"../outputs/raw/snapshots/{current_day}_{prison_id}.html\")\n",
    "\n",
    "    if dest.exists() : #... load it from file\n",
    "        print(f\"Already have {dest}, loading!\")\n",
    "        page_html = open(dest).read()\n",
    "    else:\n",
    "        BASE_URL = \"https://www.giustizia.it/giustizia/it/dettaglio_scheda.page?s=\"\n",
    "        playwright = await async_playwright().start()\n",
    "    \n",
    "        try:\n",
    "            browser = await playwright.firefox.launch()\n",
    "            context = await browser.new_context(viewport={'width': 1280, 'height': 800})\n",
    "            page = await context.new_page()\n",
    "            await page.goto(f\"{BASE_URL}{prison_id}\")\n",
    "            print(\"Fetching \" + prison_id)\n",
    "            page_html = await page.content()\n",
    "            \n",
    "            # Stores html code in dest\n",
    "            # dest.write_text(page_html)\n",
    "        finally:\n",
    "            await browser.close()\n",
    "            await playwright.stop()\n",
    "    \n",
    "    return page_html"
   ]
  },
  {
   "cell_type": "code",
   "execution_count": 5,
   "metadata": {
    "execution": {
     "iopub.execute_input": "2024-09-23T00:20:22.133651Z",
     "iopub.status.busy": "2024-09-23T00:20:22.133278Z",
     "iopub.status.idle": "2024-09-23T00:20:22.142718Z",
     "shell.execute_reply": "2024-09-23T00:20:22.142186Z"
    }
   },
   "outputs": [],
   "source": [
    "# Function to extract institute name and type\n",
    "def extract_institute_details(soup):\n",
    "    institute_name = soup.find('h1', {'class': 'titoloIstituto'}).text.strip()\n",
    "    institute_type = soup.find('h3', {'class': 'titoloIstituto'}).text.strip()\n",
    "    return institute_name, institute_type\n",
    "\n",
    "# Function to extract capacity table data\n",
    "def extract_capacity_data(soup):\n",
    "    table_capienze = soup.find_all('table')[0]\n",
    "    rows = table_capienze.find_all('tr')\n",
    "    if len(rows) > 1:  # Ensure there are rows in the table\n",
    "        cells = rows[1].find_all('td') \n",
    "        posti_regolamentari = int(cells[0].text.strip())\n",
    "        posti_non_disponibili = int(cells[1].text.strip())\n",
    "        totale_detenuti = int(cells[2].text.strip())\n",
    "    else:\n",
    "        posti_regolamentari = posti_non_disponibili = totale_detenuti = 0\n",
    "    return posti_regolamentari, posti_non_disponibili, totale_detenuti\n",
    "\n",
    "# Function to extract updated date\n",
    "def extract_updated_date(soup, header_text):\n",
    "    target_span = soup.find('h2', text=header_text)\n",
    "    if target_span:\n",
    "        span = target_span.find_next_sibling('span')\n",
    "        return span.text.strip() if span else 'NA'\n",
    "    return 'NA'\n",
    "\n",
    "def extract_personnel_details(soup, header_text):\n",
    "    target_span = soup.find('h2', text=header_text)\n",
    "    if target_span:\n",
    "        try:\n",
    "            div = target_span.find_next('div', {'class': 'listaContenutiComplessi'})\n",
    "            spans = div.find_all('span', {'class': 'valoreSottocampo'})\n",
    "            return spans[0].text.strip(), spans[1].text.strip(), spans[2].text.strip()\n",
    "        except:\n",
    "            return 'NA', 'NA', 'NA'\n",
    "    return 'NA', 'NA', 'NA'\n",
    "\n",
    "# Function to extract staff table data\n",
    "def extract_staff_data(soup):\n",
    "    table_staff = soup.find_all('table')[1]\n",
    "    cells = table_staff.find_all('td')\n",
    "    polizia_penitenziaria_effettivi = int(cells[0].text.strip())\n",
    "    polizia_penitenziaria_previsti = int(cells[1].text.strip())\n",
    "    amministrativi_effettivi = int(cells[2].text.strip())\n",
    "    amministrativi_previsti = int(cells[3].text.strip())\n",
    "    educatori_effettivi = int(cells[4].text.strip())\n",
    "    educatori_previsti = int(cells[5].text.strip())\n",
    "    return (polizia_penitenziaria_effettivi, polizia_penitenziaria_previsti,\n",
    "            amministrativi_effettivi, amministrativi_previsti,\n",
    "            educatori_effettivi, educatori_previsti)\n",
    "\n",
    "# Function to extract last update date\n",
    "def extract_date_of_last_update(soup):\n",
    "    # Police staff\n",
    "    target_span= soup.find('h2', text='personale polizia penitenziaria aggiornato al')\n",
    "    try:\n",
    "        span = target_span.find_next_sibling('span')\n",
    "        personale_polizia_aggiornato_al = span.text.strip()\n",
    "    except:\n",
    "        personale_polizia_aggiornato_al = 'NA'\n",
    "\n",
    "    # Administrative staff\n",
    "    target_span= soup.find('h2', text='personale amministrativo aggiornato al')\n",
    "    try:\n",
    "        span = target_span.find_next_sibling('span')\n",
    "        personale_amministrativo_aggiornato_al = span.text.strip()\n",
    "    except:\n",
    "        personale_amministrativo_aggiornato_al = 'NA'\n",
    "\n",
    "    return personale_polizia_aggiornato_al, personale_amministrativo_aggiornato_al\n",
    "    "
   ]
  },
  {
   "cell_type": "code",
   "execution_count": 6,
   "metadata": {
    "execution": {
     "iopub.execute_input": "2024-09-23T00:20:22.144785Z",
     "iopub.status.busy": "2024-09-23T00:20:22.144418Z",
     "iopub.status.idle": "2024-09-23T00:20:22.149537Z",
     "shell.execute_reply": "2024-09-23T00:20:22.149028Z"
    }
   },
   "outputs": [],
   "source": [
    "# Function to extract institute data\n",
    "def get_prison_data(soup, current_day):\n",
    "\n",
    "    institute_name, institute_type = extract_institute_details(soup)\n",
    "    posti_regolamentari, posti_non_disponibili, totale_detenuti = extract_capacity_data(soup)\n",
    "    dati_aggiornati_al = extract_updated_date(soup, 'dati aggiornati al ')\n",
    "    asl, first_name_asl, last_name_asl = extract_personnel_details(soup, 'Responsabile ASL per il carcere')\n",
    "    first_name, last_name, role = extract_personnel_details(soup, 'Direttore')\n",
    "    (polizia_penitenziaria_effettivi, polizia_penitenziaria_previsti, amministrativi_effettivi, amministrativi_previsti, educatori_effettivi, educatori_previsti) = extract_staff_data(soup)\n",
    "    personale_polizia_aggiornato_al, personale_amministrativo_aggiornato_al = extract_date_of_last_update(soup)\n",
    "\n",
    "    prison_data = {\n",
    "            'id': prison_id,\n",
    "            'nome': institute_name,\n",
    "            'tipo': institute_type,\n",
    "            'posti_regolamentari': posti_regolamentari,\n",
    "            'posti_non_disponibili': posti_non_disponibili,\n",
    "            'posti_occupati': totale_detenuti,\n",
    "            'posti_aggiornati_al': dati_aggiornati_al,\n",
    "            'asl': asl,\n",
    "            'nome_responsabile_asl': first_name_asl,\n",
    "            'cognome_responsabile_asl': last_name_asl,\n",
    "            'nome_direttore': first_name,\n",
    "            'cognome_direttore': last_name,\n",
    "            'ruolo_direttore': role,\n",
    "            'personale_polizia_effettivi': polizia_penitenziaria_effettivi,\n",
    "            'personale_polizia_previsti': polizia_penitenziaria_previsti,\n",
    "            'personale_amministrativi_effettivi': amministrativi_effettivi,\n",
    "            'personale_amministrativi_previsti': amministrativi_previsti,\n",
    "            'personale_educatori_effettivi': educatori_effettivi,\n",
    "            'personale_educatori_previsti': educatori_previsti,\n",
    "            'personale_polizia_aggiornato_a': personale_polizia_aggiornato_al,\n",
    "            'personale_amministrativo_aggiornato_al': personale_amministrativo_aggiornato_al,\n",
    "        }\n",
    "        \n",
    "    return prison_data"
   ]
  },
  {
   "cell_type": "code",
   "execution_count": 7,
   "metadata": {
    "execution": {
     "iopub.execute_input": "2024-09-23T00:20:22.151454Z",
     "iopub.status.busy": "2024-09-23T00:20:22.151103Z",
     "iopub.status.idle": "2024-09-23T00:56:23.139485Z",
     "shell.execute_reply": "2024-09-23T00:56:23.138845Z"
    }
   },
   "outputs": [
    {
     "name": "stdout",
     "output_type": "stream",
     "text": [
      "Fetching MII179988\n"
     ]
    },
    {
     "name": "stderr",
     "output_type": "stream",
     "text": [
      "/tmp/ipykernel_3318/3915262977.py:22: DeprecationWarning: The 'text' argument to find()-type methods is deprecated. Use 'string' instead.\n",
      "  target_span = soup.find('h2', text=header_text)\n",
      "/tmp/ipykernel_3318/3915262977.py:29: DeprecationWarning: The 'text' argument to find()-type methods is deprecated. Use 'string' instead.\n",
      "  target_span = soup.find('h2', text=header_text)\n",
      "/tmp/ipykernel_3318/3915262977.py:56: DeprecationWarning: The 'text' argument to find()-type methods is deprecated. Use 'string' instead.\n",
      "  target_span= soup.find('h2', text='personale polizia penitenziaria aggiornato al')\n",
      "/tmp/ipykernel_3318/3915262977.py:64: DeprecationWarning: The 'text' argument to find()-type methods is deprecated. Use 'string' instead.\n",
      "  target_span= soup.find('h2', text='personale amministrativo aggiornato al')\n"
     ]
    },
    {
     "name": "stdout",
     "output_type": "stream",
     "text": [
      "Fetching MII172610\n"
     ]
    },
    {
     "name": "stdout",
     "output_type": "stream",
     "text": [
      "Fetching MII172320\n"
     ]
    },
    {
     "name": "stdout",
     "output_type": "stream",
     "text": [
      "Fetching MII173712\n"
     ]
    },
    {
     "name": "stdout",
     "output_type": "stream",
     "text": [
      "Fetching MII173747\n"
     ]
    },
    {
     "name": "stdout",
     "output_type": "stream",
     "text": [
      "Fetching MII177436\n"
     ]
    },
    {
     "name": "stdout",
     "output_type": "stream",
     "text": [
      "Fetching MII178027\n"
     ]
    },
    {
     "name": "stdout",
     "output_type": "stream",
     "text": [
      "Fetching MII178072\n"
     ]
    },
    {
     "name": "stdout",
     "output_type": "stream",
     "text": [
      "Fetching MII178659\n"
     ]
    },
    {
     "name": "stdout",
     "output_type": "stream",
     "text": [
      "Fetching MII182910\n"
     ]
    },
    {
     "name": "stdout",
     "output_type": "stream",
     "text": [
      "Fetching MII181346\n"
     ]
    },
    {
     "name": "stdout",
     "output_type": "stream",
     "text": [
      "Fetching MII181703\n"
     ]
    },
    {
     "name": "stdout",
     "output_type": "stream",
     "text": [
      "Fetching MII179733\n"
     ]
    },
    {
     "name": "stdout",
     "output_type": "stream",
     "text": [
      "Fetching MII173311\n"
     ]
    },
    {
     "name": "stdout",
     "output_type": "stream",
     "text": [
      "Fetching MII173324\n"
     ]
    },
    {
     "name": "stdout",
     "output_type": "stream",
     "text": [
      "Fetching MII179342\n"
     ]
    },
    {
     "name": "stdout",
     "output_type": "stream",
     "text": [
      "Fetching MII179353\n"
     ]
    },
    {
     "name": "stdout",
     "output_type": "stream",
     "text": [
      "Fetching MII180415\n"
     ]
    },
    {
     "name": "stdout",
     "output_type": "stream",
     "text": [
      "Fetching MII181908\n"
     ]
    },
    {
     "name": "stdout",
     "output_type": "stream",
     "text": [
      "Fetching MII159053\n"
     ]
    },
    {
     "name": "stdout",
     "output_type": "stream",
     "text": [
      "Fetching MII172187\n"
     ]
    },
    {
     "name": "stdout",
     "output_type": "stream",
     "text": [
      "Fetching MII173101\n"
     ]
    },
    {
     "name": "stdout",
     "output_type": "stream",
     "text": [
      "Fetching MII173784\n"
     ]
    },
    {
     "name": "stdout",
     "output_type": "stream",
     "text": [
      "Fetching MII172580\n"
     ]
    },
    {
     "name": "stdout",
     "output_type": "stream",
     "text": [
      "Fetching MII176719\n"
     ]
    },
    {
     "name": "stdout",
     "output_type": "stream",
     "text": [
      "Fetching MII179290\n"
     ]
    },
    {
     "name": "stdout",
     "output_type": "stream",
     "text": [
      "Fetching MII180487\n"
     ]
    },
    {
     "name": "stdout",
     "output_type": "stream",
     "text": [
      "Fetching MII179913\n"
     ]
    },
    {
     "name": "stdout",
     "output_type": "stream",
     "text": [
      "Fetching MII180424\n"
     ]
    },
    {
     "name": "stdout",
     "output_type": "stream",
     "text": [
      "Fetching MII159065\n"
     ]
    },
    {
     "name": "stdout",
     "output_type": "stream",
     "text": [
      "Fetching MII173237\n"
     ]
    },
    {
     "name": "stdout",
     "output_type": "stream",
     "text": [
      "Fetching MII174501\n"
     ]
    },
    {
     "name": "stdout",
     "output_type": "stream",
     "text": [
      "Fetching MII181645\n"
     ]
    },
    {
     "name": "stdout",
     "output_type": "stream",
     "text": [
      "Fetching MII176424\n"
     ]
    },
    {
     "name": "stdout",
     "output_type": "stream",
     "text": [
      "Fetching MII181661\n"
     ]
    },
    {
     "name": "stdout",
     "output_type": "stream",
     "text": [
      "Fetching MII181672\n"
     ]
    },
    {
     "name": "stdout",
     "output_type": "stream",
     "text": [
      "Fetching MII179818\n"
     ]
    },
    {
     "name": "stdout",
     "output_type": "stream",
     "text": [
      "Fetching MII181863\n"
     ]
    },
    {
     "name": "stdout",
     "output_type": "stream",
     "text": [
      "Fetching MII181847\n"
     ]
    },
    {
     "name": "stdout",
     "output_type": "stream",
     "text": [
      "Fetching MII181891\n"
     ]
    },
    {
     "name": "stdout",
     "output_type": "stream",
     "text": [
      "Fetching MII182440\n"
     ]
    },
    {
     "name": "stdout",
     "output_type": "stream",
     "text": [
      "Fetching MII173088\n"
     ]
    },
    {
     "name": "stdout",
     "output_type": "stream",
     "text": [
      "Fetching MII157783\n"
     ]
    },
    {
     "name": "stdout",
     "output_type": "stream",
     "text": [
      "Fetching MII173114\n"
     ]
    },
    {
     "name": "stdout",
     "output_type": "stream",
     "text": [
      "Fetching MII173364\n"
     ]
    },
    {
     "name": "stdout",
     "output_type": "stream",
     "text": [
      "Fetching MII159069\n"
     ]
    },
    {
     "name": "stdout",
     "output_type": "stream",
     "text": [
      "Fetching MII173688\n"
     ]
    },
    {
     "name": "stdout",
     "output_type": "stream",
     "text": [
      "Fetching MII173356\n"
     ]
    },
    {
     "name": "stdout",
     "output_type": "stream",
     "text": [
      "Fetching MII176437\n"
     ]
    },
    {
     "name": "stdout",
     "output_type": "stream",
     "text": [
      "Fetching MII173764\n"
     ]
    },
    {
     "name": "stdout",
     "output_type": "stream",
     "text": [
      "Fetching MII181636\n"
     ]
    },
    {
     "name": "stdout",
     "output_type": "stream",
     "text": [
      "Fetching MII172814\n"
     ]
    },
    {
     "name": "stdout",
     "output_type": "stream",
     "text": [
      "Fetching MII176759\n"
     ]
    },
    {
     "name": "stdout",
     "output_type": "stream",
     "text": [
      "Fetching MII176703\n"
     ]
    },
    {
     "name": "stdout",
     "output_type": "stream",
     "text": [
      "Fetching MII177323\n"
     ]
    },
    {
     "name": "stdout",
     "output_type": "stream",
     "text": [
      "Fetching MII176749\n"
     ]
    },
    {
     "name": "stdout",
     "output_type": "stream",
     "text": [
      "Fetching MII176781\n"
     ]
    },
    {
     "name": "stdout",
     "output_type": "stream",
     "text": [
      "Fetching MII179331\n"
     ]
    },
    {
     "name": "stdout",
     "output_type": "stream",
     "text": [
      "Fetching MII176788\n"
     ]
    },
    {
     "name": "stdout",
     "output_type": "stream",
     "text": [
      "Fetching MII169535\n"
     ]
    },
    {
     "name": "stdout",
     "output_type": "stream",
     "text": [
      "Fetching MII180401\n"
     ]
    },
    {
     "name": "stdout",
     "output_type": "stream",
     "text": [
      "Fetching MII180437\n"
     ]
    },
    {
     "name": "stdout",
     "output_type": "stream",
     "text": [
      "Fetching MII180380\n"
     ]
    },
    {
     "name": "stdout",
     "output_type": "stream",
     "text": [
      "Fetching MII180356\n"
     ]
    },
    {
     "name": "stdout",
     "output_type": "stream",
     "text": [
      "Fetching MII180348\n"
     ]
    },
    {
     "name": "stdout",
     "output_type": "stream",
     "text": [
      "Fetching MII181870\n"
     ]
    },
    {
     "name": "stdout",
     "output_type": "stream",
     "text": [
      "Fetching MII179299\n"
     ]
    },
    {
     "name": "stdout",
     "output_type": "stream",
     "text": [
      "Fetching MII181371\n"
     ]
    },
    {
     "name": "stdout",
     "output_type": "stream",
     "text": [
      "Fetching MII181820\n"
     ]
    },
    {
     "name": "stdout",
     "output_type": "stream",
     "text": [
      "Fetching MII181839\n"
     ]
    },
    {
     "name": "stdout",
     "output_type": "stream",
     "text": [
      "Fetching MII181424\n"
     ]
    },
    {
     "name": "stdout",
     "output_type": "stream",
     "text": [
      "Fetching MII158919\n"
     ]
    },
    {
     "name": "stdout",
     "output_type": "stream",
     "text": [
      "Fetching MII179995\n"
     ]
    },
    {
     "name": "stdout",
     "output_type": "stream",
     "text": [
      "Fetching MII158924\n"
     ]
    },
    {
     "name": "stdout",
     "output_type": "stream",
     "text": [
      "Fetching MII172277\n"
     ]
    },
    {
     "name": "stdout",
     "output_type": "stream",
     "text": [
      "Fetching MII158948\n"
     ]
    },
    {
     "name": "stdout",
     "output_type": "stream",
     "text": [
      "Fetching MII181678\n"
     ]
    },
    {
     "name": "stdout",
     "output_type": "stream",
     "text": [
      "Fetching MII174720\n"
     ]
    },
    {
     "name": "stdout",
     "output_type": "stream",
     "text": [
      "Fetching MII172623\n"
     ]
    },
    {
     "name": "stdout",
     "output_type": "stream",
     "text": [
      "Fetching MII176743\n"
     ]
    },
    {
     "name": "stdout",
     "output_type": "stream",
     "text": [
      "Fetching MII176375\n"
     ]
    },
    {
     "name": "stdout",
     "output_type": "stream",
     "text": [
      "Fetching MII177498\n"
     ]
    },
    {
     "name": "stdout",
     "output_type": "stream",
     "text": [
      "Fetching MII177463\n"
     ]
    },
    {
     "name": "stdout",
     "output_type": "stream",
     "text": [
      "Fetching MII178035\n"
     ]
    },
    {
     "name": "stdout",
     "output_type": "stream",
     "text": [
      "Fetching MII178124\n"
     ]
    },
    {
     "name": "stdout",
     "output_type": "stream",
     "text": [
      "Fetching MII178141\n"
     ]
    },
    {
     "name": "stdout",
     "output_type": "stream",
     "text": [
      "Fetching MII179938\n"
     ]
    },
    {
     "name": "stdout",
     "output_type": "stream",
     "text": [
      "Fetching MII179280\n"
     ]
    },
    {
     "name": "stdout",
     "output_type": "stream",
     "text": [
      "Fetching MII180476\n"
     ]
    },
    {
     "name": "stdout",
     "output_type": "stream",
     "text": [
      "Fetching MII181434\n"
     ]
    },
    {
     "name": "stdout",
     "output_type": "stream",
     "text": [
      "Fetching MII182919\n"
     ]
    },
    {
     "name": "stdout",
     "output_type": "stream",
     "text": [
      "Fetching MII181681\n"
     ]
    },
    {
     "name": "stdout",
     "output_type": "stream",
     "text": [
      "Fetching MII179896\n"
     ]
    },
    {
     "name": "stdout",
     "output_type": "stream",
     "text": [
      "Fetching MII158935\n"
     ]
    },
    {
     "name": "stdout",
     "output_type": "stream",
     "text": [
      "Fetching MII179958\n"
     ]
    },
    {
     "name": "stdout",
     "output_type": "stream",
     "text": [
      "Fetching MII158945\n"
     ]
    },
    {
     "name": "stdout",
     "output_type": "stream",
     "text": [
      "Fetching MII180458\n"
     ]
    },
    {
     "name": "stdout",
     "output_type": "stream",
     "text": [
      "Fetching MII181115\n"
     ]
    },
    {
     "name": "stdout",
     "output_type": "stream",
     "text": [
      "Fetching MII181358\n"
     ]
    },
    {
     "name": "stdout",
     "output_type": "stream",
     "text": [
      "Fetching MII172835\n"
     ]
    },
    {
     "name": "stdout",
     "output_type": "stream",
     "text": [
      "Fetching MII158910\n"
     ]
    },
    {
     "name": "stdout",
     "output_type": "stream",
     "text": [
      "Fetching MII177118\n"
     ]
    },
    {
     "name": "stdout",
     "output_type": "stream",
     "text": [
      "Fetching MII179224\n"
     ]
    },
    {
     "name": "stdout",
     "output_type": "stream",
     "text": [
      "Fetching MII172222\n"
     ]
    },
    {
     "name": "stdout",
     "output_type": "stream",
     "text": [
      "Fetching MII178003\n"
     ]
    },
    {
     "name": "stdout",
     "output_type": "stream",
     "text": [
      "Fetching MII179274\n"
     ]
    },
    {
     "name": "stdout",
     "output_type": "stream",
     "text": [
      "Fetching MII181385\n"
     ]
    },
    {
     "name": "stdout",
     "output_type": "stream",
     "text": [
      "Fetching MII179965\n"
     ]
    },
    {
     "name": "stdout",
     "output_type": "stream",
     "text": [
      "Fetching MII181109\n"
     ]
    },
    {
     "name": "stdout",
     "output_type": "stream",
     "text": [
      "Fetching MII178666\n"
     ]
    },
    {
     "name": "stdout",
     "output_type": "stream",
     "text": [
      "Fetching MII178672\n"
     ]
    },
    {
     "name": "stdout",
     "output_type": "stream",
     "text": [
      "Fetching MII172592\n"
     ]
    },
    {
     "name": "stdout",
     "output_type": "stream",
     "text": [
      "Fetching MII158895\n"
     ]
    },
    {
     "name": "stdout",
     "output_type": "stream",
     "text": [
      "Fetching MII178501\n"
     ]
    },
    {
     "name": "stdout",
     "output_type": "stream",
     "text": [
      "Fetching MII174825\n"
     ]
    },
    {
     "name": "stdout",
     "output_type": "stream",
     "text": [
      "Fetching MII179932\n"
     ]
    },
    {
     "name": "stdout",
     "output_type": "stream",
     "text": [
      "Fetching MII181407\n"
     ]
    },
    {
     "name": "stdout",
     "output_type": "stream",
     "text": [
      "Fetching MII180465\n"
     ]
    },
    {
     "name": "stdout",
     "output_type": "stream",
     "text": [
      "Fetching MII158944\n"
     ]
    },
    {
     "name": "stdout",
     "output_type": "stream",
     "text": [
      "Fetching MII158941\n"
     ]
    },
    {
     "name": "stdout",
     "output_type": "stream",
     "text": [
      "Fetching MII172011\n"
     ]
    },
    {
     "name": "stdout",
     "output_type": "stream",
     "text": [
      "Fetching MII181392\n"
     ]
    },
    {
     "name": "stdout",
     "output_type": "stream",
     "text": [
      "Fetching MII181918\n"
     ]
    },
    {
     "name": "stdout",
     "output_type": "stream",
     "text": [
      "Fetching MII178085\n"
     ]
    },
    {
     "name": "stdout",
     "output_type": "stream",
     "text": [
      "Fetching MII178115\n"
     ]
    },
    {
     "name": "stdout",
     "output_type": "stream",
     "text": [
      "Fetching MII177420\n"
     ]
    },
    {
     "name": "stdout",
     "output_type": "stream",
     "text": [
      "Fetching MII179830\n"
     ]
    },
    {
     "name": "stdout",
     "output_type": "stream",
     "text": [
      "Fetching MII179945\n"
     ]
    },
    {
     "name": "stdout",
     "output_type": "stream",
     "text": [
      "Fetching MII177346\n"
     ]
    },
    {
     "name": "stdout",
     "output_type": "stream",
     "text": [
      "Fetching MII181440\n"
     ]
    },
    {
     "name": "stdout",
     "output_type": "stream",
     "text": [
      "Fetching MII159314\n"
     ]
    },
    {
     "name": "stdout",
     "output_type": "stream",
     "text": [
      "Fetching MII173006\n"
     ]
    },
    {
     "name": "stdout",
     "output_type": "stream",
     "text": [
      "Fetching MII173259\n"
     ]
    },
    {
     "name": "stdout",
     "output_type": "stream",
     "text": [
      "Fetching MII173301\n"
     ]
    },
    {
     "name": "stdout",
     "output_type": "stream",
     "text": [
      "Fetching MII173813\n"
     ]
    },
    {
     "name": "stdout",
     "output_type": "stream",
     "text": [
      "Fetching MII173994\n"
     ]
    },
    {
     "name": "stdout",
     "output_type": "stream",
     "text": [
      "Fetching MII176451\n"
     ]
    },
    {
     "name": "stdout",
     "output_type": "stream",
     "text": [
      "Fetching MII176714\n"
     ]
    },
    {
     "name": "stdout",
     "output_type": "stream",
     "text": [
      "Fetching MII178681\n"
     ]
    },
    {
     "name": "stdout",
     "output_type": "stream",
     "text": [
      "Fetching MII180451\n"
     ]
    },
    {
     "name": "stdout",
     "output_type": "stream",
     "text": [
      "Fetching MII181401\n"
     ]
    },
    {
     "name": "stdout",
     "output_type": "stream",
     "text": [
      "Fetching MII181625\n"
     ]
    },
    {
     "name": "stdout",
     "output_type": "stream",
     "text": [
      "Fetching MII172332\n"
     ]
    },
    {
     "name": "stdout",
     "output_type": "stream",
     "text": [
      "Fetching MII179876\n"
     ]
    },
    {
     "name": "stdout",
     "output_type": "stream",
     "text": [
      "Fetching MII172208\n"
     ]
    },
    {
     "name": "stdout",
     "output_type": "stream",
     "text": [
      "Fetching MII181417\n"
     ]
    },
    {
     "name": "stdout",
     "output_type": "stream",
     "text": [
      "Fetching MII173063\n"
     ]
    },
    {
     "name": "stdout",
     "output_type": "stream",
     "text": [
      "Fetching MII158901\n"
     ]
    },
    {
     "name": "stdout",
     "output_type": "stream",
     "text": [
      "Fetching MII173341\n"
     ]
    },
    {
     "name": "stdout",
     "output_type": "stream",
     "text": [
      "Fetching MII172344\n"
     ]
    },
    {
     "name": "stdout",
     "output_type": "stream",
     "text": [
      "Fetching MII181691\n"
     ]
    },
    {
     "name": "stdout",
     "output_type": "stream",
     "text": [
      "Fetching MII160204\n"
     ]
    },
    {
     "name": "stdout",
     "output_type": "stream",
     "text": [
      "Fetching MII181934\n"
     ]
    },
    {
     "name": "stdout",
     "output_type": "stream",
     "text": [
      "Fetching MII172827\n"
     ]
    },
    {
     "name": "stdout",
     "output_type": "stream",
     "text": [
      "Fetching MII176771\n"
     ]
    },
    {
     "name": "stdout",
     "output_type": "stream",
     "text": [
      "Fetching MII159060\n"
     ]
    },
    {
     "name": "stdout",
     "output_type": "stream",
     "text": [
      "Fetching MII177134\n"
     ]
    },
    {
     "name": "stdout",
     "output_type": "stream",
     "text": [
      "Fetching MII178700\n"
     ]
    },
    {
     "name": "stdout",
     "output_type": "stream",
     "text": [
      "Fetching MII178148\n"
     ]
    },
    {
     "name": "stdout",
     "output_type": "stream",
     "text": [
      "Fetching MII173285\n"
     ]
    },
    {
     "name": "stdout",
     "output_type": "stream",
     "text": [
      "Fetching MII181079\n"
     ]
    },
    {
     "name": "stdout",
     "output_type": "stream",
     "text": [
      "Fetching MII177384\n"
     ]
    },
    {
     "name": "stdout",
     "output_type": "stream",
     "text": [
      "Fetching MII179324\n"
     ]
    },
    {
     "name": "stdout",
     "output_type": "stream",
     "text": [
      "Fetching MII181091\n"
     ]
    },
    {
     "name": "stdout",
     "output_type": "stream",
     "text": [
      "Fetching MII179781\n"
     ]
    },
    {
     "name": "stdout",
     "output_type": "stream",
     "text": [
      "Fetching MII181880\n"
     ]
    },
    {
     "name": "stdout",
     "output_type": "stream",
     "text": [
      "Fetching MII181924\n"
     ]
    },
    {
     "name": "stdout",
     "output_type": "stream",
     "text": [
      "Fetching MII177996\n"
     ]
    },
    {
     "name": "stdout",
     "output_type": "stream",
     "text": [
      "Fetching MII180370\n"
     ]
    },
    {
     "name": "stdout",
     "output_type": "stream",
     "text": [
      "Fetching MII173265\n"
     ]
    },
    {
     "name": "stdout",
     "output_type": "stream",
     "text": [
      "Fetching MII178045\n"
     ]
    },
    {
     "name": "stdout",
     "output_type": "stream",
     "text": [
      "Fetching MII177332\n"
     ]
    },
    {
     "name": "stdout",
     "output_type": "stream",
     "text": [
      "Fetching MII179856\n"
     ]
    },
    {
     "name": "stdout",
     "output_type": "stream",
     "text": [
      "Fetching MII177107\n"
     ]
    },
    {
     "name": "stdout",
     "output_type": "stream",
     "text": [
      "Fetching MII179306\n"
     ]
    },
    {
     "name": "stdout",
     "output_type": "stream",
     "text": [
      "Fetching MII180426\n"
     ]
    },
    {
     "name": "stdout",
     "output_type": "stream",
     "text": [
      "Fetching MII181377\n"
     ]
    },
    {
     "name": "stdout",
     "output_type": "stream",
     "text": [
      "Fetching MII176414\n"
     ]
    },
    {
     "name": "stdout",
     "output_type": "stream",
     "text": [
      "Fetching MII179237\n"
     ]
    },
    {
     "name": "stdout",
     "output_type": "stream",
     "text": [
      "Fetching MII152284\n"
     ]
    },
    {
     "name": "stdout",
     "output_type": "stream",
     "text": [
      "Fetching MII182339\n"
     ]
    },
    {
     "name": "stdout",
     "output_type": "stream",
     "text": [
      "Fetching MII180001\n"
     ]
    },
    {
     "name": "stdout",
     "output_type": "stream",
     "text": [
      "Fetching MII174686\n"
     ]
    },
    {
     "name": "stdout",
     "output_type": "stream",
     "text": [
      "Fetching MII179842\n"
     ]
    },
    {
     "name": "stdout",
     "output_type": "stream",
     "text": [
      "Fetching MII172508\n"
     ]
    },
    {
     "name": "stdout",
     "output_type": "stream",
     "text": [
      "Fetching MII179981\n"
     ]
    },
    {
     "name": "stdout",
     "output_type": "stream",
     "text": [
      "Fetching MII179364\n"
     ]
    },
    {
     "name": "stdout",
     "output_type": "stream",
     "text": [
      "Fetching MII176403\n"
     ]
    },
    {
     "name": "stdout",
     "output_type": "stream",
     "text": [
      "Fetching MII178638\n"
     ]
    },
    {
     "name": "stdout",
     "output_type": "stream",
     "text": [
      "Fetching MII181125\n"
     ]
    }
   ],
   "source": [
    "data = []\n",
    "\n",
    "for prison_id in prison_ids:\n",
    "    success = False\n",
    "    for attempt in range(5):\n",
    "        try:\n",
    "            html_content = await get_html(prison_id, current_month)\n",
    "            # Parse the html with BeautifulSoup\n",
    "            soup = BeautifulSoup(html_content, 'html.parser')\n",
    "            prison_data = get_prison_data(soup, current_day)\n",
    "\n",
    "            # Append prison_data to data list\n",
    "            data.append(prison_data)\n",
    "\n",
    "            success = True\n",
    "            break  # Break the retry loop if successful\n",
    "\n",
    "        except Exception as e:\n",
    "            print(f\"Attempt {attempt+1} failed for prison_id {prison_id}. Error: {e}\")\n",
    "            if attempt < 4:  # If not the last attempt, sleep for 10 seconds before retrying\n",
    "                sleep(10)\n",
    "\n",
    "    if not success:\n",
    "        print(f\"Failed to fetch data for prison_id {prison_id} after 5 attempts.\")\n",
    "\n",
    "    # Sleep for 3 seconds before making the next request\n",
    "    sleep(3)\n",
    "\n",
    "# Convert prison_data_list to a Pandas DataFrame\n",
    "data_df = pd.DataFrame(data)"
   ]
  },
  {
   "cell_type": "code",
   "execution_count": 8,
   "metadata": {
    "execution": {
     "iopub.execute_input": "2024-09-23T00:56:23.141932Z",
     "iopub.status.busy": "2024-09-23T00:56:23.141530Z",
     "iopub.status.idle": "2024-09-23T00:56:23.159300Z",
     "shell.execute_reply": "2024-09-23T00:56:23.158711Z"
    }
   },
   "outputs": [
    {
     "data": {
      "text/html": [
       "<div>\n",
       "<style scoped>\n",
       "    .dataframe tbody tr th:only-of-type {\n",
       "        vertical-align: middle;\n",
       "    }\n",
       "\n",
       "    .dataframe tbody tr th {\n",
       "        vertical-align: top;\n",
       "    }\n",
       "\n",
       "    .dataframe thead th {\n",
       "        text-align: right;\n",
       "    }\n",
       "</style>\n",
       "<table border=\"1\" class=\"dataframe\">\n",
       "  <thead>\n",
       "    <tr style=\"text-align: right;\">\n",
       "      <th></th>\n",
       "      <th>id</th>\n",
       "      <th>nome</th>\n",
       "      <th>tipo</th>\n",
       "      <th>posti_regolamentari</th>\n",
       "      <th>posti_non_disponibili</th>\n",
       "      <th>posti_occupati</th>\n",
       "      <th>posti_aggiornati_al</th>\n",
       "      <th>asl</th>\n",
       "      <th>nome_responsabile_asl</th>\n",
       "      <th>cognome_responsabile_asl</th>\n",
       "      <th>...</th>\n",
       "      <th>cognome_direttore</th>\n",
       "      <th>ruolo_direttore</th>\n",
       "      <th>personale_polizia_effettivi</th>\n",
       "      <th>personale_polizia_previsti</th>\n",
       "      <th>personale_amministrativi_effettivi</th>\n",
       "      <th>personale_amministrativi_previsti</th>\n",
       "      <th>personale_educatori_effettivi</th>\n",
       "      <th>personale_educatori_previsti</th>\n",
       "      <th>personale_polizia_aggiornato_a</th>\n",
       "      <th>personale_amministrativo_aggiornato_al</th>\n",
       "    </tr>\n",
       "  </thead>\n",
       "  <tbody>\n",
       "    <tr>\n",
       "      <th>0</th>\n",
       "      <td>MII179988</td>\n",
       "      <td>Reggio Calabria Arghillà</td>\n",
       "      <td>Casa circondariale</td>\n",
       "      <td>294</td>\n",
       "      <td>1</td>\n",
       "      <td>341</td>\n",
       "      <td>13/08/2024</td>\n",
       "      <td>5 Reggio Calabria</td>\n",
       "      <td>Luciano</td>\n",
       "      <td>Lucania</td>\n",
       "      <td>...</td>\n",
       "      <td>Stendardo</td>\n",
       "      <td>Titolare</td>\n",
       "      <td>131</td>\n",
       "      <td>164</td>\n",
       "      <td>12</td>\n",
       "      <td>32</td>\n",
       "      <td>5</td>\n",
       "      <td>8</td>\n",
       "      <td>31/07/2024</td>\n",
       "      <td>31/07/2024</td>\n",
       "    </tr>\n",
       "    <tr>\n",
       "      <th>1</th>\n",
       "      <td>MII172610</td>\n",
       "      <td>Brescia Verziano</td>\n",
       "      <td>Casa di reclusione</td>\n",
       "      <td>71</td>\n",
       "      <td>0</td>\n",
       "      <td>121</td>\n",
       "      <td>13/08/2024</td>\n",
       "      <td>Spedali Civili di Brescia</td>\n",
       "      <td>Luigi</td>\n",
       "      <td>Leone</td>\n",
       "      <td>...</td>\n",
       "      <td>NA</td>\n",
       "      <td>NA</td>\n",
       "      <td>79</td>\n",
       "      <td>95</td>\n",
       "      <td>2</td>\n",
       "      <td>0</td>\n",
       "      <td>1</td>\n",
       "      <td>0</td>\n",
       "      <td>31/07/2024</td>\n",
       "      <td>31/07/2024</td>\n",
       "    </tr>\n",
       "    <tr>\n",
       "      <th>2</th>\n",
       "      <td>MII172320</td>\n",
       "      <td>Busto Arsizio</td>\n",
       "      <td>Casa circondariale</td>\n",
       "      <td>240</td>\n",
       "      <td>10</td>\n",
       "      <td>433</td>\n",
       "      <td>13/08/2024</td>\n",
       "      <td>Busto Arsizio</td>\n",
       "      <td>Ezia</td>\n",
       "      <td>Iorio</td>\n",
       "      <td>...</td>\n",
       "      <td>Pitaniello</td>\n",
       "      <td>Titolare</td>\n",
       "      <td>193</td>\n",
       "      <td>190</td>\n",
       "      <td>16</td>\n",
       "      <td>21</td>\n",
       "      <td>5</td>\n",
       "      <td>5</td>\n",
       "      <td>31/07/2024</td>\n",
       "      <td>31/07/2024</td>\n",
       "    </tr>\n",
       "    <tr>\n",
       "      <th>3</th>\n",
       "      <td>MII173712</td>\n",
       "      <td>Como</td>\n",
       "      <td>Casa circondariale</td>\n",
       "      <td>226</td>\n",
       "      <td>0</td>\n",
       "      <td>433</td>\n",
       "      <td>13/08/2024</td>\n",
       "      <td>Como</td>\n",
       "      <td>Giuseppe</td>\n",
       "      <td>Carrano</td>\n",
       "      <td>...</td>\n",
       "      <td>Rinaldi</td>\n",
       "      <td>Titolare</td>\n",
       "      <td>208</td>\n",
       "      <td>216</td>\n",
       "      <td>18</td>\n",
       "      <td>23</td>\n",
       "      <td>6</td>\n",
       "      <td>6</td>\n",
       "      <td>31/07/2024</td>\n",
       "      <td>31/07/2024</td>\n",
       "    </tr>\n",
       "    <tr>\n",
       "      <th>4</th>\n",
       "      <td>MII173747</td>\n",
       "      <td>Cremona</td>\n",
       "      <td>Casa circondariale</td>\n",
       "      <td>394</td>\n",
       "      <td>10</td>\n",
       "      <td>558</td>\n",
       "      <td>13/08/2024</td>\n",
       "      <td>CREMONA</td>\n",
       "      <td>Rossano</td>\n",
       "      <td>Botto</td>\n",
       "      <td>...</td>\n",
       "      <td>Padula</td>\n",
       "      <td>Titolare</td>\n",
       "      <td>188</td>\n",
       "      <td>202</td>\n",
       "      <td>15</td>\n",
       "      <td>23</td>\n",
       "      <td>5</td>\n",
       "      <td>6</td>\n",
       "      <td>31/07/2024</td>\n",
       "      <td>31/07/2024</td>\n",
       "    </tr>\n",
       "    <tr>\n",
       "      <th>...</th>\n",
       "      <td>...</td>\n",
       "      <td>...</td>\n",
       "      <td>...</td>\n",
       "      <td>...</td>\n",
       "      <td>...</td>\n",
       "      <td>...</td>\n",
       "      <td>...</td>\n",
       "      <td>...</td>\n",
       "      <td>...</td>\n",
       "      <td>...</td>\n",
       "      <td>...</td>\n",
       "      <td>...</td>\n",
       "      <td>...</td>\n",
       "      <td>...</td>\n",
       "      <td>...</td>\n",
       "      <td>...</td>\n",
       "      <td>...</td>\n",
       "      <td>...</td>\n",
       "      <td>...</td>\n",
       "      <td>...</td>\n",
       "      <td>...</td>\n",
       "    </tr>\n",
       "    <tr>\n",
       "      <th>185</th>\n",
       "      <td>MII179981</td>\n",
       "      <td>Ravenna</td>\n",
       "      <td>Casa circondariale</td>\n",
       "      <td>49</td>\n",
       "      <td>0</td>\n",
       "      <td>78</td>\n",
       "      <td>13/08/2024</td>\n",
       "      <td>Romagna</td>\n",
       "      <td>Maurizio</td>\n",
       "      <td>Serra</td>\n",
       "      <td>...</td>\n",
       "      <td>Di Lena</td>\n",
       "      <td>Titolare</td>\n",
       "      <td>69</td>\n",
       "      <td>74</td>\n",
       "      <td>17</td>\n",
       "      <td>14</td>\n",
       "      <td>5</td>\n",
       "      <td>3</td>\n",
       "      <td>31/07/2024</td>\n",
       "      <td>31/07/2024</td>\n",
       "    </tr>\n",
       "    <tr>\n",
       "      <th>186</th>\n",
       "      <td>MII179364</td>\n",
       "      <td>Parma</td>\n",
       "      <td>Casa di reclusione</td>\n",
       "      <td>655</td>\n",
       "      <td>25</td>\n",
       "      <td>700</td>\n",
       "      <td>13/08/2024</td>\n",
       "      <td>PARMA</td>\n",
       "      <td>Choroma</td>\n",
       "      <td>FAISSAL</td>\n",
       "      <td>...</td>\n",
       "      <td>NA</td>\n",
       "      <td>NA</td>\n",
       "      <td>389</td>\n",
       "      <td>423</td>\n",
       "      <td>1</td>\n",
       "      <td>0</td>\n",
       "      <td>0</td>\n",
       "      <td>0</td>\n",
       "      <td>31/07/2024</td>\n",
       "      <td>31/07/2024</td>\n",
       "    </tr>\n",
       "    <tr>\n",
       "      <th>187</th>\n",
       "      <td>MII176403</td>\n",
       "      <td>Forlì</td>\n",
       "      <td>Casa circondariale</td>\n",
       "      <td>144</td>\n",
       "      <td>11</td>\n",
       "      <td>156</td>\n",
       "      <td>13/08/2024</td>\n",
       "      <td>Romagna</td>\n",
       "      <td>Alfonso</td>\n",
       "      <td>Casadei</td>\n",
       "      <td>...</td>\n",
       "      <td>De Lorenzo</td>\n",
       "      <td>Titolare</td>\n",
       "      <td>102</td>\n",
       "      <td>120</td>\n",
       "      <td>14</td>\n",
       "      <td>18</td>\n",
       "      <td>4</td>\n",
       "      <td>4</td>\n",
       "      <td>31/07/2024</td>\n",
       "      <td>31/07/2024</td>\n",
       "    </tr>\n",
       "    <tr>\n",
       "      <th>188</th>\n",
       "      <td>MII178638</td>\n",
       "      <td>Modena</td>\n",
       "      <td>Casa circondariale</td>\n",
       "      <td>372</td>\n",
       "      <td>0</td>\n",
       "      <td>545</td>\n",
       "      <td>13/08/2024</td>\n",
       "      <td>MODENA</td>\n",
       "      <td>Stefano</td>\n",
       "      <td>Petrella</td>\n",
       "      <td>...</td>\n",
       "      <td>Sorrentini</td>\n",
       "      <td>Titolare</td>\n",
       "      <td>246</td>\n",
       "      <td>222</td>\n",
       "      <td>23</td>\n",
       "      <td>27</td>\n",
       "      <td>6</td>\n",
       "      <td>6</td>\n",
       "      <td>31/07/2024</td>\n",
       "      <td>31/07/2024</td>\n",
       "    </tr>\n",
       "    <tr>\n",
       "      <th>189</th>\n",
       "      <td>MII181125</td>\n",
       "      <td>Siracusa</td>\n",
       "      <td>Casa circondariale</td>\n",
       "      <td>545</td>\n",
       "      <td>8</td>\n",
       "      <td>668</td>\n",
       "      <td>13/08/2024</td>\n",
       "      <td>NA</td>\n",
       "      <td>NA</td>\n",
       "      <td>NA</td>\n",
       "      <td>...</td>\n",
       "      <td>Tiralongo</td>\n",
       "      <td>Titolare</td>\n",
       "      <td>227</td>\n",
       "      <td>234</td>\n",
       "      <td>21</td>\n",
       "      <td>27</td>\n",
       "      <td>6</td>\n",
       "      <td>6</td>\n",
       "      <td>31/07/2024</td>\n",
       "      <td>31/07/2024</td>\n",
       "    </tr>\n",
       "  </tbody>\n",
       "</table>\n",
       "<p>190 rows × 21 columns</p>\n",
       "</div>"
      ],
      "text/plain": [
       "            id                      nome                tipo  \\\n",
       "0    MII179988  Reggio Calabria Arghillà  Casa circondariale   \n",
       "1    MII172610          Brescia Verziano  Casa di reclusione   \n",
       "2    MII172320             Busto Arsizio  Casa circondariale   \n",
       "3    MII173712                      Como  Casa circondariale   \n",
       "4    MII173747                   Cremona  Casa circondariale   \n",
       "..         ...                       ...                 ...   \n",
       "185  MII179981                   Ravenna  Casa circondariale   \n",
       "186  MII179364                     Parma  Casa di reclusione   \n",
       "187  MII176403                     Forlì  Casa circondariale   \n",
       "188  MII178638                    Modena  Casa circondariale   \n",
       "189  MII181125                  Siracusa  Casa circondariale   \n",
       "\n",
       "     posti_regolamentari  posti_non_disponibili  posti_occupati  \\\n",
       "0                    294                      1             341   \n",
       "1                     71                      0             121   \n",
       "2                    240                     10             433   \n",
       "3                    226                      0             433   \n",
       "4                    394                     10             558   \n",
       "..                   ...                    ...             ...   \n",
       "185                   49                      0              78   \n",
       "186                  655                     25             700   \n",
       "187                  144                     11             156   \n",
       "188                  372                      0             545   \n",
       "189                  545                      8             668   \n",
       "\n",
       "    posti_aggiornati_al                        asl nome_responsabile_asl  \\\n",
       "0            13/08/2024          5 Reggio Calabria               Luciano   \n",
       "1            13/08/2024  Spedali Civili di Brescia                 Luigi   \n",
       "2            13/08/2024              Busto Arsizio                  Ezia   \n",
       "3            13/08/2024                       Como              Giuseppe   \n",
       "4            13/08/2024                    CREMONA               Rossano   \n",
       "..                  ...                        ...                   ...   \n",
       "185          13/08/2024                    Romagna              Maurizio   \n",
       "186          13/08/2024                      PARMA               Choroma   \n",
       "187          13/08/2024                    Romagna               Alfonso   \n",
       "188          13/08/2024                     MODENA               Stefano   \n",
       "189          13/08/2024                         NA                    NA   \n",
       "\n",
       "    cognome_responsabile_asl  ... cognome_direttore ruolo_direttore  \\\n",
       "0                    Lucania  ...         Stendardo        Titolare   \n",
       "1                      Leone  ...                NA              NA   \n",
       "2                      Iorio  ...        Pitaniello        Titolare   \n",
       "3                    Carrano  ...           Rinaldi        Titolare   \n",
       "4                      Botto  ...            Padula        Titolare   \n",
       "..                       ...  ...               ...             ...   \n",
       "185                    Serra  ...           Di Lena        Titolare   \n",
       "186                  FAISSAL  ...                NA              NA   \n",
       "187                  Casadei  ...        De Lorenzo        Titolare   \n",
       "188                 Petrella  ...        Sorrentini        Titolare   \n",
       "189                       NA  ...         Tiralongo        Titolare   \n",
       "\n",
       "    personale_polizia_effettivi  personale_polizia_previsti  \\\n",
       "0                           131                         164   \n",
       "1                            79                          95   \n",
       "2                           193                         190   \n",
       "3                           208                         216   \n",
       "4                           188                         202   \n",
       "..                          ...                         ...   \n",
       "185                          69                          74   \n",
       "186                         389                         423   \n",
       "187                         102                         120   \n",
       "188                         246                         222   \n",
       "189                         227                         234   \n",
       "\n",
       "     personale_amministrativi_effettivi  personale_amministrativi_previsti  \\\n",
       "0                                    12                                 32   \n",
       "1                                     2                                  0   \n",
       "2                                    16                                 21   \n",
       "3                                    18                                 23   \n",
       "4                                    15                                 23   \n",
       "..                                  ...                                ...   \n",
       "185                                  17                                 14   \n",
       "186                                   1                                  0   \n",
       "187                                  14                                 18   \n",
       "188                                  23                                 27   \n",
       "189                                  21                                 27   \n",
       "\n",
       "     personale_educatori_effettivi  personale_educatori_previsti  \\\n",
       "0                                5                             8   \n",
       "1                                1                             0   \n",
       "2                                5                             5   \n",
       "3                                6                             6   \n",
       "4                                5                             6   \n",
       "..                             ...                           ...   \n",
       "185                              5                             3   \n",
       "186                              0                             0   \n",
       "187                              4                             4   \n",
       "188                              6                             6   \n",
       "189                              6                             6   \n",
       "\n",
       "     personale_polizia_aggiornato_a personale_amministrativo_aggiornato_al  \n",
       "0                        31/07/2024                             31/07/2024  \n",
       "1                        31/07/2024                             31/07/2024  \n",
       "2                        31/07/2024                             31/07/2024  \n",
       "3                        31/07/2024                             31/07/2024  \n",
       "4                        31/07/2024                             31/07/2024  \n",
       "..                              ...                                    ...  \n",
       "185                      31/07/2024                             31/07/2024  \n",
       "186                      31/07/2024                             31/07/2024  \n",
       "187                      31/07/2024                             31/07/2024  \n",
       "188                      31/07/2024                             31/07/2024  \n",
       "189                      31/07/2024                             31/07/2024  \n",
       "\n",
       "[190 rows x 21 columns]"
      ]
     },
     "execution_count": 8,
     "metadata": {},
     "output_type": "execute_result"
    }
   ],
   "source": [
    "data_df"
   ]
  },
  {
   "cell_type": "code",
   "execution_count": 9,
   "metadata": {
    "execution": {
     "iopub.execute_input": "2024-09-23T00:56:23.161178Z",
     "iopub.status.busy": "2024-09-23T00:56:23.161002Z",
     "iopub.status.idle": "2024-09-23T00:56:23.176121Z",
     "shell.execute_reply": "2024-09-23T00:56:23.175621Z"
    }
   },
   "outputs": [],
   "source": [
    "old_data_path = Path('../outputs/clean/istituti_data.csv')\n",
    "\n",
    "if old_data_path.exists():\n",
    "  old_data = pd.read_csv('../outputs/clean/istituti_data.csv')\n",
    "  combined_data = pd.concat([old_data, data_df], ignore_index=True)\n",
    "  combined_data.drop_duplicates(inplace=True)\n",
    "else:\n",
    "  combined_data = data_df\n",
    "  combined_data.drop_duplicates\n",
    "\n",
    "combined_data.to_csv('../outputs/clean/istituti_data.csv', index=False)"
   ]
  }
 ],
 "metadata": {
  "kernelspec": {
   "display_name": "Python 3",
   "language": "python",
   "name": "python3"
  },
  "language_info": {
   "codemirror_mode": {
    "name": "ipython",
    "version": 3
   },
   "file_extension": ".py",
   "mimetype": "text/x-python",
   "name": "python",
   "nbconvert_exporter": "python",
   "pygments_lexer": "ipython3",
   "version": "3.10.15"
  }
 },
 "nbformat": 4,
 "nbformat_minor": 2
}

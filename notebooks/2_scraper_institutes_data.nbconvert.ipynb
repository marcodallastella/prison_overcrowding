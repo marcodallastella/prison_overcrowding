{
 "cells": [
  {
   "cell_type": "markdown",
   "metadata": {},
   "source": [
    "# Scraper institutes\n",
    "This notebook is a monthly scraper used to retrieve information about condition in detention centers in Italy. To do so, it uses the id numbers of the various detention centers to navigate to the dedicated webpages with Selenium, store locally the html code of the page and then parse it using BeautifuSoup. The information is then stored in a pandas dataframe and saved as a csv file."
   ]
  },
  {
   "cell_type": "code",
   "execution_count": 1,
   "metadata": {
    "execution": {
     "iopub.execute_input": "2024-06-21T14:59:20.675537Z",
     "iopub.status.busy": "2024-06-21T14:59:20.674973Z",
     "iopub.status.idle": "2024-06-21T14:59:21.056503Z",
     "shell.execute_reply": "2024-06-21T14:59:21.055798Z"
    }
   },
   "outputs": [],
   "source": [
    "import pandas as pd\n",
    "import requests\n",
    "import datetime\n",
    "from bs4 import BeautifulSoup\n",
    "import asyncio\n",
    "from playwright.async_api import async_playwright\n",
    "from time import sleep\n",
    "from pathlib import Path"
   ]
  },
  {
   "cell_type": "code",
   "execution_count": 2,
   "metadata": {
    "execution": {
     "iopub.execute_input": "2024-06-21T14:59:21.059812Z",
     "iopub.status.busy": "2024-06-21T14:59:21.059296Z",
     "iopub.status.idle": "2024-06-21T14:59:21.062641Z",
     "shell.execute_reply": "2024-06-21T14:59:21.062025Z"
    }
   },
   "outputs": [],
   "source": [
    "# Get current date\n",
    "current_month = datetime.datetime.now().strftime(\"%Y-%m\")\n",
    "current_day = datetime.datetime.now().strftime(\"%Y-%m-%d\")"
   ]
  },
  {
   "cell_type": "code",
   "execution_count": 3,
   "metadata": {
    "execution": {
     "iopub.execute_input": "2024-06-21T14:59:21.065149Z",
     "iopub.status.busy": "2024-06-21T14:59:21.064662Z",
     "iopub.status.idle": "2024-06-21T14:59:21.070617Z",
     "shell.execute_reply": "2024-06-21T14:59:21.070109Z"
    }
   },
   "outputs": [],
   "source": [
    "# Collect institutes id numbers\n",
    "df_institutes = pd.read_csv(f'../outputs/clean/institutes_info_{current_day}.csv')\n",
    "prison_ids = df_institutes['id_istituto'].tolist()"
   ]
  },
  {
   "cell_type": "code",
   "execution_count": 4,
   "metadata": {
    "execution": {
     "iopub.execute_input": "2024-06-21T14:59:21.073224Z",
     "iopub.status.busy": "2024-06-21T14:59:21.072849Z",
     "iopub.status.idle": "2024-06-21T14:59:21.077801Z",
     "shell.execute_reply": "2024-06-21T14:59:21.077219Z"
    }
   },
   "outputs": [],
   "source": [
    "# Function to grab the html code of the page\n",
    "async def get_html(prison_id, current_day):\n",
    "\n",
    "    dest = Path(f\"../outputs/raw/snapshots/{current_day}_{prison_id}.html\")\n",
    "\n",
    "    if dest.exists() : #... load it from file\n",
    "        print(f\"Already have {dest}, loading!\")\n",
    "        page_html = open(dest).read()\n",
    "    else:\n",
    "        BASE_URL = \"https://www.giustizia.it/giustizia/it/dettaglio_scheda.page?s=\"\n",
    "        playwright = await async_playwright().start()\n",
    "    \n",
    "        try:\n",
    "            browser = await playwright.firefox.launch()\n",
    "            context = await browser.new_context(viewport={'width': 1280, 'height': 800})\n",
    "            page = await context.new_page()\n",
    "            await page.goto(f\"{BASE_URL}{prison_id}\")\n",
    "            print(\"Fetching \" + prison_id)\n",
    "            page_html = await page.content()\n",
    "            \n",
    "            # Stores html code in dest\n",
    "            dest.write_text(page_html)\n",
    "        finally:\n",
    "            await browser.close()\n",
    "            await playwright.stop()\n",
    "    \n",
    "    return page_html"
   ]
  },
  {
   "cell_type": "code",
   "execution_count": 5,
   "metadata": {
    "execution": {
     "iopub.execute_input": "2024-06-21T14:59:21.080329Z",
     "iopub.status.busy": "2024-06-21T14:59:21.079965Z",
     "iopub.status.idle": "2024-06-21T14:59:21.089361Z",
     "shell.execute_reply": "2024-06-21T14:59:21.088745Z"
    }
   },
   "outputs": [],
   "source": [
    "# Function to extract institute name and type\n",
    "def extract_institute_details(soup):\n",
    "    institute_name = soup.find('h1', {'class': 'titoloIstituto'}).text.strip()\n",
    "    institute_type = soup.find('h3', {'class': 'titoloIstituto'}).text.strip()\n",
    "    return institute_name, institute_type\n",
    "\n",
    "# Function to extract capacity table data\n",
    "def extract_capacity_data(soup):\n",
    "    table_capienze = soup.find_all('table')[0]\n",
    "    rows = table_capienze.find_all('tr')\n",
    "    if len(rows) > 1:  # Ensure there are rows in the table\n",
    "        cells = rows[1].find_all('td') \n",
    "        posti_regolamentari = int(cells[0].text.strip())\n",
    "        posti_non_disponibili = int(cells[1].text.strip())\n",
    "        totale_detenuti = int(cells[2].text.strip())\n",
    "    else:\n",
    "        posti_regolamentari = posti_non_disponibili = totale_detenuti = 0\n",
    "    return posti_regolamentari, posti_non_disponibili, totale_detenuti\n",
    "\n",
    "# Function to extract updated date\n",
    "def extract_updated_date(soup, header_text):\n",
    "    target_span = soup.find('h2', text=header_text)\n",
    "    if target_span:\n",
    "        span = target_span.find_next_sibling('span')\n",
    "        return span.text.strip() if span else 'NA'\n",
    "    return 'NA'\n",
    "\n",
    "def extract_personnel_details(soup, header_text):\n",
    "    target_span = soup.find('h2', text=header_text)\n",
    "    if target_span:\n",
    "        try:\n",
    "            div = target_span.find_next('div', {'class': 'listaContenutiComplessi'})\n",
    "            spans = div.find_all('span', {'class': 'valoreSottocampo'})\n",
    "            return spans[0].text.strip(), spans[1].text.strip(), spans[2].text.strip()\n",
    "        except:\n",
    "            return 'NA', 'NA', 'NA'\n",
    "    return 'NA', 'NA', 'NA'\n",
    "\n",
    "# Function to extract staff table data\n",
    "def extract_staff_data(soup):\n",
    "    table_staff = soup.find_all('table')[1]\n",
    "    cells = table_staff.find_all('td')\n",
    "    polizia_penitenziaria_effettivi = int(cells[0].text.strip())\n",
    "    polizia_penitenziaria_previsti = int(cells[1].text.strip())\n",
    "    amministrativi_effettivi = int(cells[2].text.strip())\n",
    "    amministrativi_previsti = int(cells[3].text.strip())\n",
    "    educatori_effettivi = int(cells[4].text.strip())\n",
    "    educatori_previsti = int(cells[5].text.strip())\n",
    "    return (polizia_penitenziaria_effettivi, polizia_penitenziaria_previsti,\n",
    "            amministrativi_effettivi, amministrativi_previsti,\n",
    "            educatori_effettivi, educatori_previsti)\n",
    "\n",
    "# Function to extract last update date\n",
    "def extract_date_of_last_update(soup):\n",
    "    # Police staff\n",
    "    target_span= soup.find('h2', text='personale polizia penitenziaria aggiornato al')\n",
    "    try:\n",
    "        span = target_span.find_next_sibling('span')\n",
    "        personale_polizia_aggiornato_al = span.text.strip()\n",
    "    except:\n",
    "        personale_polizia_aggiornato_al = 'NA'\n",
    "\n",
    "    # Administrative staff\n",
    "    target_span= soup.find('h2', text='personale amministrativo aggiornato al')\n",
    "    try:\n",
    "        span = target_span.find_next_sibling('span')\n",
    "        personale_amministrativo_aggiornato_al = span.text.strip()\n",
    "    except:\n",
    "        personale_amministrativo_aggiornato_al = 'NA'\n",
    "\n",
    "    return personale_polizia_aggiornato_al, personale_amministrativo_aggiornato_al\n",
    "    "
   ]
  },
  {
   "cell_type": "code",
   "execution_count": 6,
   "metadata": {
    "execution": {
     "iopub.execute_input": "2024-06-21T14:59:21.091829Z",
     "iopub.status.busy": "2024-06-21T14:59:21.091604Z",
     "iopub.status.idle": "2024-06-21T14:59:21.097142Z",
     "shell.execute_reply": "2024-06-21T14:59:21.096503Z"
    }
   },
   "outputs": [],
   "source": [
    "# Function to extract institute data\n",
    "def get_prison_data(soup, current_day):\n",
    "\n",
    "    institute_name, institute_type = extract_institute_details(soup)\n",
    "    posti_regolamentari, posti_non_disponibili, totale_detenuti = extract_capacity_data(soup)\n",
    "    dati_aggiornati_al = extract_updated_date(soup, 'dati aggiornati al ')\n",
    "    asl, first_name_asl, last_name_asl = extract_personnel_details(soup, 'Responsabile ASL per il carcere')\n",
    "    first_name, last_name, role = extract_personnel_details(soup, 'Direttore')\n",
    "    (polizia_penitenziaria_effettivi, polizia_penitenziaria_previsti, amministrativi_effettivi, amministrativi_previsti, educatori_effettivi, educatori_previsti) = extract_staff_data(soup)\n",
    "    personale_polizia_aggiornato_al, personale_amministrativo_aggiornato_al = extract_date_of_last_update(soup)\n",
    "\n",
    "    prison_data = {\n",
    "            'prison_id': prison_id,\n",
    "            'institute_name': institute_name,\n",
    "            'institute_type': institute_type,\n",
    "            'posti_regolamentari': posti_regolamentari,\n",
    "            'posti_non_disponibili': posti_non_disponibili,\n",
    "            'totale_detenuti': totale_detenuti,\n",
    "            'dati_aggiornati_al': dati_aggiornati_al,\n",
    "            'asl': asl,\n",
    "            'nome_responsabile_asl': first_name_asl,\n",
    "            'cognome_responsabile_asl': last_name_asl,\n",
    "            'nome_direttore': first_name,\n",
    "            'cognome_direttore': last_name,\n",
    "            'ruolo_direttore': role,\n",
    "            'polizia_penitenziaria_effettivi': polizia_penitenziaria_effettivi,\n",
    "            'polizia_penitenziaria_previsti': polizia_penitenziaria_previsti,\n",
    "            'amministrativi_effettivi': amministrativi_effettivi,\n",
    "            'amministrativi_previsti': amministrativi_previsti,\n",
    "            'educatori_effettivi': educatori_effettivi,\n",
    "            'educatori_previsti': educatori_previsti,\n",
    "            'personale_polizia_aggiornato_a': personale_polizia_aggiornato_al,\n",
    "            'personale_amministrativo_aggiornato_al': personale_amministrativo_aggiornato_al,\n",
    "            'data_extracted_on': current_day\n",
    "        }\n",
    "        \n",
    "    return prison_data"
   ]
  },
  {
   "cell_type": "code",
   "execution_count": 7,
   "metadata": {
    "execution": {
     "iopub.execute_input": "2024-06-21T14:59:21.099448Z",
     "iopub.status.busy": "2024-06-21T14:59:21.099250Z",
     "iopub.status.idle": "2024-06-21T15:09:44.256697Z",
     "shell.execute_reply": "2024-06-21T15:09:44.256122Z"
    }
   },
   "outputs": [
    {
     "name": "stdout",
     "output_type": "stream",
     "text": [
      "Already have ../outputs/raw/snapshots/2024-06_MII179988.html, loading!\n"
     ]
    },
    {
     "name": "stderr",
     "output_type": "stream",
     "text": [
      "/tmp/ipykernel_3291/3915262977.py:22: DeprecationWarning: The 'text' argument to find()-type methods is deprecated. Use 'string' instead.\n",
      "  target_span = soup.find('h2', text=header_text)\n",
      "/tmp/ipykernel_3291/3915262977.py:29: DeprecationWarning: The 'text' argument to find()-type methods is deprecated. Use 'string' instead.\n",
      "  target_span = soup.find('h2', text=header_text)\n",
      "/tmp/ipykernel_3291/3915262977.py:56: DeprecationWarning: The 'text' argument to find()-type methods is deprecated. Use 'string' instead.\n",
      "  target_span= soup.find('h2', text='personale polizia penitenziaria aggiornato al')\n",
      "/tmp/ipykernel_3291/3915262977.py:64: DeprecationWarning: The 'text' argument to find()-type methods is deprecated. Use 'string' instead.\n",
      "  target_span= soup.find('h2', text='personale amministrativo aggiornato al')\n"
     ]
    },
    {
     "name": "stdout",
     "output_type": "stream",
     "text": [
      "Already have ../outputs/raw/snapshots/2024-06_MII172610.html, loading!\n"
     ]
    },
    {
     "name": "stdout",
     "output_type": "stream",
     "text": [
      "Already have ../outputs/raw/snapshots/2024-06_MII172320.html, loading!\n"
     ]
    },
    {
     "name": "stdout",
     "output_type": "stream",
     "text": [
      "Already have ../outputs/raw/snapshots/2024-06_MII173712.html, loading!\n"
     ]
    },
    {
     "name": "stdout",
     "output_type": "stream",
     "text": [
      "Already have ../outputs/raw/snapshots/2024-06_MII173747.html, loading!\n"
     ]
    },
    {
     "name": "stdout",
     "output_type": "stream",
     "text": [
      "Already have ../outputs/raw/snapshots/2024-06_MII177436.html, loading!\n"
     ]
    },
    {
     "name": "stdout",
     "output_type": "stream",
     "text": [
      "Already have ../outputs/raw/snapshots/2024-06_MII178027.html, loading!\n"
     ]
    },
    {
     "name": "stdout",
     "output_type": "stream",
     "text": [
      "Already have ../outputs/raw/snapshots/2024-06_MII178072.html, loading!\n"
     ]
    },
    {
     "name": "stdout",
     "output_type": "stream",
     "text": [
      "Already have ../outputs/raw/snapshots/2024-06_MII178659.html, loading!\n"
     ]
    },
    {
     "name": "stdout",
     "output_type": "stream",
     "text": [
      "Already have ../outputs/raw/snapshots/2024-06_MII179237.html, loading!\n"
     ]
    },
    {
     "name": "stdout",
     "output_type": "stream",
     "text": [
      "Already have ../outputs/raw/snapshots/2024-06_MII182910.html, loading!\n"
     ]
    },
    {
     "name": "stdout",
     "output_type": "stream",
     "text": [
      "Already have ../outputs/raw/snapshots/2024-06_MII181346.html, loading!\n"
     ]
    },
    {
     "name": "stdout",
     "output_type": "stream",
     "text": [
      "Already have ../outputs/raw/snapshots/2024-06_MII181703.html, loading!\n"
     ]
    },
    {
     "name": "stdout",
     "output_type": "stream",
     "text": [
      "Already have ../outputs/raw/snapshots/2024-06_MII181924.html, loading!\n"
     ]
    },
    {
     "name": "stdout",
     "output_type": "stream",
     "text": [
      "Already have ../outputs/raw/snapshots/2024-06_MII179733.html, loading!\n"
     ]
    },
    {
     "name": "stdout",
     "output_type": "stream",
     "text": [
      "Already have ../outputs/raw/snapshots/2024-06_MII173311.html, loading!\n"
     ]
    },
    {
     "name": "stdout",
     "output_type": "stream",
     "text": [
      "Already have ../outputs/raw/snapshots/2024-06_MII173324.html, loading!\n"
     ]
    },
    {
     "name": "stdout",
     "output_type": "stream",
     "text": [
      "Already have ../outputs/raw/snapshots/2024-06_MII177996.html, loading!\n"
     ]
    },
    {
     "name": "stdout",
     "output_type": "stream",
     "text": [
      "Already have ../outputs/raw/snapshots/2024-06_MII179342.html, loading!\n"
     ]
    },
    {
     "name": "stdout",
     "output_type": "stream",
     "text": [
      "Already have ../outputs/raw/snapshots/2024-06_MII179353.html, loading!\n"
     ]
    },
    {
     "name": "stdout",
     "output_type": "stream",
     "text": [
      "Already have ../outputs/raw/snapshots/2024-06_MII180415.html, loading!\n"
     ]
    },
    {
     "name": "stdout",
     "output_type": "stream",
     "text": [
      "Already have ../outputs/raw/snapshots/2024-06_MII181908.html, loading!\n"
     ]
    },
    {
     "name": "stdout",
     "output_type": "stream",
     "text": [
      "Already have ../outputs/raw/snapshots/2024-06_MII159053.html, loading!\n"
     ]
    },
    {
     "name": "stdout",
     "output_type": "stream",
     "text": [
      "Already have ../outputs/raw/snapshots/2024-06_MII172187.html, loading!\n"
     ]
    },
    {
     "name": "stdout",
     "output_type": "stream",
     "text": [
      "Already have ../outputs/raw/snapshots/2024-06_MII173101.html, loading!\n"
     ]
    },
    {
     "name": "stdout",
     "output_type": "stream",
     "text": [
      "Already have ../outputs/raw/snapshots/2024-06_MII173784.html, loading!\n"
     ]
    },
    {
     "name": "stdout",
     "output_type": "stream",
     "text": [
      "Already have ../outputs/raw/snapshots/2024-06_MII172580.html, loading!\n"
     ]
    },
    {
     "name": "stdout",
     "output_type": "stream",
     "text": [
      "Already have ../outputs/raw/snapshots/2024-06_MII176719.html, loading!\n"
     ]
    },
    {
     "name": "stdout",
     "output_type": "stream",
     "text": [
      "Already have ../outputs/raw/snapshots/2024-06_MII180426.html, loading!\n"
     ]
    },
    {
     "name": "stdout",
     "output_type": "stream",
     "text": [
      "Already have ../outputs/raw/snapshots/2024-06_MII181079.html, loading!\n"
     ]
    },
    {
     "name": "stdout",
     "output_type": "stream",
     "text": [
      "Already have ../outputs/raw/snapshots/2024-06_MII179290.html, loading!\n"
     ]
    },
    {
     "name": "stdout",
     "output_type": "stream",
     "text": [
      "Already have ../outputs/raw/snapshots/2024-06_MII180487.html, loading!\n"
     ]
    },
    {
     "name": "stdout",
     "output_type": "stream",
     "text": [
      "Already have ../outputs/raw/snapshots/2024-06_MII179913.html, loading!\n"
     ]
    },
    {
     "name": "stdout",
     "output_type": "stream",
     "text": [
      "Already have ../outputs/raw/snapshots/2024-06_MII180424.html, loading!\n"
     ]
    },
    {
     "name": "stdout",
     "output_type": "stream",
     "text": [
      "Already have ../outputs/raw/snapshots/2024-06_MII159065.html, loading!\n"
     ]
    },
    {
     "name": "stdout",
     "output_type": "stream",
     "text": [
      "Already have ../outputs/raw/snapshots/2024-06_MII173237.html, loading!\n"
     ]
    },
    {
     "name": "stdout",
     "output_type": "stream",
     "text": [
      "Already have ../outputs/raw/snapshots/2024-06_MII174501.html, loading!\n"
     ]
    },
    {
     "name": "stdout",
     "output_type": "stream",
     "text": [
      "Already have ../outputs/raw/snapshots/2024-06_MII181645.html, loading!\n"
     ]
    },
    {
     "name": "stdout",
     "output_type": "stream",
     "text": [
      "Already have ../outputs/raw/snapshots/2024-06_MII176424.html, loading!\n"
     ]
    },
    {
     "name": "stdout",
     "output_type": "stream",
     "text": [
      "Already have ../outputs/raw/snapshots/2024-06_MII181661.html, loading!\n"
     ]
    },
    {
     "name": "stdout",
     "output_type": "stream",
     "text": [
      "Already have ../outputs/raw/snapshots/2024-06_MII181672.html, loading!\n"
     ]
    },
    {
     "name": "stdout",
     "output_type": "stream",
     "text": [
      "Already have ../outputs/raw/snapshots/2024-06_MII179818.html, loading!\n"
     ]
    },
    {
     "name": "stdout",
     "output_type": "stream",
     "text": [
      "Already have ../outputs/raw/snapshots/2024-06_MII181863.html, loading!\n"
     ]
    },
    {
     "name": "stdout",
     "output_type": "stream",
     "text": [
      "Already have ../outputs/raw/snapshots/2024-06_MII181847.html, loading!\n"
     ]
    },
    {
     "name": "stdout",
     "output_type": "stream",
     "text": [
      "Already have ../outputs/raw/snapshots/2024-06_MII181891.html, loading!\n"
     ]
    },
    {
     "name": "stdout",
     "output_type": "stream",
     "text": [
      "Already have ../outputs/raw/snapshots/2024-06_MII182440.html, loading!\n"
     ]
    },
    {
     "name": "stdout",
     "output_type": "stream",
     "text": [
      "Already have ../outputs/raw/snapshots/2024-06_MII173088.html, loading!\n"
     ]
    },
    {
     "name": "stdout",
     "output_type": "stream",
     "text": [
      "Already have ../outputs/raw/snapshots/2024-06_MII157783.html, loading!\n"
     ]
    },
    {
     "name": "stdout",
     "output_type": "stream",
     "text": [
      "Already have ../outputs/raw/snapshots/2024-06_MII173114.html, loading!\n"
     ]
    },
    {
     "name": "stdout",
     "output_type": "stream",
     "text": [
      "Already have ../outputs/raw/snapshots/2024-06_MII173364.html, loading!\n"
     ]
    },
    {
     "name": "stdout",
     "output_type": "stream",
     "text": [
      "Already have ../outputs/raw/snapshots/2024-06_MII159069.html, loading!\n"
     ]
    },
    {
     "name": "stdout",
     "output_type": "stream",
     "text": [
      "Already have ../outputs/raw/snapshots/2024-06_MII173688.html, loading!\n"
     ]
    },
    {
     "name": "stdout",
     "output_type": "stream",
     "text": [
      "Already have ../outputs/raw/snapshots/2024-06_MII173356.html, loading!\n"
     ]
    },
    {
     "name": "stdout",
     "output_type": "stream",
     "text": [
      "Already have ../outputs/raw/snapshots/2024-06_MII176437.html, loading!\n"
     ]
    },
    {
     "name": "stdout",
     "output_type": "stream",
     "text": [
      "Already have ../outputs/raw/snapshots/2024-06_MII173764.html, loading!\n"
     ]
    },
    {
     "name": "stdout",
     "output_type": "stream",
     "text": [
      "Already have ../outputs/raw/snapshots/2024-06_MII181636.html, loading!\n"
     ]
    },
    {
     "name": "stdout",
     "output_type": "stream",
     "text": [
      "Already have ../outputs/raw/snapshots/2024-06_MII172814.html, loading!\n"
     ]
    },
    {
     "name": "stdout",
     "output_type": "stream",
     "text": [
      "Already have ../outputs/raw/snapshots/2024-06_MII176759.html, loading!\n"
     ]
    },
    {
     "name": "stdout",
     "output_type": "stream",
     "text": [
      "Already have ../outputs/raw/snapshots/2024-06_MII176414.html, loading!\n"
     ]
    },
    {
     "name": "stdout",
     "output_type": "stream",
     "text": [
      "Already have ../outputs/raw/snapshots/2024-06_MII177134.html, loading!\n"
     ]
    },
    {
     "name": "stdout",
     "output_type": "stream",
     "text": [
      "Already have ../outputs/raw/snapshots/2024-06_MII176703.html, loading!\n"
     ]
    },
    {
     "name": "stdout",
     "output_type": "stream",
     "text": [
      "Already have ../outputs/raw/snapshots/2024-06_MII177107.html, loading!\n"
     ]
    },
    {
     "name": "stdout",
     "output_type": "stream",
     "text": [
      "Already have ../outputs/raw/snapshots/2024-06_MII177323.html, loading!\n"
     ]
    },
    {
     "name": "stdout",
     "output_type": "stream",
     "text": [
      "Already have ../outputs/raw/snapshots/2024-06_MII176749.html, loading!\n"
     ]
    },
    {
     "name": "stdout",
     "output_type": "stream",
     "text": [
      "Already have ../outputs/raw/snapshots/2024-06_MII176781.html, loading!\n"
     ]
    },
    {
     "name": "stdout",
     "output_type": "stream",
     "text": [
      "Already have ../outputs/raw/snapshots/2024-06_MII179331.html, loading!\n"
     ]
    },
    {
     "name": "stdout",
     "output_type": "stream",
     "text": [
      "Already have ../outputs/raw/snapshots/2024-06_MII176788.html, loading!\n"
     ]
    },
    {
     "name": "stdout",
     "output_type": "stream",
     "text": [
      "Already have ../outputs/raw/snapshots/2024-06_MII169535.html, loading!\n"
     ]
    },
    {
     "name": "stdout",
     "output_type": "stream",
     "text": [
      "Already have ../outputs/raw/snapshots/2024-06_MII180401.html, loading!\n"
     ]
    },
    {
     "name": "stdout",
     "output_type": "stream",
     "text": [
      "Already have ../outputs/raw/snapshots/2024-06_MII180437.html, loading!\n"
     ]
    },
    {
     "name": "stdout",
     "output_type": "stream",
     "text": [
      "Already have ../outputs/raw/snapshots/2024-06_MII180380.html, loading!\n"
     ]
    },
    {
     "name": "stdout",
     "output_type": "stream",
     "text": [
      "Already have ../outputs/raw/snapshots/2024-06_MII180356.html, loading!\n"
     ]
    },
    {
     "name": "stdout",
     "output_type": "stream",
     "text": [
      "Already have ../outputs/raw/snapshots/2024-06_MII180348.html, loading!\n"
     ]
    },
    {
     "name": "stdout",
     "output_type": "stream",
     "text": [
      "Already have ../outputs/raw/snapshots/2024-06_MII181870.html, loading!\n"
     ]
    },
    {
     "name": "stdout",
     "output_type": "stream",
     "text": [
      "Already have ../outputs/raw/snapshots/2024-06_MII181880.html, loading!\n"
     ]
    },
    {
     "name": "stdout",
     "output_type": "stream",
     "text": [
      "Already have ../outputs/raw/snapshots/2024-06_MII179299.html, loading!\n"
     ]
    },
    {
     "name": "stdout",
     "output_type": "stream",
     "text": [
      "Already have ../outputs/raw/snapshots/2024-06_MII181371.html, loading!\n"
     ]
    },
    {
     "name": "stdout",
     "output_type": "stream",
     "text": [
      "Already have ../outputs/raw/snapshots/2024-06_MII181820.html, loading!\n"
     ]
    },
    {
     "name": "stdout",
     "output_type": "stream",
     "text": [
      "Already have ../outputs/raw/snapshots/2024-06_MII181839.html, loading!\n"
     ]
    },
    {
     "name": "stdout",
     "output_type": "stream",
     "text": [
      "Already have ../outputs/raw/snapshots/2024-06_MII181424.html, loading!\n"
     ]
    },
    {
     "name": "stdout",
     "output_type": "stream",
     "text": [
      "Already have ../outputs/raw/snapshots/2024-06_MII158919.html, loading!\n"
     ]
    },
    {
     "name": "stdout",
     "output_type": "stream",
     "text": [
      "Already have ../outputs/raw/snapshots/2024-06_MII179995.html, loading!\n"
     ]
    },
    {
     "name": "stdout",
     "output_type": "stream",
     "text": [
      "Already have ../outputs/raw/snapshots/2024-06_MII158924.html, loading!\n"
     ]
    },
    {
     "name": "stdout",
     "output_type": "stream",
     "text": [
      "Already have ../outputs/raw/snapshots/2024-06_MII172277.html, loading!\n"
     ]
    },
    {
     "name": "stdout",
     "output_type": "stream",
     "text": [
      "Already have ../outputs/raw/snapshots/2024-06_MII158948.html, loading!\n"
     ]
    },
    {
     "name": "stdout",
     "output_type": "stream",
     "text": [
      "Already have ../outputs/raw/snapshots/2024-06_MII181678.html, loading!\n"
     ]
    },
    {
     "name": "stdout",
     "output_type": "stream",
     "text": [
      "Already have ../outputs/raw/snapshots/2024-06_MII174720.html, loading!\n"
     ]
    },
    {
     "name": "stdout",
     "output_type": "stream",
     "text": [
      "Already have ../outputs/raw/snapshots/2024-06_MII172623.html, loading!\n"
     ]
    },
    {
     "name": "stdout",
     "output_type": "stream",
     "text": [
      "Already have ../outputs/raw/snapshots/2024-06_MII176743.html, loading!\n"
     ]
    },
    {
     "name": "stdout",
     "output_type": "stream",
     "text": [
      "Already have ../outputs/raw/snapshots/2024-06_MII176375.html, loading!\n"
     ]
    },
    {
     "name": "stdout",
     "output_type": "stream",
     "text": [
      "Already have ../outputs/raw/snapshots/2024-06_MII177498.html, loading!\n"
     ]
    },
    {
     "name": "stdout",
     "output_type": "stream",
     "text": [
      "Already have ../outputs/raw/snapshots/2024-06_MII177463.html, loading!\n"
     ]
    },
    {
     "name": "stdout",
     "output_type": "stream",
     "text": [
      "Already have ../outputs/raw/snapshots/2024-06_MII178045.html, loading!\n"
     ]
    },
    {
     "name": "stdout",
     "output_type": "stream",
     "text": [
      "Already have ../outputs/raw/snapshots/2024-06_MII178035.html, loading!\n"
     ]
    },
    {
     "name": "stdout",
     "output_type": "stream",
     "text": [
      "Already have ../outputs/raw/snapshots/2024-06_MII178124.html, loading!\n"
     ]
    },
    {
     "name": "stdout",
     "output_type": "stream",
     "text": [
      "Already have ../outputs/raw/snapshots/2024-06_MII178141.html, loading!\n"
     ]
    },
    {
     "name": "stdout",
     "output_type": "stream",
     "text": [
      "Already have ../outputs/raw/snapshots/2024-06_MII179938.html, loading!\n"
     ]
    },
    {
     "name": "stdout",
     "output_type": "stream",
     "text": [
      "Already have ../outputs/raw/snapshots/2024-06_MII179280.html, loading!\n"
     ]
    },
    {
     "name": "stdout",
     "output_type": "stream",
     "text": [
      "Already have ../outputs/raw/snapshots/2024-06_MII180476.html, loading!\n"
     ]
    },
    {
     "name": "stdout",
     "output_type": "stream",
     "text": [
      "Already have ../outputs/raw/snapshots/2024-06_MII181377.html, loading!\n"
     ]
    },
    {
     "name": "stdout",
     "output_type": "stream",
     "text": [
      "Already have ../outputs/raw/snapshots/2024-06_MII181434.html, loading!\n",
      "Attempt 1 failed for prison_id MII181434. Error: 'NoneType' object has no attribute 'text'\n"
     ]
    },
    {
     "name": "stdout",
     "output_type": "stream",
     "text": [
      "Already have ../outputs/raw/snapshots/2024-06_MII181434.html, loading!\n",
      "Attempt 2 failed for prison_id MII181434. Error: 'NoneType' object has no attribute 'text'\n"
     ]
    },
    {
     "name": "stdout",
     "output_type": "stream",
     "text": [
      "Already have ../outputs/raw/snapshots/2024-06_MII181434.html, loading!\n",
      "Attempt 3 failed for prison_id MII181434. Error: 'NoneType' object has no attribute 'text'\n"
     ]
    },
    {
     "name": "stdout",
     "output_type": "stream",
     "text": [
      "Already have ../outputs/raw/snapshots/2024-06_MII181434.html, loading!\n",
      "Attempt 4 failed for prison_id MII181434. Error: 'NoneType' object has no attribute 'text'\n"
     ]
    },
    {
     "name": "stdout",
     "output_type": "stream",
     "text": [
      "Already have ../outputs/raw/snapshots/2024-06_MII181434.html, loading!\n",
      "Attempt 5 failed for prison_id MII181434. Error: 'NoneType' object has no attribute 'text'\n",
      "Failed to fetch data for prison_id MII181434 after 5 attempts.\n"
     ]
    },
    {
     "name": "stdout",
     "output_type": "stream",
     "text": [
      "Already have ../outputs/raw/snapshots/2024-06_MII182919.html, loading!\n"
     ]
    },
    {
     "name": "stdout",
     "output_type": "stream",
     "text": [
      "Already have ../outputs/raw/snapshots/2024-06_MII181681.html, loading!\n"
     ]
    },
    {
     "name": "stdout",
     "output_type": "stream",
     "text": [
      "Already have ../outputs/raw/snapshots/2024-06_MII179896.html, loading!\n"
     ]
    },
    {
     "name": "stdout",
     "output_type": "stream",
     "text": [
      "Already have ../outputs/raw/snapshots/2024-06_MII158935.html, loading!\n"
     ]
    },
    {
     "name": "stdout",
     "output_type": "stream",
     "text": [
      "Already have ../outputs/raw/snapshots/2024-06_MII179958.html, loading!\n"
     ]
    },
    {
     "name": "stdout",
     "output_type": "stream",
     "text": [
      "Already have ../outputs/raw/snapshots/2024-06_MII158945.html, loading!\n"
     ]
    },
    {
     "name": "stdout",
     "output_type": "stream",
     "text": [
      "Already have ../outputs/raw/snapshots/2024-06_MII180458.html, loading!\n"
     ]
    },
    {
     "name": "stdout",
     "output_type": "stream",
     "text": [
      "Already have ../outputs/raw/snapshots/2024-06_MII181115.html, loading!\n"
     ]
    },
    {
     "name": "stdout",
     "output_type": "stream",
     "text": [
      "Already have ../outputs/raw/snapshots/2024-06_MII181358.html, loading!\n"
     ]
    },
    {
     "name": "stdout",
     "output_type": "stream",
     "text": [
      "Already have ../outputs/raw/snapshots/2024-06_MII172835.html, loading!\n"
     ]
    },
    {
     "name": "stdout",
     "output_type": "stream",
     "text": [
      "Already have ../outputs/raw/snapshots/2024-06_MII158910.html, loading!\n"
     ]
    },
    {
     "name": "stdout",
     "output_type": "stream",
     "text": [
      "Already have ../outputs/raw/snapshots/2024-06_MII177118.html, loading!\n"
     ]
    },
    {
     "name": "stdout",
     "output_type": "stream",
     "text": [
      "Already have ../outputs/raw/snapshots/2024-06_MII179224.html, loading!\n"
     ]
    },
    {
     "name": "stdout",
     "output_type": "stream",
     "text": [
      "Already have ../outputs/raw/snapshots/2024-06_MII172222.html, loading!\n"
     ]
    },
    {
     "name": "stdout",
     "output_type": "stream",
     "text": [
      "Already have ../outputs/raw/snapshots/2024-06_MII178003.html, loading!\n"
     ]
    },
    {
     "name": "stdout",
     "output_type": "stream",
     "text": [
      "Already have ../outputs/raw/snapshots/2024-06_MII179274.html, loading!\n"
     ]
    },
    {
     "name": "stdout",
     "output_type": "stream",
     "text": [
      "Already have ../outputs/raw/snapshots/2024-06_MII181091.html, loading!\n"
     ]
    },
    {
     "name": "stdout",
     "output_type": "stream",
     "text": [
      "Already have ../outputs/raw/snapshots/2024-06_MII181385.html, loading!\n"
     ]
    },
    {
     "name": "stdout",
     "output_type": "stream",
     "text": [
      "Already have ../outputs/raw/snapshots/2024-06_MII178148.html, loading!\n"
     ]
    },
    {
     "name": "stdout",
     "output_type": "stream",
     "text": [
      "Already have ../outputs/raw/snapshots/2024-06_MII179965.html, loading!\n"
     ]
    },
    {
     "name": "stdout",
     "output_type": "stream",
     "text": [
      "Already have ../outputs/raw/snapshots/2024-06_MII181109.html, loading!\n"
     ]
    },
    {
     "name": "stdout",
     "output_type": "stream",
     "text": [
      "Already have ../outputs/raw/snapshots/2024-06_MII178666.html, loading!\n"
     ]
    },
    {
     "name": "stdout",
     "output_type": "stream",
     "text": [
      "Already have ../outputs/raw/snapshots/2024-06_MII178672.html, loading!\n"
     ]
    },
    {
     "name": "stdout",
     "output_type": "stream",
     "text": [
      "Already have ../outputs/raw/snapshots/2024-06_MII180370.html, loading!\n"
     ]
    },
    {
     "name": "stdout",
     "output_type": "stream",
     "text": [
      "Already have ../outputs/raw/snapshots/2024-06_MII172592.html, loading!\n"
     ]
    },
    {
     "name": "stdout",
     "output_type": "stream",
     "text": [
      "Already have ../outputs/raw/snapshots/2024-06_MII158895.html, loading!\n"
     ]
    },
    {
     "name": "stdout",
     "output_type": "stream",
     "text": [
      "Already have ../outputs/raw/snapshots/2024-06_MII178501.html, loading!\n"
     ]
    },
    {
     "name": "stdout",
     "output_type": "stream",
     "text": [
      "Already have ../outputs/raw/snapshots/2024-06_MII174825.html, loading!\n"
     ]
    },
    {
     "name": "stdout",
     "output_type": "stream",
     "text": [
      "Already have ../outputs/raw/snapshots/2024-06_MII179781.html, loading!\n"
     ]
    },
    {
     "name": "stdout",
     "output_type": "stream",
     "text": [
      "Already have ../outputs/raw/snapshots/2024-06_MII179932.html, loading!\n"
     ]
    },
    {
     "name": "stdout",
     "output_type": "stream",
     "text": [
      "Already have ../outputs/raw/snapshots/2024-06_MII181407.html, loading!\n"
     ]
    },
    {
     "name": "stdout",
     "output_type": "stream",
     "text": [
      "Already have ../outputs/raw/snapshots/2024-06_MII180465.html, loading!\n"
     ]
    },
    {
     "name": "stdout",
     "output_type": "stream",
     "text": [
      "Already have ../outputs/raw/snapshots/2024-06_MII158944.html, loading!\n"
     ]
    },
    {
     "name": "stdout",
     "output_type": "stream",
     "text": [
      "Already have ../outputs/raw/snapshots/2024-06_MII158941.html, loading!\n"
     ]
    },
    {
     "name": "stdout",
     "output_type": "stream",
     "text": [
      "Already have ../outputs/raw/snapshots/2024-06_MII172011.html, loading!\n"
     ]
    },
    {
     "name": "stdout",
     "output_type": "stream",
     "text": [
      "Already have ../outputs/raw/snapshots/2024-06_MII181392.html, loading!\n"
     ]
    },
    {
     "name": "stdout",
     "output_type": "stream",
     "text": [
      "Already have ../outputs/raw/snapshots/2024-06_MII177332.html, loading!\n"
     ]
    },
    {
     "name": "stdout",
     "output_type": "stream",
     "text": [
      "Already have ../outputs/raw/snapshots/2024-06_MII181918.html, loading!\n"
     ]
    },
    {
     "name": "stdout",
     "output_type": "stream",
     "text": [
      "Already have ../outputs/raw/snapshots/2024-06_MII178085.html, loading!\n"
     ]
    },
    {
     "name": "stdout",
     "output_type": "stream",
     "text": [
      "Already have ../outputs/raw/snapshots/2024-06_MII178115.html, loading!\n"
     ]
    },
    {
     "name": "stdout",
     "output_type": "stream",
     "text": [
      "Already have ../outputs/raw/snapshots/2024-06_MII177420.html, loading!\n"
     ]
    },
    {
     "name": "stdout",
     "output_type": "stream",
     "text": [
      "Already have ../outputs/raw/snapshots/2024-06_MII179830.html, loading!\n"
     ]
    },
    {
     "name": "stdout",
     "output_type": "stream",
     "text": [
      "Already have ../outputs/raw/snapshots/2024-06_MII179945.html, loading!\n"
     ]
    },
    {
     "name": "stdout",
     "output_type": "stream",
     "text": [
      "Already have ../outputs/raw/snapshots/2024-06_MII177346.html, loading!\n"
     ]
    },
    {
     "name": "stdout",
     "output_type": "stream",
     "text": [
      "Already have ../outputs/raw/snapshots/2024-06_MII181440.html, loading!\n"
     ]
    },
    {
     "name": "stdout",
     "output_type": "stream",
     "text": [
      "Already have ../outputs/raw/snapshots/2024-06_MII159314.html, loading!\n"
     ]
    },
    {
     "name": "stdout",
     "output_type": "stream",
     "text": [
      "Already have ../outputs/raw/snapshots/2024-06_MII173006.html, loading!\n"
     ]
    },
    {
     "name": "stdout",
     "output_type": "stream",
     "text": [
      "Already have ../outputs/raw/snapshots/2024-06_MII173259.html, loading!\n"
     ]
    },
    {
     "name": "stdout",
     "output_type": "stream",
     "text": [
      "Already have ../outputs/raw/snapshots/2024-06_MII173285.html, loading!\n"
     ]
    },
    {
     "name": "stdout",
     "output_type": "stream",
     "text": [
      "Already have ../outputs/raw/snapshots/2024-06_MII173301.html, loading!\n"
     ]
    },
    {
     "name": "stdout",
     "output_type": "stream",
     "text": [
      "Already have ../outputs/raw/snapshots/2024-06_MII173813.html, loading!\n"
     ]
    },
    {
     "name": "stdout",
     "output_type": "stream",
     "text": [
      "Already have ../outputs/raw/snapshots/2024-06_MII173994.html, loading!\n"
     ]
    },
    {
     "name": "stdout",
     "output_type": "stream",
     "text": [
      "Already have ../outputs/raw/snapshots/2024-06_MII176451.html, loading!\n"
     ]
    },
    {
     "name": "stdout",
     "output_type": "stream",
     "text": [
      "Already have ../outputs/raw/snapshots/2024-06_MII176714.html, loading!\n"
     ]
    },
    {
     "name": "stdout",
     "output_type": "stream",
     "text": [
      "Already have ../outputs/raw/snapshots/2024-06_MII178681.html, loading!\n"
     ]
    },
    {
     "name": "stdout",
     "output_type": "stream",
     "text": [
      "Already have ../outputs/raw/snapshots/2024-06_MII179324.html, loading!\n"
     ]
    },
    {
     "name": "stdout",
     "output_type": "stream",
     "text": [
      "Already have ../outputs/raw/snapshots/2024-06_MII179306.html, loading!\n"
     ]
    },
    {
     "name": "stdout",
     "output_type": "stream",
     "text": [
      "Already have ../outputs/raw/snapshots/2024-06_MII179856.html, loading!\n"
     ]
    },
    {
     "name": "stdout",
     "output_type": "stream",
     "text": [
      "Already have ../outputs/raw/snapshots/2024-06_MII180451.html, loading!\n"
     ]
    },
    {
     "name": "stdout",
     "output_type": "stream",
     "text": [
      "Already have ../outputs/raw/snapshots/2024-06_MII181401.html, loading!\n"
     ]
    },
    {
     "name": "stdout",
     "output_type": "stream",
     "text": [
      "Already have ../outputs/raw/snapshots/2024-06_MII181625.html, loading!\n"
     ]
    },
    {
     "name": "stdout",
     "output_type": "stream",
     "text": [
      "Already have ../outputs/raw/snapshots/2024-06_MII172332.html, loading!\n"
     ]
    },
    {
     "name": "stdout",
     "output_type": "stream",
     "text": [
      "Already have ../outputs/raw/snapshots/2024-06_MII179876.html, loading!\n"
     ]
    },
    {
     "name": "stdout",
     "output_type": "stream",
     "text": [
      "Already have ../outputs/raw/snapshots/2024-06_MII172208.html, loading!\n"
     ]
    },
    {
     "name": "stdout",
     "output_type": "stream",
     "text": [
      "Already have ../outputs/raw/snapshots/2024-06_MII177384.html, loading!\n"
     ]
    },
    {
     "name": "stdout",
     "output_type": "stream",
     "text": [
      "Already have ../outputs/raw/snapshots/2024-06_MII181417.html, loading!\n"
     ]
    },
    {
     "name": "stdout",
     "output_type": "stream",
     "text": [
      "Already have ../outputs/raw/snapshots/2024-06_MII173063.html, loading!\n"
     ]
    },
    {
     "name": "stdout",
     "output_type": "stream",
     "text": [
      "Already have ../outputs/raw/snapshots/2024-06_MII158901.html, loading!\n"
     ]
    },
    {
     "name": "stdout",
     "output_type": "stream",
     "text": [
      "Already have ../outputs/raw/snapshots/2024-06_MII173341.html, loading!\n"
     ]
    },
    {
     "name": "stdout",
     "output_type": "stream",
     "text": [
      "Already have ../outputs/raw/snapshots/2024-06_MII173265.html, loading!\n"
     ]
    },
    {
     "name": "stdout",
     "output_type": "stream",
     "text": [
      "Already have ../outputs/raw/snapshots/2024-06_MII178700.html, loading!\n"
     ]
    },
    {
     "name": "stdout",
     "output_type": "stream",
     "text": [
      "Already have ../outputs/raw/snapshots/2024-06_MII172344.html, loading!\n"
     ]
    },
    {
     "name": "stdout",
     "output_type": "stream",
     "text": [
      "Already have ../outputs/raw/snapshots/2024-06_MII181691.html, loading!\n"
     ]
    },
    {
     "name": "stdout",
     "output_type": "stream",
     "text": [
      "Already have ../outputs/raw/snapshots/2024-06_MII160204.html, loading!\n"
     ]
    },
    {
     "name": "stdout",
     "output_type": "stream",
     "text": [
      "Already have ../outputs/raw/snapshots/2024-06_MII181934.html, loading!\n"
     ]
    },
    {
     "name": "stdout",
     "output_type": "stream",
     "text": [
      "Already have ../outputs/raw/snapshots/2024-06_MII172827.html, loading!\n"
     ]
    },
    {
     "name": "stdout",
     "output_type": "stream",
     "text": [
      "Already have ../outputs/raw/snapshots/2024-06_MII176771.html, loading!\n"
     ]
    },
    {
     "name": "stdout",
     "output_type": "stream",
     "text": [
      "Already have ../outputs/raw/snapshots/2024-06_MII159060.html, loading!\n"
     ]
    },
    {
     "name": "stdout",
     "output_type": "stream",
     "text": [
      "Already have ../outputs/raw/snapshots/2024-06_MII152284.html, loading!\n"
     ]
    },
    {
     "name": "stdout",
     "output_type": "stream",
     "text": [
      "Already have ../outputs/raw/snapshots/2024-06_MII176403.html, loading!\n"
     ]
    },
    {
     "name": "stdout",
     "output_type": "stream",
     "text": [
      "Already have ../outputs/raw/snapshots/2024-06_MII182339.html, loading!\n"
     ]
    },
    {
     "name": "stdout",
     "output_type": "stream",
     "text": [
      "Already have ../outputs/raw/snapshots/2024-06_MII180001.html, loading!\n"
     ]
    },
    {
     "name": "stdout",
     "output_type": "stream",
     "text": [
      "Already have ../outputs/raw/snapshots/2024-06_MII174686.html, loading!\n"
     ]
    },
    {
     "name": "stdout",
     "output_type": "stream",
     "text": [
      "Already have ../outputs/raw/snapshots/2024-06_MII179842.html, loading!\n"
     ]
    },
    {
     "name": "stdout",
     "output_type": "stream",
     "text": [
      "Already have ../outputs/raw/snapshots/2024-06_MII172508.html, loading!\n"
     ]
    },
    {
     "name": "stdout",
     "output_type": "stream",
     "text": [
      "Already have ../outputs/raw/snapshots/2024-06_MII179981.html, loading!\n"
     ]
    },
    {
     "name": "stdout",
     "output_type": "stream",
     "text": [
      "Already have ../outputs/raw/snapshots/2024-06_MII179364.html, loading!\n"
     ]
    },
    {
     "name": "stdout",
     "output_type": "stream",
     "text": [
      "Already have ../outputs/raw/snapshots/2024-06_MII178638.html, loading!\n"
     ]
    },
    {
     "name": "stdout",
     "output_type": "stream",
     "text": [
      "Already have ../outputs/raw/snapshots/2024-06_MII181125.html, loading!\n"
     ]
    }
   ],
   "source": [
    "data = []\n",
    "\n",
    "for prison_id in prison_ids:\n",
    "    success = False\n",
    "    for attempt in range(5):\n",
    "        try:\n",
    "            html_content = await get_html(prison_id, current_month)\n",
    "            # Parse the html with BeautifulSoup\n",
    "            soup = BeautifulSoup(html_content, 'html.parser')\n",
    "            prison_data = get_prison_data(soup, current_day)\n",
    "\n",
    "            # Append prison_data to data list\n",
    "            data.append(prison_data)\n",
    "\n",
    "            success = True\n",
    "            break  # Break the retry loop if successful\n",
    "\n",
    "        except Exception as e:\n",
    "            print(f\"Attempt {attempt+1} failed for prison_id {prison_id}. Error: {e}\")\n",
    "            if attempt < 4:  # If not the last attempt, sleep for 10 seconds before retrying\n",
    "                sleep(10)\n",
    "\n",
    "    if not success:\n",
    "        print(f\"Failed to fetch data for prison_id {prison_id} after 5 attempts.\")\n",
    "\n",
    "    # Sleep for 3 seconds before making the next request\n",
    "    sleep(3)\n",
    "\n",
    "# Convert prison_data_list to a Pandas DataFrame\n",
    "data_df = pd.DataFrame(data)"
   ]
  },
  {
   "cell_type": "code",
   "execution_count": 8,
   "metadata": {
    "execution": {
     "iopub.execute_input": "2024-06-21T15:09:44.259605Z",
     "iopub.status.busy": "2024-06-21T15:09:44.259336Z",
     "iopub.status.idle": "2024-06-21T15:09:44.279482Z",
     "shell.execute_reply": "2024-06-21T15:09:44.278744Z"
    }
   },
   "outputs": [
    {
     "data": {
      "text/html": [
       "<div>\n",
       "<style scoped>\n",
       "    .dataframe tbody tr th:only-of-type {\n",
       "        vertical-align: middle;\n",
       "    }\n",
       "\n",
       "    .dataframe tbody tr th {\n",
       "        vertical-align: top;\n",
       "    }\n",
       "\n",
       "    .dataframe thead th {\n",
       "        text-align: right;\n",
       "    }\n",
       "</style>\n",
       "<table border=\"1\" class=\"dataframe\">\n",
       "  <thead>\n",
       "    <tr style=\"text-align: right;\">\n",
       "      <th></th>\n",
       "      <th>prison_id</th>\n",
       "      <th>institute_name</th>\n",
       "      <th>institute_type</th>\n",
       "      <th>posti_regolamentari</th>\n",
       "      <th>posti_non_disponibili</th>\n",
       "      <th>totale_detenuti</th>\n",
       "      <th>dati_aggiornati_al</th>\n",
       "      <th>asl</th>\n",
       "      <th>nome_responsabile_asl</th>\n",
       "      <th>cognome_responsabile_asl</th>\n",
       "      <th>...</th>\n",
       "      <th>ruolo_direttore</th>\n",
       "      <th>polizia_penitenziaria_effettivi</th>\n",
       "      <th>polizia_penitenziaria_previsti</th>\n",
       "      <th>amministrativi_effettivi</th>\n",
       "      <th>amministrativi_previsti</th>\n",
       "      <th>educatori_effettivi</th>\n",
       "      <th>educatori_previsti</th>\n",
       "      <th>personale_polizia_aggiornato_a</th>\n",
       "      <th>personale_amministrativo_aggiornato_al</th>\n",
       "      <th>data_extracted_on</th>\n",
       "    </tr>\n",
       "  </thead>\n",
       "  <tbody>\n",
       "    <tr>\n",
       "      <th>0</th>\n",
       "      <td>MII179988</td>\n",
       "      <td>Reggio Calabria Arghillà</td>\n",
       "      <td>Casa circondariale</td>\n",
       "      <td>294</td>\n",
       "      <td>0</td>\n",
       "      <td>353</td>\n",
       "      <td>17/06/2024</td>\n",
       "      <td>5 Reggio Calabria</td>\n",
       "      <td>Luciano</td>\n",
       "      <td>Lucania</td>\n",
       "      <td>...</td>\n",
       "      <td>Titolare</td>\n",
       "      <td>133</td>\n",
       "      <td>160</td>\n",
       "      <td>12</td>\n",
       "      <td>32</td>\n",
       "      <td>5</td>\n",
       "      <td>8</td>\n",
       "      <td>31/05/2024</td>\n",
       "      <td>31/05/2024</td>\n",
       "      <td>2024-06-21</td>\n",
       "    </tr>\n",
       "    <tr>\n",
       "      <th>1</th>\n",
       "      <td>MII172610</td>\n",
       "      <td>Brescia Verziano</td>\n",
       "      <td>Casa di reclusione</td>\n",
       "      <td>71</td>\n",
       "      <td>0</td>\n",
       "      <td>123</td>\n",
       "      <td>17/06/2024</td>\n",
       "      <td>Spedali Civili di Brescia</td>\n",
       "      <td>Luigi</td>\n",
       "      <td>Leone</td>\n",
       "      <td>...</td>\n",
       "      <td>NA</td>\n",
       "      <td>77</td>\n",
       "      <td>96</td>\n",
       "      <td>2</td>\n",
       "      <td>0</td>\n",
       "      <td>1</td>\n",
       "      <td>0</td>\n",
       "      <td>31/05/2024</td>\n",
       "      <td>31/05/2024</td>\n",
       "      <td>2024-06-21</td>\n",
       "    </tr>\n",
       "    <tr>\n",
       "      <th>2</th>\n",
       "      <td>MII172320</td>\n",
       "      <td>Busto Arsizio</td>\n",
       "      <td>Casa circondariale</td>\n",
       "      <td>240</td>\n",
       "      <td>11</td>\n",
       "      <td>440</td>\n",
       "      <td>17/06/2024</td>\n",
       "      <td>Busto Arsizio</td>\n",
       "      <td>Ezia</td>\n",
       "      <td>Iorio</td>\n",
       "      <td>...</td>\n",
       "      <td>Titolare</td>\n",
       "      <td>180</td>\n",
       "      <td>217</td>\n",
       "      <td>14</td>\n",
       "      <td>21</td>\n",
       "      <td>3</td>\n",
       "      <td>5</td>\n",
       "      <td>31/05/2024</td>\n",
       "      <td>31/05/2024</td>\n",
       "      <td>2024-06-21</td>\n",
       "    </tr>\n",
       "    <tr>\n",
       "      <th>3</th>\n",
       "      <td>MII173712</td>\n",
       "      <td>Como</td>\n",
       "      <td>Casa circondariale</td>\n",
       "      <td>226</td>\n",
       "      <td>0</td>\n",
       "      <td>433</td>\n",
       "      <td>17/06/2024</td>\n",
       "      <td>Como</td>\n",
       "      <td>Giuseppe</td>\n",
       "      <td>Carrano</td>\n",
       "      <td>...</td>\n",
       "      <td>Titolare</td>\n",
       "      <td>181</td>\n",
       "      <td>236</td>\n",
       "      <td>15</td>\n",
       "      <td>23</td>\n",
       "      <td>3</td>\n",
       "      <td>6</td>\n",
       "      <td>31/05/2024</td>\n",
       "      <td>31/05/2024</td>\n",
       "      <td>2024-06-21</td>\n",
       "    </tr>\n",
       "    <tr>\n",
       "      <th>4</th>\n",
       "      <td>MII173747</td>\n",
       "      <td>Cremona</td>\n",
       "      <td>Casa circondariale</td>\n",
       "      <td>394</td>\n",
       "      <td>10</td>\n",
       "      <td>577</td>\n",
       "      <td>17/06/2024</td>\n",
       "      <td>CREMONA</td>\n",
       "      <td>Rossano</td>\n",
       "      <td>Botto</td>\n",
       "      <td>...</td>\n",
       "      <td>Titolare</td>\n",
       "      <td>169</td>\n",
       "      <td>223</td>\n",
       "      <td>16</td>\n",
       "      <td>23</td>\n",
       "      <td>6</td>\n",
       "      <td>6</td>\n",
       "      <td>31/05/2024</td>\n",
       "      <td>31/05/2024</td>\n",
       "      <td>2024-06-21</td>\n",
       "    </tr>\n",
       "    <tr>\n",
       "      <th>...</th>\n",
       "      <td>...</td>\n",
       "      <td>...</td>\n",
       "      <td>...</td>\n",
       "      <td>...</td>\n",
       "      <td>...</td>\n",
       "      <td>...</td>\n",
       "      <td>...</td>\n",
       "      <td>...</td>\n",
       "      <td>...</td>\n",
       "      <td>...</td>\n",
       "      <td>...</td>\n",
       "      <td>...</td>\n",
       "      <td>...</td>\n",
       "      <td>...</td>\n",
       "      <td>...</td>\n",
       "      <td>...</td>\n",
       "      <td>...</td>\n",
       "      <td>...</td>\n",
       "      <td>...</td>\n",
       "      <td>...</td>\n",
       "      <td>...</td>\n",
       "    </tr>\n",
       "    <tr>\n",
       "      <th>184</th>\n",
       "      <td>MII172508</td>\n",
       "      <td>Bologna</td>\n",
       "      <td>Casa circondariale - Rocco D'Amato</td>\n",
       "      <td>498</td>\n",
       "      <td>7</td>\n",
       "      <td>847</td>\n",
       "      <td>17/06/2024</td>\n",
       "      <td>Bologna</td>\n",
       "      <td>Raffaella</td>\n",
       "      <td>Campalastri</td>\n",
       "      <td>...</td>\n",
       "      <td>Titolare</td>\n",
       "      <td>421</td>\n",
       "      <td>541</td>\n",
       "      <td>27</td>\n",
       "      <td>35</td>\n",
       "      <td>10</td>\n",
       "      <td>10</td>\n",
       "      <td>31/05/2024</td>\n",
       "      <td>31/05/2024</td>\n",
       "      <td>2024-06-21</td>\n",
       "    </tr>\n",
       "    <tr>\n",
       "      <th>185</th>\n",
       "      <td>MII179981</td>\n",
       "      <td>Ravenna</td>\n",
       "      <td>Casa circondariale</td>\n",
       "      <td>49</td>\n",
       "      <td>0</td>\n",
       "      <td>79</td>\n",
       "      <td>17/06/2024</td>\n",
       "      <td>Romagna</td>\n",
       "      <td>Maurizio</td>\n",
       "      <td>Serra</td>\n",
       "      <td>...</td>\n",
       "      <td>Titolare</td>\n",
       "      <td>66</td>\n",
       "      <td>83</td>\n",
       "      <td>17</td>\n",
       "      <td>14</td>\n",
       "      <td>5</td>\n",
       "      <td>3</td>\n",
       "      <td>31/05/2024</td>\n",
       "      <td>31/05/2024</td>\n",
       "      <td>2024-06-21</td>\n",
       "    </tr>\n",
       "    <tr>\n",
       "      <th>186</th>\n",
       "      <td>MII179364</td>\n",
       "      <td>Parma</td>\n",
       "      <td>Casa di reclusione</td>\n",
       "      <td>655</td>\n",
       "      <td>27</td>\n",
       "      <td>698</td>\n",
       "      <td>17/06/2024</td>\n",
       "      <td>PARMA</td>\n",
       "      <td>Choroma</td>\n",
       "      <td>FAISSAL</td>\n",
       "      <td>...</td>\n",
       "      <td>Titolare</td>\n",
       "      <td>355</td>\n",
       "      <td>462</td>\n",
       "      <td>2</td>\n",
       "      <td>0</td>\n",
       "      <td>0</td>\n",
       "      <td>0</td>\n",
       "      <td>31/05/2024</td>\n",
       "      <td>31/05/2024</td>\n",
       "      <td>2024-06-21</td>\n",
       "    </tr>\n",
       "    <tr>\n",
       "      <th>187</th>\n",
       "      <td>MII178638</td>\n",
       "      <td>Modena</td>\n",
       "      <td>Casa circondariale</td>\n",
       "      <td>372</td>\n",
       "      <td>0</td>\n",
       "      <td>537</td>\n",
       "      <td>17/06/2024</td>\n",
       "      <td>MODENA</td>\n",
       "      <td>Stefano</td>\n",
       "      <td>Petrella</td>\n",
       "      <td>...</td>\n",
       "      <td>Titolare</td>\n",
       "      <td>210</td>\n",
       "      <td>257</td>\n",
       "      <td>22</td>\n",
       "      <td>27</td>\n",
       "      <td>6</td>\n",
       "      <td>6</td>\n",
       "      <td>31/05/2024</td>\n",
       "      <td>31/05/2024</td>\n",
       "      <td>2024-06-21</td>\n",
       "    </tr>\n",
       "    <tr>\n",
       "      <th>188</th>\n",
       "      <td>MII181125</td>\n",
       "      <td>Siracusa</td>\n",
       "      <td>Casa circondariale</td>\n",
       "      <td>545</td>\n",
       "      <td>0</td>\n",
       "      <td>669</td>\n",
       "      <td>17/06/2024</td>\n",
       "      <td>NA</td>\n",
       "      <td>NA</td>\n",
       "      <td>NA</td>\n",
       "      <td>...</td>\n",
       "      <td>Titolare</td>\n",
       "      <td>229</td>\n",
       "      <td>250</td>\n",
       "      <td>22</td>\n",
       "      <td>27</td>\n",
       "      <td>6</td>\n",
       "      <td>6</td>\n",
       "      <td>31/05/2024</td>\n",
       "      <td>31/05/2024</td>\n",
       "      <td>2024-06-21</td>\n",
       "    </tr>\n",
       "  </tbody>\n",
       "</table>\n",
       "<p>189 rows × 22 columns</p>\n",
       "</div>"
      ],
      "text/plain": [
       "     prison_id            institute_name                      institute_type  \\\n",
       "0    MII179988  Reggio Calabria Arghillà                  Casa circondariale   \n",
       "1    MII172610          Brescia Verziano                  Casa di reclusione   \n",
       "2    MII172320             Busto Arsizio                  Casa circondariale   \n",
       "3    MII173712                      Como                  Casa circondariale   \n",
       "4    MII173747                   Cremona                  Casa circondariale   \n",
       "..         ...                       ...                                 ...   \n",
       "184  MII172508                   Bologna  Casa circondariale - Rocco D'Amato   \n",
       "185  MII179981                   Ravenna                  Casa circondariale   \n",
       "186  MII179364                     Parma                  Casa di reclusione   \n",
       "187  MII178638                    Modena                  Casa circondariale   \n",
       "188  MII181125                  Siracusa                  Casa circondariale   \n",
       "\n",
       "     posti_regolamentari  posti_non_disponibili  totale_detenuti  \\\n",
       "0                    294                      0              353   \n",
       "1                     71                      0              123   \n",
       "2                    240                     11              440   \n",
       "3                    226                      0              433   \n",
       "4                    394                     10              577   \n",
       "..                   ...                    ...              ...   \n",
       "184                  498                      7              847   \n",
       "185                   49                      0               79   \n",
       "186                  655                     27              698   \n",
       "187                  372                      0              537   \n",
       "188                  545                      0              669   \n",
       "\n",
       "    dati_aggiornati_al                        asl nome_responsabile_asl  \\\n",
       "0           17/06/2024          5 Reggio Calabria               Luciano   \n",
       "1           17/06/2024  Spedali Civili di Brescia                 Luigi   \n",
       "2           17/06/2024              Busto Arsizio                  Ezia   \n",
       "3           17/06/2024                       Como              Giuseppe   \n",
       "4           17/06/2024                    CREMONA               Rossano   \n",
       "..                 ...                        ...                   ...   \n",
       "184         17/06/2024                    Bologna             Raffaella   \n",
       "185         17/06/2024                    Romagna              Maurizio   \n",
       "186         17/06/2024                      PARMA               Choroma   \n",
       "187         17/06/2024                     MODENA               Stefano   \n",
       "188         17/06/2024                         NA                    NA   \n",
       "\n",
       "    cognome_responsabile_asl  ... ruolo_direttore  \\\n",
       "0                    Lucania  ...        Titolare   \n",
       "1                      Leone  ...              NA   \n",
       "2                      Iorio  ...        Titolare   \n",
       "3                    Carrano  ...        Titolare   \n",
       "4                      Botto  ...        Titolare   \n",
       "..                       ...  ...             ...   \n",
       "184              Campalastri  ...        Titolare   \n",
       "185                    Serra  ...        Titolare   \n",
       "186                  FAISSAL  ...        Titolare   \n",
       "187                 Petrella  ...        Titolare   \n",
       "188                       NA  ...        Titolare   \n",
       "\n",
       "    polizia_penitenziaria_effettivi polizia_penitenziaria_previsti  \\\n",
       "0                               133                            160   \n",
       "1                                77                             96   \n",
       "2                               180                            217   \n",
       "3                               181                            236   \n",
       "4                               169                            223   \n",
       "..                              ...                            ...   \n",
       "184                             421                            541   \n",
       "185                              66                             83   \n",
       "186                             355                            462   \n",
       "187                             210                            257   \n",
       "188                             229                            250   \n",
       "\n",
       "     amministrativi_effettivi  amministrativi_previsti  educatori_effettivi  \\\n",
       "0                          12                       32                    5   \n",
       "1                           2                        0                    1   \n",
       "2                          14                       21                    3   \n",
       "3                          15                       23                    3   \n",
       "4                          16                       23                    6   \n",
       "..                        ...                      ...                  ...   \n",
       "184                        27                       35                   10   \n",
       "185                        17                       14                    5   \n",
       "186                         2                        0                    0   \n",
       "187                        22                       27                    6   \n",
       "188                        22                       27                    6   \n",
       "\n",
       "     educatori_previsti  personale_polizia_aggiornato_a  \\\n",
       "0                     8                      31/05/2024   \n",
       "1                     0                      31/05/2024   \n",
       "2                     5                      31/05/2024   \n",
       "3                     6                      31/05/2024   \n",
       "4                     6                      31/05/2024   \n",
       "..                  ...                             ...   \n",
       "184                  10                      31/05/2024   \n",
       "185                   3                      31/05/2024   \n",
       "186                   0                      31/05/2024   \n",
       "187                   6                      31/05/2024   \n",
       "188                   6                      31/05/2024   \n",
       "\n",
       "     personale_amministrativo_aggiornato_al data_extracted_on  \n",
       "0                                31/05/2024        2024-06-21  \n",
       "1                                31/05/2024        2024-06-21  \n",
       "2                                31/05/2024        2024-06-21  \n",
       "3                                31/05/2024        2024-06-21  \n",
       "4                                31/05/2024        2024-06-21  \n",
       "..                                      ...               ...  \n",
       "184                              31/05/2024        2024-06-21  \n",
       "185                              31/05/2024        2024-06-21  \n",
       "186                              31/05/2024        2024-06-21  \n",
       "187                              31/05/2024        2024-06-21  \n",
       "188                              31/05/2024        2024-06-21  \n",
       "\n",
       "[189 rows x 22 columns]"
      ]
     },
     "execution_count": 8,
     "metadata": {},
     "output_type": "execute_result"
    }
   ],
   "source": [
    "data_df"
   ]
  },
  {
   "cell_type": "code",
   "execution_count": 9,
   "metadata": {
    "execution": {
     "iopub.execute_input": "2024-06-21T15:09:44.281968Z",
     "iopub.status.busy": "2024-06-21T15:09:44.281746Z",
     "iopub.status.idle": "2024-06-21T15:09:44.294585Z",
     "shell.execute_reply": "2024-06-21T15:09:44.294003Z"
    }
   },
   "outputs": [],
   "source": [
    "old_data_path = Path('../outputs/clean/istituti_data.csv')\n",
    "\n",
    "if old_data_path.exists():\n",
    "  old_data = pd.read_csv('../outputs/clean/istituti_data.csv')\n",
    "  combined_data = pd.concat([old_data, data_df], ignore_index=True)\n",
    "  combined_data.drop_duplicates(inplace=True)\n",
    "else:\n",
    "  combined_data = data_df\n",
    "  combined_data.drop_duplicates\n",
    "\n",
    "combined_data.to_csv('../outputs/clean/istituti_data.csv', index=False)"
   ]
  }
 ],
 "metadata": {
  "kernelspec": {
   "display_name": "Python 3",
   "language": "python",
   "name": "python3"
  },
  "language_info": {
   "codemirror_mode": {
    "name": "ipython",
    "version": 3
   },
   "file_extension": ".py",
   "mimetype": "text/x-python",
   "name": "python",
   "nbconvert_exporter": "python",
   "pygments_lexer": "ipython3",
   "version": "3.10.14"
  }
 },
 "nbformat": 4,
 "nbformat_minor": 2
}

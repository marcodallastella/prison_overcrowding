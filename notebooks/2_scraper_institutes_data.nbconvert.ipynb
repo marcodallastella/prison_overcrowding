{
 "cells": [
  {
   "cell_type": "markdown",
   "metadata": {},
   "source": [
    "# Scraper institutes\n",
    "This notebook is a monthly scraper used to retrieve information about condition in detention centers in Italy. To do so, it uses the id numbers of the various detention centers to navigate to the dedicated webpages with Selenium, store locally the html code of the page and then parse it using BeautifuSoup. The information is then stored in a pandas dataframe and saved as a csv file."
   ]
  },
  {
   "cell_type": "code",
   "execution_count": 1,
   "metadata": {
    "execution": {
     "iopub.execute_input": "2024-07-22T00:18:29.374106Z",
     "iopub.status.busy": "2024-07-22T00:18:29.373900Z",
     "iopub.status.idle": "2024-07-22T00:18:29.750689Z",
     "shell.execute_reply": "2024-07-22T00:18:29.750032Z"
    }
   },
   "outputs": [],
   "source": [
    "import pandas as pd\n",
    "import requests\n",
    "import datetime\n",
    "from bs4 import BeautifulSoup\n",
    "import asyncio\n",
    "from playwright.async_api import async_playwright\n",
    "from time import sleep\n",
    "from pathlib import Path"
   ]
  },
  {
   "cell_type": "code",
   "execution_count": 2,
   "metadata": {
    "execution": {
     "iopub.execute_input": "2024-07-22T00:18:29.753545Z",
     "iopub.status.busy": "2024-07-22T00:18:29.753233Z",
     "iopub.status.idle": "2024-07-22T00:18:29.756652Z",
     "shell.execute_reply": "2024-07-22T00:18:29.756090Z"
    }
   },
   "outputs": [],
   "source": [
    "# Get current date\n",
    "current_month = datetime.datetime.now().strftime(\"%Y-%m\")\n",
    "current_day = datetime.datetime.now().strftime(\"%Y-%m-%d\")"
   ]
  },
  {
   "cell_type": "code",
   "execution_count": 3,
   "metadata": {
    "execution": {
     "iopub.execute_input": "2024-07-22T00:18:29.759162Z",
     "iopub.status.busy": "2024-07-22T00:18:29.758708Z",
     "iopub.status.idle": "2024-07-22T00:18:29.764735Z",
     "shell.execute_reply": "2024-07-22T00:18:29.764124Z"
    }
   },
   "outputs": [],
   "source": [
    "# Collect institutes id numbers\n",
    "df_institutes = pd.read_csv(f'../outputs/clean/istituti_info.csv')\n",
    "prison_ids = df_institutes['id_istituto'].tolist()"
   ]
  },
  {
   "cell_type": "code",
   "execution_count": 4,
   "metadata": {
    "execution": {
     "iopub.execute_input": "2024-07-22T00:18:29.767250Z",
     "iopub.status.busy": "2024-07-22T00:18:29.766892Z",
     "iopub.status.idle": "2024-07-22T00:18:29.771691Z",
     "shell.execute_reply": "2024-07-22T00:18:29.771144Z"
    }
   },
   "outputs": [],
   "source": [
    "# Function to grab the html code of the page\n",
    "async def get_html(prison_id, current_day):\n",
    "\n",
    "    dest = Path(f\"../outputs/raw/snapshots/{current_day}_{prison_id}.html\")\n",
    "\n",
    "    if dest.exists() : #... load it from file\n",
    "        print(f\"Already have {dest}, loading!\")\n",
    "        page_html = open(dest).read()\n",
    "    else:\n",
    "        BASE_URL = \"https://www.giustizia.it/giustizia/it/dettaglio_scheda.page?s=\"\n",
    "        playwright = await async_playwright().start()\n",
    "    \n",
    "        try:\n",
    "            browser = await playwright.firefox.launch()\n",
    "            context = await browser.new_context(viewport={'width': 1280, 'height': 800})\n",
    "            page = await context.new_page()\n",
    "            await page.goto(f\"{BASE_URL}{prison_id}\")\n",
    "            print(\"Fetching \" + prison_id)\n",
    "            page_html = await page.content()\n",
    "            \n",
    "            # Stores html code in dest\n",
    "            # dest.write_text(page_html)\n",
    "        finally:\n",
    "            await browser.close()\n",
    "            await playwright.stop()\n",
    "    \n",
    "    return page_html"
   ]
  },
  {
   "cell_type": "code",
   "execution_count": 5,
   "metadata": {
    "execution": {
     "iopub.execute_input": "2024-07-22T00:18:29.774205Z",
     "iopub.status.busy": "2024-07-22T00:18:29.773788Z",
     "iopub.status.idle": "2024-07-22T00:18:29.783644Z",
     "shell.execute_reply": "2024-07-22T00:18:29.783103Z"
    }
   },
   "outputs": [],
   "source": [
    "# Function to extract institute name and type\n",
    "def extract_institute_details(soup):\n",
    "    institute_name = soup.find('h1', {'class': 'titoloIstituto'}).text.strip()\n",
    "    institute_type = soup.find('h3', {'class': 'titoloIstituto'}).text.strip()\n",
    "    return institute_name, institute_type\n",
    "\n",
    "# Function to extract capacity table data\n",
    "def extract_capacity_data(soup):\n",
    "    table_capienze = soup.find_all('table')[0]\n",
    "    rows = table_capienze.find_all('tr')\n",
    "    if len(rows) > 1:  # Ensure there are rows in the table\n",
    "        cells = rows[1].find_all('td') \n",
    "        posti_regolamentari = int(cells[0].text.strip())\n",
    "        posti_non_disponibili = int(cells[1].text.strip())\n",
    "        totale_detenuti = int(cells[2].text.strip())\n",
    "    else:\n",
    "        posti_regolamentari = posti_non_disponibili = totale_detenuti = 0\n",
    "    return posti_regolamentari, posti_non_disponibili, totale_detenuti\n",
    "\n",
    "# Function to extract updated date\n",
    "def extract_updated_date(soup, header_text):\n",
    "    target_span = soup.find('h2', text=header_text)\n",
    "    if target_span:\n",
    "        span = target_span.find_next_sibling('span')\n",
    "        return span.text.strip() if span else 'NA'\n",
    "    return 'NA'\n",
    "\n",
    "def extract_personnel_details(soup, header_text):\n",
    "    target_span = soup.find('h2', text=header_text)\n",
    "    if target_span:\n",
    "        try:\n",
    "            div = target_span.find_next('div', {'class': 'listaContenutiComplessi'})\n",
    "            spans = div.find_all('span', {'class': 'valoreSottocampo'})\n",
    "            return spans[0].text.strip(), spans[1].text.strip(), spans[2].text.strip()\n",
    "        except:\n",
    "            return 'NA', 'NA', 'NA'\n",
    "    return 'NA', 'NA', 'NA'\n",
    "\n",
    "# Function to extract staff table data\n",
    "def extract_staff_data(soup):\n",
    "    table_staff = soup.find_all('table')[1]\n",
    "    cells = table_staff.find_all('td')\n",
    "    polizia_penitenziaria_effettivi = int(cells[0].text.strip())\n",
    "    polizia_penitenziaria_previsti = int(cells[1].text.strip())\n",
    "    amministrativi_effettivi = int(cells[2].text.strip())\n",
    "    amministrativi_previsti = int(cells[3].text.strip())\n",
    "    educatori_effettivi = int(cells[4].text.strip())\n",
    "    educatori_previsti = int(cells[5].text.strip())\n",
    "    return (polizia_penitenziaria_effettivi, polizia_penitenziaria_previsti,\n",
    "            amministrativi_effettivi, amministrativi_previsti,\n",
    "            educatori_effettivi, educatori_previsti)\n",
    "\n",
    "# Function to extract last update date\n",
    "def extract_date_of_last_update(soup):\n",
    "    # Police staff\n",
    "    target_span= soup.find('h2', text='personale polizia penitenziaria aggiornato al')\n",
    "    try:\n",
    "        span = target_span.find_next_sibling('span')\n",
    "        personale_polizia_aggiornato_al = span.text.strip()\n",
    "    except:\n",
    "        personale_polizia_aggiornato_al = 'NA'\n",
    "\n",
    "    # Administrative staff\n",
    "    target_span= soup.find('h2', text='personale amministrativo aggiornato al')\n",
    "    try:\n",
    "        span = target_span.find_next_sibling('span')\n",
    "        personale_amministrativo_aggiornato_al = span.text.strip()\n",
    "    except:\n",
    "        personale_amministrativo_aggiornato_al = 'NA'\n",
    "\n",
    "    return personale_polizia_aggiornato_al, personale_amministrativo_aggiornato_al\n",
    "    "
   ]
  },
  {
   "cell_type": "code",
   "execution_count": 6,
   "metadata": {
    "execution": {
     "iopub.execute_input": "2024-07-22T00:18:29.786040Z",
     "iopub.status.busy": "2024-07-22T00:18:29.785711Z",
     "iopub.status.idle": "2024-07-22T00:18:29.790956Z",
     "shell.execute_reply": "2024-07-22T00:18:29.790394Z"
    }
   },
   "outputs": [],
   "source": [
    "# Function to extract institute data\n",
    "def get_prison_data(soup, current_day):\n",
    "\n",
    "    institute_name, institute_type = extract_institute_details(soup)\n",
    "    posti_regolamentari, posti_non_disponibili, totale_detenuti = extract_capacity_data(soup)\n",
    "    dati_aggiornati_al = extract_updated_date(soup, 'dati aggiornati al ')\n",
    "    asl, first_name_asl, last_name_asl = extract_personnel_details(soup, 'Responsabile ASL per il carcere')\n",
    "    first_name, last_name, role = extract_personnel_details(soup, 'Direttore')\n",
    "    (polizia_penitenziaria_effettivi, polizia_penitenziaria_previsti, amministrativi_effettivi, amministrativi_previsti, educatori_effettivi, educatori_previsti) = extract_staff_data(soup)\n",
    "    personale_polizia_aggiornato_al, personale_amministrativo_aggiornato_al = extract_date_of_last_update(soup)\n",
    "\n",
    "    prison_data = {\n",
    "            'id': prison_id,\n",
    "            'nome': institute_name,\n",
    "            'tipo': institute_type,\n",
    "            'posti_regolamentari': posti_regolamentari,\n",
    "            'posti_non_disponibili': posti_non_disponibili,\n",
    "            'posti_occupati': totale_detenuti,\n",
    "            'posti_aggiornati_al': dati_aggiornati_al,\n",
    "            'asl': asl,\n",
    "            'nome_responsabile_asl': first_name_asl,\n",
    "            'cognome_responsabile_asl': last_name_asl,\n",
    "            'nome_direttore': first_name,\n",
    "            'cognome_direttore': last_name,\n",
    "            'ruolo_direttore': role,\n",
    "            'personale_polizia_effettivi': polizia_penitenziaria_effettivi,\n",
    "            'personale_polizia_previsti': polizia_penitenziaria_previsti,\n",
    "            'personale_amministrativi_effettivi': amministrativi_effettivi,\n",
    "            'personale_amministrativi_previsti': amministrativi_previsti,\n",
    "            'personale_educatori_effettivi': educatori_effettivi,\n",
    "            'personale_educatori_previsti': educatori_previsti,\n",
    "            'personale_polizia_aggiornato_a': personale_polizia_aggiornato_al,\n",
    "            'personale_amministrativo_aggiornato_al': personale_amministrativo_aggiornato_al,\n",
    "        }\n",
    "        \n",
    "    return prison_data"
   ]
  },
  {
   "cell_type": "code",
   "execution_count": 7,
   "metadata": {
    "execution": {
     "iopub.execute_input": "2024-07-22T00:18:29.793377Z",
     "iopub.status.busy": "2024-07-22T00:18:29.793037Z",
     "iopub.status.idle": "2024-07-22T00:54:59.635176Z",
     "shell.execute_reply": "2024-07-22T00:54:59.634508Z"
    }
   },
   "outputs": [
    {
     "name": "stdout",
     "output_type": "stream",
     "text": [
      "Fetching MII179988\n"
     ]
    },
    {
     "name": "stderr",
     "output_type": "stream",
     "text": [
      "/tmp/ipykernel_3249/3915262977.py:22: DeprecationWarning: The 'text' argument to find()-type methods is deprecated. Use 'string' instead.\n",
      "  target_span = soup.find('h2', text=header_text)\n",
      "/tmp/ipykernel_3249/3915262977.py:29: DeprecationWarning: The 'text' argument to find()-type methods is deprecated. Use 'string' instead.\n",
      "  target_span = soup.find('h2', text=header_text)\n",
      "/tmp/ipykernel_3249/3915262977.py:56: DeprecationWarning: The 'text' argument to find()-type methods is deprecated. Use 'string' instead.\n",
      "  target_span= soup.find('h2', text='personale polizia penitenziaria aggiornato al')\n",
      "/tmp/ipykernel_3249/3915262977.py:64: DeprecationWarning: The 'text' argument to find()-type methods is deprecated. Use 'string' instead.\n",
      "  target_span= soup.find('h2', text='personale amministrativo aggiornato al')\n"
     ]
    },
    {
     "name": "stdout",
     "output_type": "stream",
     "text": [
      "Fetching MII172610\n"
     ]
    },
    {
     "name": "stdout",
     "output_type": "stream",
     "text": [
      "Fetching MII172320\n"
     ]
    },
    {
     "name": "stdout",
     "output_type": "stream",
     "text": [
      "Fetching MII173712\n"
     ]
    },
    {
     "name": "stdout",
     "output_type": "stream",
     "text": [
      "Fetching MII173747\n"
     ]
    },
    {
     "name": "stdout",
     "output_type": "stream",
     "text": [
      "Fetching MII177436\n"
     ]
    },
    {
     "name": "stdout",
     "output_type": "stream",
     "text": [
      "Fetching MII178027\n"
     ]
    },
    {
     "name": "stdout",
     "output_type": "stream",
     "text": [
      "Fetching MII178072\n"
     ]
    },
    {
     "name": "stdout",
     "output_type": "stream",
     "text": [
      "Fetching MII178659\n"
     ]
    },
    {
     "name": "stdout",
     "output_type": "stream",
     "text": [
      "Fetching MII179237\n"
     ]
    },
    {
     "name": "stdout",
     "output_type": "stream",
     "text": [
      "Fetching MII182910\n"
     ]
    },
    {
     "name": "stdout",
     "output_type": "stream",
     "text": [
      "Fetching MII181346\n"
     ]
    },
    {
     "name": "stdout",
     "output_type": "stream",
     "text": [
      "Fetching MII181703\n"
     ]
    },
    {
     "name": "stdout",
     "output_type": "stream",
     "text": [
      "Fetching MII181924\n"
     ]
    },
    {
     "name": "stdout",
     "output_type": "stream",
     "text": [
      "Fetching MII179733\n"
     ]
    },
    {
     "name": "stdout",
     "output_type": "stream",
     "text": [
      "Fetching MII173311\n"
     ]
    },
    {
     "name": "stdout",
     "output_type": "stream",
     "text": [
      "Fetching MII173324\n"
     ]
    },
    {
     "name": "stdout",
     "output_type": "stream",
     "text": [
      "Fetching MII177996\n"
     ]
    },
    {
     "name": "stdout",
     "output_type": "stream",
     "text": [
      "Fetching MII179342\n"
     ]
    },
    {
     "name": "stdout",
     "output_type": "stream",
     "text": [
      "Fetching MII179353\n"
     ]
    },
    {
     "name": "stdout",
     "output_type": "stream",
     "text": [
      "Fetching MII180415\n"
     ]
    },
    {
     "name": "stdout",
     "output_type": "stream",
     "text": [
      "Fetching MII181908\n"
     ]
    },
    {
     "name": "stdout",
     "output_type": "stream",
     "text": [
      "Fetching MII159053\n"
     ]
    },
    {
     "name": "stdout",
     "output_type": "stream",
     "text": [
      "Fetching MII172187\n"
     ]
    },
    {
     "name": "stdout",
     "output_type": "stream",
     "text": [
      "Fetching MII173101\n"
     ]
    },
    {
     "name": "stdout",
     "output_type": "stream",
     "text": [
      "Fetching MII173784\n"
     ]
    },
    {
     "name": "stdout",
     "output_type": "stream",
     "text": [
      "Fetching MII172580\n"
     ]
    },
    {
     "name": "stdout",
     "output_type": "stream",
     "text": [
      "Fetching MII176719\n"
     ]
    },
    {
     "name": "stdout",
     "output_type": "stream",
     "text": [
      "Fetching MII180426\n"
     ]
    },
    {
     "name": "stdout",
     "output_type": "stream",
     "text": [
      "Fetching MII181079\n"
     ]
    },
    {
     "name": "stdout",
     "output_type": "stream",
     "text": [
      "Fetching MII179290\n"
     ]
    },
    {
     "name": "stdout",
     "output_type": "stream",
     "text": [
      "Fetching MII180487\n"
     ]
    },
    {
     "name": "stdout",
     "output_type": "stream",
     "text": [
      "Fetching MII179913\n"
     ]
    },
    {
     "name": "stdout",
     "output_type": "stream",
     "text": [
      "Fetching MII180424\n"
     ]
    },
    {
     "name": "stdout",
     "output_type": "stream",
     "text": [
      "Fetching MII159065\n"
     ]
    },
    {
     "name": "stdout",
     "output_type": "stream",
     "text": [
      "Fetching MII173237\n"
     ]
    },
    {
     "name": "stdout",
     "output_type": "stream",
     "text": [
      "Fetching MII174501\n"
     ]
    },
    {
     "name": "stdout",
     "output_type": "stream",
     "text": [
      "Fetching MII181645\n"
     ]
    },
    {
     "name": "stdout",
     "output_type": "stream",
     "text": [
      "Fetching MII176424\n"
     ]
    },
    {
     "name": "stdout",
     "output_type": "stream",
     "text": [
      "Fetching MII181661\n"
     ]
    },
    {
     "name": "stdout",
     "output_type": "stream",
     "text": [
      "Fetching MII181672\n"
     ]
    },
    {
     "name": "stdout",
     "output_type": "stream",
     "text": [
      "Fetching MII179818\n"
     ]
    },
    {
     "name": "stdout",
     "output_type": "stream",
     "text": [
      "Fetching MII181863\n"
     ]
    },
    {
     "name": "stdout",
     "output_type": "stream",
     "text": [
      "Fetching MII181847\n"
     ]
    },
    {
     "name": "stdout",
     "output_type": "stream",
     "text": [
      "Fetching MII181891\n"
     ]
    },
    {
     "name": "stdout",
     "output_type": "stream",
     "text": [
      "Fetching MII182440\n"
     ]
    },
    {
     "name": "stdout",
     "output_type": "stream",
     "text": [
      "Fetching MII173088\n"
     ]
    },
    {
     "name": "stdout",
     "output_type": "stream",
     "text": [
      "Fetching MII157783\n"
     ]
    },
    {
     "name": "stdout",
     "output_type": "stream",
     "text": [
      "Fetching MII173114\n"
     ]
    },
    {
     "name": "stdout",
     "output_type": "stream",
     "text": [
      "Fetching MII173364\n"
     ]
    },
    {
     "name": "stdout",
     "output_type": "stream",
     "text": [
      "Fetching MII159069\n"
     ]
    },
    {
     "name": "stdout",
     "output_type": "stream",
     "text": [
      "Fetching MII173688\n"
     ]
    },
    {
     "name": "stdout",
     "output_type": "stream",
     "text": [
      "Fetching MII173356\n"
     ]
    },
    {
     "name": "stdout",
     "output_type": "stream",
     "text": [
      "Fetching MII176437\n"
     ]
    },
    {
     "name": "stdout",
     "output_type": "stream",
     "text": [
      "Fetching MII173764\n"
     ]
    },
    {
     "name": "stdout",
     "output_type": "stream",
     "text": [
      "Fetching MII181636\n"
     ]
    },
    {
     "name": "stdout",
     "output_type": "stream",
     "text": [
      "Fetching MII172814\n"
     ]
    },
    {
     "name": "stdout",
     "output_type": "stream",
     "text": [
      "Fetching MII176759\n"
     ]
    },
    {
     "name": "stdout",
     "output_type": "stream",
     "text": [
      "Fetching MII176414\n"
     ]
    },
    {
     "name": "stdout",
     "output_type": "stream",
     "text": [
      "Fetching MII177134\n"
     ]
    },
    {
     "name": "stdout",
     "output_type": "stream",
     "text": [
      "Fetching MII176703\n"
     ]
    },
    {
     "name": "stdout",
     "output_type": "stream",
     "text": [
      "Fetching MII177107\n"
     ]
    },
    {
     "name": "stdout",
     "output_type": "stream",
     "text": [
      "Fetching MII177323\n"
     ]
    },
    {
     "name": "stdout",
     "output_type": "stream",
     "text": [
      "Fetching MII176749\n"
     ]
    },
    {
     "name": "stdout",
     "output_type": "stream",
     "text": [
      "Fetching MII176781\n"
     ]
    },
    {
     "name": "stdout",
     "output_type": "stream",
     "text": [
      "Fetching MII179331\n"
     ]
    },
    {
     "name": "stdout",
     "output_type": "stream",
     "text": [
      "Fetching MII176788\n"
     ]
    },
    {
     "name": "stdout",
     "output_type": "stream",
     "text": [
      "Fetching MII169535\n"
     ]
    },
    {
     "name": "stdout",
     "output_type": "stream",
     "text": [
      "Fetching MII180401\n"
     ]
    },
    {
     "name": "stdout",
     "output_type": "stream",
     "text": [
      "Fetching MII180437\n"
     ]
    },
    {
     "name": "stdout",
     "output_type": "stream",
     "text": [
      "Fetching MII180380\n"
     ]
    },
    {
     "name": "stdout",
     "output_type": "stream",
     "text": [
      "Fetching MII180356\n"
     ]
    },
    {
     "name": "stdout",
     "output_type": "stream",
     "text": [
      "Fetching MII180348\n"
     ]
    },
    {
     "name": "stdout",
     "output_type": "stream",
     "text": [
      "Fetching MII181870\n"
     ]
    },
    {
     "name": "stdout",
     "output_type": "stream",
     "text": [
      "Fetching MII181880\n"
     ]
    },
    {
     "name": "stdout",
     "output_type": "stream",
     "text": [
      "Fetching MII179299\n"
     ]
    },
    {
     "name": "stdout",
     "output_type": "stream",
     "text": [
      "Fetching MII181371\n"
     ]
    },
    {
     "name": "stdout",
     "output_type": "stream",
     "text": [
      "Fetching MII181820\n"
     ]
    },
    {
     "name": "stdout",
     "output_type": "stream",
     "text": [
      "Attempt 1 failed for prison_id MII181820. Error: 'NoneType' object has no attribute 'text'\n"
     ]
    },
    {
     "name": "stdout",
     "output_type": "stream",
     "text": [
      "Fetching MII181820\n"
     ]
    },
    {
     "name": "stdout",
     "output_type": "stream",
     "text": [
      "Fetching MII181839\n"
     ]
    },
    {
     "name": "stdout",
     "output_type": "stream",
     "text": [
      "Fetching MII181424\n"
     ]
    },
    {
     "name": "stdout",
     "output_type": "stream",
     "text": [
      "Fetching MII158919\n"
     ]
    },
    {
     "name": "stdout",
     "output_type": "stream",
     "text": [
      "Fetching MII179995\n"
     ]
    },
    {
     "name": "stdout",
     "output_type": "stream",
     "text": [
      "Fetching MII158924\n"
     ]
    },
    {
     "name": "stdout",
     "output_type": "stream",
     "text": [
      "Fetching MII172277\n"
     ]
    },
    {
     "name": "stdout",
     "output_type": "stream",
     "text": [
      "Fetching MII158948\n"
     ]
    },
    {
     "name": "stdout",
     "output_type": "stream",
     "text": [
      "Fetching MII181678\n"
     ]
    },
    {
     "name": "stdout",
     "output_type": "stream",
     "text": [
      "Fetching MII174720\n"
     ]
    },
    {
     "name": "stdout",
     "output_type": "stream",
     "text": [
      "Fetching MII172623\n"
     ]
    },
    {
     "name": "stdout",
     "output_type": "stream",
     "text": [
      "Fetching MII176743\n"
     ]
    },
    {
     "name": "stdout",
     "output_type": "stream",
     "text": [
      "Fetching MII176375\n"
     ]
    },
    {
     "name": "stdout",
     "output_type": "stream",
     "text": [
      "Fetching MII177498\n"
     ]
    },
    {
     "name": "stdout",
     "output_type": "stream",
     "text": [
      "Fetching MII177463\n"
     ]
    },
    {
     "name": "stdout",
     "output_type": "stream",
     "text": [
      "Fetching MII178045\n"
     ]
    },
    {
     "name": "stdout",
     "output_type": "stream",
     "text": [
      "Fetching MII178035\n"
     ]
    },
    {
     "name": "stdout",
     "output_type": "stream",
     "text": [
      "Fetching MII178124\n"
     ]
    },
    {
     "name": "stdout",
     "output_type": "stream",
     "text": [
      "Fetching MII178141\n"
     ]
    },
    {
     "name": "stdout",
     "output_type": "stream",
     "text": [
      "Fetching MII179938\n"
     ]
    },
    {
     "name": "stdout",
     "output_type": "stream",
     "text": [
      "Fetching MII179280\n"
     ]
    },
    {
     "name": "stdout",
     "output_type": "stream",
     "text": [
      "Fetching MII180476\n"
     ]
    },
    {
     "name": "stdout",
     "output_type": "stream",
     "text": [
      "Fetching MII181377\n"
     ]
    },
    {
     "name": "stdout",
     "output_type": "stream",
     "text": [
      "Fetching MII181434\n"
     ]
    },
    {
     "name": "stdout",
     "output_type": "stream",
     "text": [
      "Fetching MII182919\n"
     ]
    },
    {
     "name": "stdout",
     "output_type": "stream",
     "text": [
      "Fetching MII181681\n"
     ]
    },
    {
     "name": "stdout",
     "output_type": "stream",
     "text": [
      "Fetching MII179896\n"
     ]
    },
    {
     "name": "stdout",
     "output_type": "stream",
     "text": [
      "Fetching MII158935\n"
     ]
    },
    {
     "name": "stdout",
     "output_type": "stream",
     "text": [
      "Fetching MII179958\n"
     ]
    },
    {
     "name": "stdout",
     "output_type": "stream",
     "text": [
      "Fetching MII158945\n"
     ]
    },
    {
     "name": "stdout",
     "output_type": "stream",
     "text": [
      "Fetching MII180458\n"
     ]
    },
    {
     "name": "stdout",
     "output_type": "stream",
     "text": [
      "Attempt 1 failed for prison_id MII180458. Error: 'NoneType' object has no attribute 'text'\n"
     ]
    },
    {
     "name": "stdout",
     "output_type": "stream",
     "text": [
      "Fetching MII180458\n"
     ]
    },
    {
     "name": "stdout",
     "output_type": "stream",
     "text": [
      "Fetching MII181115\n"
     ]
    },
    {
     "name": "stdout",
     "output_type": "stream",
     "text": [
      "Fetching MII181358\n"
     ]
    },
    {
     "name": "stdout",
     "output_type": "stream",
     "text": [
      "Fetching MII172835\n"
     ]
    },
    {
     "name": "stdout",
     "output_type": "stream",
     "text": [
      "Fetching MII158910\n"
     ]
    },
    {
     "name": "stdout",
     "output_type": "stream",
     "text": [
      "Fetching MII177118\n"
     ]
    },
    {
     "name": "stdout",
     "output_type": "stream",
     "text": [
      "Fetching MII179224\n"
     ]
    },
    {
     "name": "stdout",
     "output_type": "stream",
     "text": [
      "Fetching MII172222\n"
     ]
    },
    {
     "name": "stdout",
     "output_type": "stream",
     "text": [
      "Fetching MII178003\n"
     ]
    },
    {
     "name": "stdout",
     "output_type": "stream",
     "text": [
      "Fetching MII179274\n"
     ]
    },
    {
     "name": "stdout",
     "output_type": "stream",
     "text": [
      "Fetching MII181091\n"
     ]
    },
    {
     "name": "stdout",
     "output_type": "stream",
     "text": [
      "Fetching MII181385\n"
     ]
    },
    {
     "name": "stdout",
     "output_type": "stream",
     "text": [
      "Fetching MII178148\n"
     ]
    },
    {
     "name": "stdout",
     "output_type": "stream",
     "text": [
      "Fetching MII179965\n"
     ]
    },
    {
     "name": "stdout",
     "output_type": "stream",
     "text": [
      "Fetching MII181109\n"
     ]
    },
    {
     "name": "stdout",
     "output_type": "stream",
     "text": [
      "Fetching MII178666\n"
     ]
    },
    {
     "name": "stdout",
     "output_type": "stream",
     "text": [
      "Fetching MII178672\n"
     ]
    },
    {
     "name": "stdout",
     "output_type": "stream",
     "text": [
      "Fetching MII180370\n"
     ]
    },
    {
     "name": "stdout",
     "output_type": "stream",
     "text": [
      "Fetching MII172592\n"
     ]
    },
    {
     "name": "stdout",
     "output_type": "stream",
     "text": [
      "Fetching MII158895\n"
     ]
    },
    {
     "name": "stdout",
     "output_type": "stream",
     "text": [
      "Fetching MII178501\n"
     ]
    },
    {
     "name": "stdout",
     "output_type": "stream",
     "text": [
      "Fetching MII174825\n"
     ]
    },
    {
     "name": "stdout",
     "output_type": "stream",
     "text": [
      "Fetching MII179781\n"
     ]
    },
    {
     "name": "stdout",
     "output_type": "stream",
     "text": [
      "Fetching MII179932\n"
     ]
    },
    {
     "name": "stdout",
     "output_type": "stream",
     "text": [
      "Fetching MII181407\n"
     ]
    },
    {
     "name": "stdout",
     "output_type": "stream",
     "text": [
      "Fetching MII180465\n"
     ]
    },
    {
     "name": "stdout",
     "output_type": "stream",
     "text": [
      "Fetching MII158944\n"
     ]
    },
    {
     "name": "stdout",
     "output_type": "stream",
     "text": [
      "Fetching MII158941\n"
     ]
    },
    {
     "name": "stdout",
     "output_type": "stream",
     "text": [
      "Fetching MII172011\n"
     ]
    },
    {
     "name": "stdout",
     "output_type": "stream",
     "text": [
      "Fetching MII181392\n"
     ]
    },
    {
     "name": "stdout",
     "output_type": "stream",
     "text": [
      "Fetching MII177332\n"
     ]
    },
    {
     "name": "stdout",
     "output_type": "stream",
     "text": [
      "Fetching MII181918\n"
     ]
    },
    {
     "name": "stdout",
     "output_type": "stream",
     "text": [
      "Fetching MII178085\n"
     ]
    },
    {
     "name": "stdout",
     "output_type": "stream",
     "text": [
      "Fetching MII178115\n"
     ]
    },
    {
     "name": "stdout",
     "output_type": "stream",
     "text": [
      "Fetching MII177420\n"
     ]
    },
    {
     "name": "stdout",
     "output_type": "stream",
     "text": [
      "Fetching MII179830\n"
     ]
    },
    {
     "name": "stdout",
     "output_type": "stream",
     "text": [
      "Fetching MII179945\n"
     ]
    },
    {
     "name": "stdout",
     "output_type": "stream",
     "text": [
      "Fetching MII177346\n"
     ]
    },
    {
     "name": "stdout",
     "output_type": "stream",
     "text": [
      "Fetching MII181440\n"
     ]
    },
    {
     "name": "stdout",
     "output_type": "stream",
     "text": [
      "Fetching MII159314\n"
     ]
    },
    {
     "name": "stdout",
     "output_type": "stream",
     "text": [
      "Fetching MII173006\n"
     ]
    },
    {
     "name": "stdout",
     "output_type": "stream",
     "text": [
      "Fetching MII173259\n"
     ]
    },
    {
     "name": "stdout",
     "output_type": "stream",
     "text": [
      "Fetching MII173285\n"
     ]
    },
    {
     "name": "stdout",
     "output_type": "stream",
     "text": [
      "Fetching MII173301\n"
     ]
    },
    {
     "name": "stdout",
     "output_type": "stream",
     "text": [
      "Fetching MII173813\n"
     ]
    },
    {
     "name": "stdout",
     "output_type": "stream",
     "text": [
      "Fetching MII173994\n"
     ]
    },
    {
     "name": "stdout",
     "output_type": "stream",
     "text": [
      "Fetching MII176451\n"
     ]
    },
    {
     "name": "stdout",
     "output_type": "stream",
     "text": [
      "Fetching MII176714\n"
     ]
    },
    {
     "name": "stdout",
     "output_type": "stream",
     "text": [
      "Fetching MII178681\n"
     ]
    },
    {
     "name": "stdout",
     "output_type": "stream",
     "text": [
      "Fetching MII179324\n"
     ]
    },
    {
     "name": "stdout",
     "output_type": "stream",
     "text": [
      "Fetching MII179306\n"
     ]
    },
    {
     "name": "stdout",
     "output_type": "stream",
     "text": [
      "Fetching MII179856\n"
     ]
    },
    {
     "name": "stdout",
     "output_type": "stream",
     "text": [
      "Fetching MII180451\n"
     ]
    },
    {
     "name": "stdout",
     "output_type": "stream",
     "text": [
      "Fetching MII181401\n"
     ]
    },
    {
     "name": "stdout",
     "output_type": "stream",
     "text": [
      "Fetching MII181625\n"
     ]
    },
    {
     "name": "stdout",
     "output_type": "stream",
     "text": [
      "Fetching MII172332\n"
     ]
    },
    {
     "name": "stdout",
     "output_type": "stream",
     "text": [
      "Fetching MII179876\n"
     ]
    },
    {
     "name": "stdout",
     "output_type": "stream",
     "text": [
      "Fetching MII172208\n"
     ]
    },
    {
     "name": "stdout",
     "output_type": "stream",
     "text": [
      "Fetching MII177384\n"
     ]
    },
    {
     "name": "stdout",
     "output_type": "stream",
     "text": [
      "Fetching MII181417\n"
     ]
    },
    {
     "name": "stdout",
     "output_type": "stream",
     "text": [
      "Fetching MII173063\n"
     ]
    },
    {
     "name": "stdout",
     "output_type": "stream",
     "text": [
      "Fetching MII158901\n"
     ]
    },
    {
     "name": "stdout",
     "output_type": "stream",
     "text": [
      "Fetching MII173341\n"
     ]
    },
    {
     "name": "stdout",
     "output_type": "stream",
     "text": [
      "Fetching MII173265\n"
     ]
    },
    {
     "name": "stdout",
     "output_type": "stream",
     "text": [
      "Fetching MII178700\n"
     ]
    },
    {
     "name": "stdout",
     "output_type": "stream",
     "text": [
      "Fetching MII172344\n"
     ]
    },
    {
     "name": "stdout",
     "output_type": "stream",
     "text": [
      "Fetching MII181691\n"
     ]
    },
    {
     "name": "stdout",
     "output_type": "stream",
     "text": [
      "Fetching MII160204\n"
     ]
    },
    {
     "name": "stdout",
     "output_type": "stream",
     "text": [
      "Fetching MII181934\n"
     ]
    },
    {
     "name": "stdout",
     "output_type": "stream",
     "text": [
      "Fetching MII172827\n"
     ]
    },
    {
     "name": "stdout",
     "output_type": "stream",
     "text": [
      "Fetching MII176771\n"
     ]
    },
    {
     "name": "stdout",
     "output_type": "stream",
     "text": [
      "Fetching MII159060\n"
     ]
    },
    {
     "name": "stdout",
     "output_type": "stream",
     "text": [
      "Fetching MII152284\n"
     ]
    },
    {
     "name": "stdout",
     "output_type": "stream",
     "text": [
      "Fetching MII176403\n"
     ]
    },
    {
     "name": "stdout",
     "output_type": "stream",
     "text": [
      "Fetching MII182339\n"
     ]
    },
    {
     "name": "stdout",
     "output_type": "stream",
     "text": [
      "Fetching MII180001\n"
     ]
    },
    {
     "name": "stdout",
     "output_type": "stream",
     "text": [
      "Fetching MII174686\n"
     ]
    },
    {
     "name": "stdout",
     "output_type": "stream",
     "text": [
      "Fetching MII179842\n"
     ]
    },
    {
     "name": "stdout",
     "output_type": "stream",
     "text": [
      "Fetching MII172508\n"
     ]
    },
    {
     "name": "stdout",
     "output_type": "stream",
     "text": [
      "Fetching MII179981\n"
     ]
    },
    {
     "name": "stdout",
     "output_type": "stream",
     "text": [
      "Fetching MII179364\n"
     ]
    },
    {
     "name": "stdout",
     "output_type": "stream",
     "text": [
      "Fetching MII178638\n"
     ]
    },
    {
     "name": "stdout",
     "output_type": "stream",
     "text": [
      "Fetching MII181125\n"
     ]
    }
   ],
   "source": [
    "data = []\n",
    "\n",
    "for prison_id in prison_ids:\n",
    "    success = False\n",
    "    for attempt in range(5):\n",
    "        try:\n",
    "            html_content = await get_html(prison_id, current_month)\n",
    "            # Parse the html with BeautifulSoup\n",
    "            soup = BeautifulSoup(html_content, 'html.parser')\n",
    "            prison_data = get_prison_data(soup, current_day)\n",
    "\n",
    "            # Append prison_data to data list\n",
    "            data.append(prison_data)\n",
    "\n",
    "            success = True\n",
    "            break  # Break the retry loop if successful\n",
    "\n",
    "        except Exception as e:\n",
    "            print(f\"Attempt {attempt+1} failed for prison_id {prison_id}. Error: {e}\")\n",
    "            if attempt < 4:  # If not the last attempt, sleep for 10 seconds before retrying\n",
    "                sleep(10)\n",
    "\n",
    "    if not success:\n",
    "        print(f\"Failed to fetch data for prison_id {prison_id} after 5 attempts.\")\n",
    "\n",
    "    # Sleep for 3 seconds before making the next request\n",
    "    sleep(3)\n",
    "\n",
    "# Convert prison_data_list to a Pandas DataFrame\n",
    "data_df = pd.DataFrame(data)"
   ]
  },
  {
   "cell_type": "code",
   "execution_count": 8,
   "metadata": {
    "execution": {
     "iopub.execute_input": "2024-07-22T00:54:59.637990Z",
     "iopub.status.busy": "2024-07-22T00:54:59.637783Z",
     "iopub.status.idle": "2024-07-22T00:54:59.655814Z",
     "shell.execute_reply": "2024-07-22T00:54:59.655196Z"
    }
   },
   "outputs": [
    {
     "data": {
      "text/html": [
       "<div>\n",
       "<style scoped>\n",
       "    .dataframe tbody tr th:only-of-type {\n",
       "        vertical-align: middle;\n",
       "    }\n",
       "\n",
       "    .dataframe tbody tr th {\n",
       "        vertical-align: top;\n",
       "    }\n",
       "\n",
       "    .dataframe thead th {\n",
       "        text-align: right;\n",
       "    }\n",
       "</style>\n",
       "<table border=\"1\" class=\"dataframe\">\n",
       "  <thead>\n",
       "    <tr style=\"text-align: right;\">\n",
       "      <th></th>\n",
       "      <th>id</th>\n",
       "      <th>nome</th>\n",
       "      <th>tipo</th>\n",
       "      <th>posti_regolamentari</th>\n",
       "      <th>posti_non_disponibili</th>\n",
       "      <th>posti_occupati</th>\n",
       "      <th>posti_aggiornati_al</th>\n",
       "      <th>asl</th>\n",
       "      <th>nome_responsabile_asl</th>\n",
       "      <th>cognome_responsabile_asl</th>\n",
       "      <th>...</th>\n",
       "      <th>cognome_direttore</th>\n",
       "      <th>ruolo_direttore</th>\n",
       "      <th>personale_polizia_effettivi</th>\n",
       "      <th>personale_polizia_previsti</th>\n",
       "      <th>personale_amministrativi_effettivi</th>\n",
       "      <th>personale_amministrativi_previsti</th>\n",
       "      <th>personale_educatori_effettivi</th>\n",
       "      <th>personale_educatori_previsti</th>\n",
       "      <th>personale_polizia_aggiornato_a</th>\n",
       "      <th>personale_amministrativo_aggiornato_al</th>\n",
       "    </tr>\n",
       "  </thead>\n",
       "  <tbody>\n",
       "    <tr>\n",
       "      <th>0</th>\n",
       "      <td>MII179988</td>\n",
       "      <td>Reggio Calabria Arghillà</td>\n",
       "      <td>Casa circondariale</td>\n",
       "      <td>294</td>\n",
       "      <td>0</td>\n",
       "      <td>353</td>\n",
       "      <td>17/06/2024</td>\n",
       "      <td>5 Reggio Calabria</td>\n",
       "      <td>Luciano</td>\n",
       "      <td>Lucania</td>\n",
       "      <td>...</td>\n",
       "      <td>Stendardo</td>\n",
       "      <td>Titolare</td>\n",
       "      <td>133</td>\n",
       "      <td>160</td>\n",
       "      <td>12</td>\n",
       "      <td>32</td>\n",
       "      <td>5</td>\n",
       "      <td>8</td>\n",
       "      <td>31/05/2024</td>\n",
       "      <td>31/05/2024</td>\n",
       "    </tr>\n",
       "    <tr>\n",
       "      <th>1</th>\n",
       "      <td>MII172610</td>\n",
       "      <td>Brescia Verziano</td>\n",
       "      <td>Casa di reclusione</td>\n",
       "      <td>71</td>\n",
       "      <td>0</td>\n",
       "      <td>123</td>\n",
       "      <td>17/06/2024</td>\n",
       "      <td>Spedali Civili di Brescia</td>\n",
       "      <td>Luigi</td>\n",
       "      <td>Leone</td>\n",
       "      <td>...</td>\n",
       "      <td>NA</td>\n",
       "      <td>NA</td>\n",
       "      <td>77</td>\n",
       "      <td>96</td>\n",
       "      <td>2</td>\n",
       "      <td>0</td>\n",
       "      <td>1</td>\n",
       "      <td>0</td>\n",
       "      <td>31/05/2024</td>\n",
       "      <td>31/05/2024</td>\n",
       "    </tr>\n",
       "    <tr>\n",
       "      <th>2</th>\n",
       "      <td>MII172320</td>\n",
       "      <td>Busto Arsizio</td>\n",
       "      <td>Casa circondariale</td>\n",
       "      <td>240</td>\n",
       "      <td>11</td>\n",
       "      <td>440</td>\n",
       "      <td>17/06/2024</td>\n",
       "      <td>Busto Arsizio</td>\n",
       "      <td>Ezia</td>\n",
       "      <td>Iorio</td>\n",
       "      <td>...</td>\n",
       "      <td>Pitaniello</td>\n",
       "      <td>Titolare</td>\n",
       "      <td>180</td>\n",
       "      <td>217</td>\n",
       "      <td>14</td>\n",
       "      <td>21</td>\n",
       "      <td>3</td>\n",
       "      <td>5</td>\n",
       "      <td>31/05/2024</td>\n",
       "      <td>31/05/2024</td>\n",
       "    </tr>\n",
       "    <tr>\n",
       "      <th>3</th>\n",
       "      <td>MII173712</td>\n",
       "      <td>Como</td>\n",
       "      <td>Casa circondariale</td>\n",
       "      <td>226</td>\n",
       "      <td>0</td>\n",
       "      <td>433</td>\n",
       "      <td>17/06/2024</td>\n",
       "      <td>Como</td>\n",
       "      <td>Giuseppe</td>\n",
       "      <td>Carrano</td>\n",
       "      <td>...</td>\n",
       "      <td>Rinaldi</td>\n",
       "      <td>Titolare</td>\n",
       "      <td>181</td>\n",
       "      <td>236</td>\n",
       "      <td>15</td>\n",
       "      <td>23</td>\n",
       "      <td>3</td>\n",
       "      <td>6</td>\n",
       "      <td>31/05/2024</td>\n",
       "      <td>31/05/2024</td>\n",
       "    </tr>\n",
       "    <tr>\n",
       "      <th>4</th>\n",
       "      <td>MII173747</td>\n",
       "      <td>Cremona</td>\n",
       "      <td>Casa circondariale</td>\n",
       "      <td>394</td>\n",
       "      <td>10</td>\n",
       "      <td>577</td>\n",
       "      <td>17/06/2024</td>\n",
       "      <td>CREMONA</td>\n",
       "      <td>Rossano</td>\n",
       "      <td>Botto</td>\n",
       "      <td>...</td>\n",
       "      <td>Padula</td>\n",
       "      <td>Titolare</td>\n",
       "      <td>169</td>\n",
       "      <td>223</td>\n",
       "      <td>16</td>\n",
       "      <td>23</td>\n",
       "      <td>6</td>\n",
       "      <td>6</td>\n",
       "      <td>31/05/2024</td>\n",
       "      <td>31/05/2024</td>\n",
       "    </tr>\n",
       "    <tr>\n",
       "      <th>...</th>\n",
       "      <td>...</td>\n",
       "      <td>...</td>\n",
       "      <td>...</td>\n",
       "      <td>...</td>\n",
       "      <td>...</td>\n",
       "      <td>...</td>\n",
       "      <td>...</td>\n",
       "      <td>...</td>\n",
       "      <td>...</td>\n",
       "      <td>...</td>\n",
       "      <td>...</td>\n",
       "      <td>...</td>\n",
       "      <td>...</td>\n",
       "      <td>...</td>\n",
       "      <td>...</td>\n",
       "      <td>...</td>\n",
       "      <td>...</td>\n",
       "      <td>...</td>\n",
       "      <td>...</td>\n",
       "      <td>...</td>\n",
       "      <td>...</td>\n",
       "    </tr>\n",
       "    <tr>\n",
       "      <th>185</th>\n",
       "      <td>MII172508</td>\n",
       "      <td>Bologna</td>\n",
       "      <td>Casa circondariale - Rocco D'Amato</td>\n",
       "      <td>498</td>\n",
       "      <td>7</td>\n",
       "      <td>847</td>\n",
       "      <td>17/06/2024</td>\n",
       "      <td>Bologna</td>\n",
       "      <td>Raffaella</td>\n",
       "      <td>Campalastri</td>\n",
       "      <td>...</td>\n",
       "      <td>Casella</td>\n",
       "      <td>Titolare</td>\n",
       "      <td>421</td>\n",
       "      <td>541</td>\n",
       "      <td>27</td>\n",
       "      <td>35</td>\n",
       "      <td>10</td>\n",
       "      <td>10</td>\n",
       "      <td>31/05/2024</td>\n",
       "      <td>31/05/2024</td>\n",
       "    </tr>\n",
       "    <tr>\n",
       "      <th>186</th>\n",
       "      <td>MII179981</td>\n",
       "      <td>Ravenna</td>\n",
       "      <td>Casa circondariale</td>\n",
       "      <td>49</td>\n",
       "      <td>0</td>\n",
       "      <td>79</td>\n",
       "      <td>17/06/2024</td>\n",
       "      <td>Romagna</td>\n",
       "      <td>Maurizio</td>\n",
       "      <td>Serra</td>\n",
       "      <td>...</td>\n",
       "      <td>Di Lena</td>\n",
       "      <td>Titolare</td>\n",
       "      <td>66</td>\n",
       "      <td>83</td>\n",
       "      <td>17</td>\n",
       "      <td>14</td>\n",
       "      <td>5</td>\n",
       "      <td>3</td>\n",
       "      <td>31/05/2024</td>\n",
       "      <td>31/05/2024</td>\n",
       "    </tr>\n",
       "    <tr>\n",
       "      <th>187</th>\n",
       "      <td>MII179364</td>\n",
       "      <td>Parma</td>\n",
       "      <td>Casa di reclusione</td>\n",
       "      <td>655</td>\n",
       "      <td>27</td>\n",
       "      <td>698</td>\n",
       "      <td>17/06/2024</td>\n",
       "      <td>PARMA</td>\n",
       "      <td>Choroma</td>\n",
       "      <td>FAISSAL</td>\n",
       "      <td>...</td>\n",
       "      <td>NA</td>\n",
       "      <td>NA</td>\n",
       "      <td>355</td>\n",
       "      <td>462</td>\n",
       "      <td>2</td>\n",
       "      <td>0</td>\n",
       "      <td>0</td>\n",
       "      <td>0</td>\n",
       "      <td>31/05/2024</td>\n",
       "      <td>31/05/2024</td>\n",
       "    </tr>\n",
       "    <tr>\n",
       "      <th>188</th>\n",
       "      <td>MII178638</td>\n",
       "      <td>Modena</td>\n",
       "      <td>Casa circondariale</td>\n",
       "      <td>372</td>\n",
       "      <td>0</td>\n",
       "      <td>537</td>\n",
       "      <td>17/06/2024</td>\n",
       "      <td>MODENA</td>\n",
       "      <td>Stefano</td>\n",
       "      <td>Petrella</td>\n",
       "      <td>...</td>\n",
       "      <td>Sorrentini</td>\n",
       "      <td>Titolare</td>\n",
       "      <td>210</td>\n",
       "      <td>257</td>\n",
       "      <td>22</td>\n",
       "      <td>27</td>\n",
       "      <td>6</td>\n",
       "      <td>6</td>\n",
       "      <td>31/05/2024</td>\n",
       "      <td>31/05/2024</td>\n",
       "    </tr>\n",
       "    <tr>\n",
       "      <th>189</th>\n",
       "      <td>MII181125</td>\n",
       "      <td>Siracusa</td>\n",
       "      <td>Casa circondariale</td>\n",
       "      <td>545</td>\n",
       "      <td>0</td>\n",
       "      <td>669</td>\n",
       "      <td>17/06/2024</td>\n",
       "      <td>NA</td>\n",
       "      <td>NA</td>\n",
       "      <td>NA</td>\n",
       "      <td>...</td>\n",
       "      <td>Tiralongo</td>\n",
       "      <td>Titolare</td>\n",
       "      <td>229</td>\n",
       "      <td>250</td>\n",
       "      <td>22</td>\n",
       "      <td>27</td>\n",
       "      <td>6</td>\n",
       "      <td>6</td>\n",
       "      <td>31/05/2024</td>\n",
       "      <td>31/05/2024</td>\n",
       "    </tr>\n",
       "  </tbody>\n",
       "</table>\n",
       "<p>190 rows × 21 columns</p>\n",
       "</div>"
      ],
      "text/plain": [
       "            id                      nome                                tipo  \\\n",
       "0    MII179988  Reggio Calabria Arghillà                  Casa circondariale   \n",
       "1    MII172610          Brescia Verziano                  Casa di reclusione   \n",
       "2    MII172320             Busto Arsizio                  Casa circondariale   \n",
       "3    MII173712                      Como                  Casa circondariale   \n",
       "4    MII173747                   Cremona                  Casa circondariale   \n",
       "..         ...                       ...                                 ...   \n",
       "185  MII172508                   Bologna  Casa circondariale - Rocco D'Amato   \n",
       "186  MII179981                   Ravenna                  Casa circondariale   \n",
       "187  MII179364                     Parma                  Casa di reclusione   \n",
       "188  MII178638                    Modena                  Casa circondariale   \n",
       "189  MII181125                  Siracusa                  Casa circondariale   \n",
       "\n",
       "     posti_regolamentari  posti_non_disponibili  posti_occupati  \\\n",
       "0                    294                      0             353   \n",
       "1                     71                      0             123   \n",
       "2                    240                     11             440   \n",
       "3                    226                      0             433   \n",
       "4                    394                     10             577   \n",
       "..                   ...                    ...             ...   \n",
       "185                  498                      7             847   \n",
       "186                   49                      0              79   \n",
       "187                  655                     27             698   \n",
       "188                  372                      0             537   \n",
       "189                  545                      0             669   \n",
       "\n",
       "    posti_aggiornati_al                        asl nome_responsabile_asl  \\\n",
       "0            17/06/2024          5 Reggio Calabria               Luciano   \n",
       "1            17/06/2024  Spedali Civili di Brescia                 Luigi   \n",
       "2            17/06/2024              Busto Arsizio                  Ezia   \n",
       "3            17/06/2024                       Como              Giuseppe   \n",
       "4            17/06/2024                    CREMONA               Rossano   \n",
       "..                  ...                        ...                   ...   \n",
       "185          17/06/2024                    Bologna             Raffaella   \n",
       "186          17/06/2024                    Romagna              Maurizio   \n",
       "187          17/06/2024                      PARMA               Choroma   \n",
       "188          17/06/2024                     MODENA               Stefano   \n",
       "189          17/06/2024                         NA                    NA   \n",
       "\n",
       "    cognome_responsabile_asl  ... cognome_direttore ruolo_direttore  \\\n",
       "0                    Lucania  ...         Stendardo        Titolare   \n",
       "1                      Leone  ...                NA              NA   \n",
       "2                      Iorio  ...        Pitaniello        Titolare   \n",
       "3                    Carrano  ...           Rinaldi        Titolare   \n",
       "4                      Botto  ...            Padula        Titolare   \n",
       "..                       ...  ...               ...             ...   \n",
       "185              Campalastri  ...           Casella        Titolare   \n",
       "186                    Serra  ...           Di Lena        Titolare   \n",
       "187                  FAISSAL  ...                NA              NA   \n",
       "188                 Petrella  ...        Sorrentini        Titolare   \n",
       "189                       NA  ...         Tiralongo        Titolare   \n",
       "\n",
       "    personale_polizia_effettivi  personale_polizia_previsti  \\\n",
       "0                           133                         160   \n",
       "1                            77                          96   \n",
       "2                           180                         217   \n",
       "3                           181                         236   \n",
       "4                           169                         223   \n",
       "..                          ...                         ...   \n",
       "185                         421                         541   \n",
       "186                          66                          83   \n",
       "187                         355                         462   \n",
       "188                         210                         257   \n",
       "189                         229                         250   \n",
       "\n",
       "     personale_amministrativi_effettivi  personale_amministrativi_previsti  \\\n",
       "0                                    12                                 32   \n",
       "1                                     2                                  0   \n",
       "2                                    14                                 21   \n",
       "3                                    15                                 23   \n",
       "4                                    16                                 23   \n",
       "..                                  ...                                ...   \n",
       "185                                  27                                 35   \n",
       "186                                  17                                 14   \n",
       "187                                   2                                  0   \n",
       "188                                  22                                 27   \n",
       "189                                  22                                 27   \n",
       "\n",
       "     personale_educatori_effettivi  personale_educatori_previsti  \\\n",
       "0                                5                             8   \n",
       "1                                1                             0   \n",
       "2                                3                             5   \n",
       "3                                3                             6   \n",
       "4                                6                             6   \n",
       "..                             ...                           ...   \n",
       "185                             10                            10   \n",
       "186                              5                             3   \n",
       "187                              0                             0   \n",
       "188                              6                             6   \n",
       "189                              6                             6   \n",
       "\n",
       "     personale_polizia_aggiornato_a personale_amministrativo_aggiornato_al  \n",
       "0                        31/05/2024                             31/05/2024  \n",
       "1                        31/05/2024                             31/05/2024  \n",
       "2                        31/05/2024                             31/05/2024  \n",
       "3                        31/05/2024                             31/05/2024  \n",
       "4                        31/05/2024                             31/05/2024  \n",
       "..                              ...                                    ...  \n",
       "185                      31/05/2024                             31/05/2024  \n",
       "186                      31/05/2024                             31/05/2024  \n",
       "187                      31/05/2024                             31/05/2024  \n",
       "188                      31/05/2024                             31/05/2024  \n",
       "189                      31/05/2024                             31/05/2024  \n",
       "\n",
       "[190 rows x 21 columns]"
      ]
     },
     "execution_count": 8,
     "metadata": {},
     "output_type": "execute_result"
    }
   ],
   "source": [
    "data_df"
   ]
  },
  {
   "cell_type": "code",
   "execution_count": 9,
   "metadata": {
    "execution": {
     "iopub.execute_input": "2024-07-22T00:54:59.658140Z",
     "iopub.status.busy": "2024-07-22T00:54:59.657951Z",
     "iopub.status.idle": "2024-07-22T00:54:59.668349Z",
     "shell.execute_reply": "2024-07-22T00:54:59.667850Z"
    }
   },
   "outputs": [],
   "source": [
    "old_data_path = Path('../outputs/clean/istituti_data.csv')\n",
    "\n",
    "if old_data_path.exists():\n",
    "  old_data = pd.read_csv('../outputs/clean/istituti_data.csv')\n",
    "  combined_data = pd.concat([old_data, data_df], ignore_index=True)\n",
    "  combined_data.drop_duplicates(inplace=True)\n",
    "else:\n",
    "  combined_data = data_df\n",
    "  combined_data.drop_duplicates\n",
    "\n",
    "combined_data.to_csv('../outputs/clean/istituti_data.csv', index=False)"
   ]
  }
 ],
 "metadata": {
  "kernelspec": {
   "display_name": "Python 3",
   "language": "python",
   "name": "python3"
  },
  "language_info": {
   "codemirror_mode": {
    "name": "ipython",
    "version": 3
   },
   "file_extension": ".py",
   "mimetype": "text/x-python",
   "name": "python",
   "nbconvert_exporter": "python",
   "pygments_lexer": "ipython3",
   "version": "3.10.14"
  }
 },
 "nbformat": 4,
 "nbformat_minor": 2
}

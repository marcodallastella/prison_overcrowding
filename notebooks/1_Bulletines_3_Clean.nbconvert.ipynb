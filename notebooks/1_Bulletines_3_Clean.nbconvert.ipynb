{
 "cells": [
  {
   "cell_type": "markdown",
   "metadata": {},
   "source": [
    "## Bulletines Cleaning\n",
    "\n",
    "I used this notebook to clean raw data previously scraped containing information from the monthly bulletines published by the Italian Ministry of Justice."
   ]
  },
  {
   "cell_type": "code",
   "execution_count": 1,
   "metadata": {
    "execution": {
     "iopub.execute_input": "2024-10-08T20:16:02.631050Z",
     "iopub.status.busy": "2024-10-08T20:16:02.630845Z",
     "iopub.status.idle": "2024-10-08T20:16:02.869679Z",
     "shell.execute_reply": "2024-10-08T20:16:02.868952Z"
    }
   },
   "outputs": [],
   "source": [
    "import pandas as pd\n",
    "import numpy as np\n",
    "import re"
   ]
  },
  {
   "cell_type": "markdown",
   "metadata": {},
   "source": [
    "### Basic cleaning\n",
    "\n",
    "- Converting numbers into integers (note that the `.` in Italy is being used as a decimal separator)\n",
    "- Removing `Totals` (we'll calculate them when needed)\n",
    "- Fixing empty values to numeric (from NaN to 0)\n",
    "- Converting to integer"
   ]
  },
  {
   "cell_type": "code",
   "execution_count": null,
   "metadata": {
    "execution": {
     "iopub.execute_input": "2024-10-08T20:16:02.872459Z",
     "iopub.status.busy": "2024-10-08T20:16:02.872048Z",
     "iopub.status.idle": "2024-10-08T20:16:02.919369Z",
     "shell.execute_reply": "2024-10-08T20:16:02.918667Z"
    }
   },
   "outputs": [],
   "source": [
    "\n",
    "# Read CSV with thousands separator specified\n",
    "df = pd.read_csv(\"../outputs/raw/bulletines_raw.csv\", thousands=\".\")\n",
    "\n",
    "# Remove rows where \"Regione di detenzione\" is \"Totale\"\n",
    "df = df[df[\"Regione di detenzione\"] != \"Totale\"]\n",
    "\n",
    "# Replace empty strings and similar with NaN\n",
    "df.replace([\"\", \" \", \"NaN\", \"nan\"], np.nan, inplace=True)\n",
    "\n",
    "# Fill NaN values with 0\n",
    "df.fillna(0, inplace=True)\n",
    "\n",
    "# Convert columns to integer type\n",
    "df['Detenuti presenti - stranieri'] = df['Detenuti presenti - stranieri'].astype(int)\n",
    "\n",
    "# Remove dots from numeric strings in the specified column\n",
    "df['Detenuti presenti - totale'] = df['Detenuti presenti - totale'].str.replace(\".\", \"\")\n",
    "\n",
    "# Show a random sample of 5 rows\n",
    "df.sample(5)\n"
   ]
  },
  {
   "cell_type": "markdown",
   "metadata": {},
   "source": []
  },
  {
   "cell_type": "code",
   "execution_count": null,
   "metadata": {
    "execution": {
     "iopub.execute_input": "2024-10-08T20:16:02.955056Z",
     "iopub.status.busy": "2024-10-08T20:16:02.954590Z",
     "iopub.status.idle": "2024-10-08T20:16:02.959665Z",
     "shell.execute_reply": "2024-10-08T20:16:02.959159Z"
    }
   },
   "outputs": [],
   "source": [
    "df.dtypes"
   ]
  },
  {
   "cell_type": "code",
   "execution_count": null,
   "metadata": {
    "execution": {
     "iopub.execute_input": "2024-10-08T20:16:02.961494Z",
     "iopub.status.busy": "2024-10-08T20:16:02.961305Z",
     "iopub.status.idle": "2024-10-08T20:16:02.970226Z",
     "shell.execute_reply": "2024-10-08T20:16:02.969676Z"
    }
   },
   "outputs": [],
   "source": [
    "# Step 1: Replace dots in the 'Detenuti presenti - totale' column, then convert to numeric\n",
    "df['Detenuti presenti - totale'] = df['Detenuti presenti - totale'].str.replace(\".\", \"\").astype(float)\n",
    "# Step 2: Fill any remaining NaN values with 0\n",
    "df['Detenuti presenti - totale'].fillna(0, inplace=True)\n",
    "# Step 3: Convert the cleaned column to integers\n",
    "df['Detenuti presenti - totale'] = df['Detenuti presenti - totale'].astype(int)\n",
    "df['Detenuti presenti - donne'] = df['Detenuti presenti - donne'].astype(int)\n"
   ]
  },
  {
   "cell_type": "code",
   "execution_count": null,
   "metadata": {
    "execution": {
     "iopub.execute_input": "2024-10-08T20:16:02.972270Z",
     "iopub.status.busy": "2024-10-08T20:16:02.971907Z",
     "iopub.status.idle": "2024-10-08T20:16:02.983497Z",
     "shell.execute_reply": "2024-10-08T20:16:02.983011Z"
    }
   },
   "outputs": [],
   "source": [
    "df.sort_values('Detenuti presenti - stranieri', ascending=False).head(15)"
   ]
  },
  {
   "cell_type": "code",
   "execution_count": null,
   "metadata": {
    "execution": {
     "iopub.execute_input": "2024-10-08T20:16:02.985525Z",
     "iopub.status.busy": "2024-10-08T20:16:02.985163Z",
     "iopub.status.idle": "2024-10-08T20:16:02.989955Z",
     "shell.execute_reply": "2024-10-08T20:16:02.989322Z"
    }
   },
   "outputs": [],
   "source": [
    "df.dtypes"
   ]
  },
  {
   "cell_type": "code",
   "execution_count": 7,
   "metadata": {
    "execution": {
     "iopub.execute_input": "2024-10-08T20:16:02.992038Z",
     "iopub.status.busy": "2024-10-08T20:16:02.991657Z",
     "iopub.status.idle": "2024-10-08T20:16:02.997672Z",
     "shell.execute_reply": "2024-10-08T20:16:02.997038Z"
    }
   },
   "outputs": [],
   "source": [
    "# Convert the 'Ultimo aggiornamento' column to datetime format\n",
    "df['Ultimo aggiornamento'] = pd.to_datetime(df['Ultimo aggiornamento'])\n"
   ]
  },
  {
   "cell_type": "code",
   "execution_count": null,
   "metadata": {
    "execution": {
     "iopub.execute_input": "2024-10-08T20:16:02.999655Z",
     "iopub.status.busy": "2024-10-08T20:16:02.999305Z",
     "iopub.status.idle": "2024-10-08T20:16:03.003887Z",
     "shell.execute_reply": "2024-10-08T20:16:03.003366Z"
    }
   },
   "outputs": [],
   "source": [
    "df.dtypes"
   ]
  },
  {
   "cell_type": "markdown",
   "metadata": {},
   "source": [
    "### Fixing names\n",
    "\n",
    "A problem we are encountering are the many different names each detention center has been registered with over the years. Here below we use [thefuzz](https://github.com/seatgeek/thefuzz) to do an initial fuzzy matching, and then fix the remaining ones manually. As a reference, we'll use the information we have scraped in a different notebook about all the detention centers currently operating in Italy."
   ]
  },
  {
   "cell_type": "code",
   "execution_count": 9,
   "metadata": {
    "execution": {
     "iopub.execute_input": "2024-10-08T20:16:03.005729Z",
     "iopub.status.busy": "2024-10-08T20:16:03.005522Z",
     "iopub.status.idle": "2024-10-08T20:16:03.020486Z",
     "shell.execute_reply": "2024-10-08T20:16:03.020005Z"
    }
   },
   "outputs": [],
   "source": [
    "df['Istituto'] = df['Istituto'].str.strip()\n",
    "df['Istituto'] = df['Istituto'].str.replace(r\"\\s*-\", \"\", regex=True)  # Removes any whitespace followed by a dash\n"
   ]
  },
  {
   "cell_type": "code",
   "execution_count": null,
   "metadata": {
    "execution": {
     "iopub.execute_input": "2024-10-08T20:16:03.022360Z",
     "iopub.status.busy": "2024-10-08T20:16:03.022006Z",
     "iopub.status.idle": "2024-10-08T20:16:03.028725Z",
     "shell.execute_reply": "2024-10-08T20:16:03.028095Z"
    }
   },
   "outputs": [],
   "source": [
    "sorted(df['Istituto'].unique())"
   ]
  },
  {
   "cell_type": "code",
   "execution_count": 11,
   "metadata": {
    "execution": {
     "iopub.execute_input": "2024-10-08T20:16:03.030834Z",
     "iopub.status.busy": "2024-10-08T20:16:03.030468Z",
     "iopub.status.idle": "2024-10-08T20:16:03.044271Z",
     "shell.execute_reply": "2024-10-08T20:16:03.043774Z"
    }
   },
   "outputs": [],
   "source": [
    "from thefuzz import process"
   ]
  },
  {
   "cell_type": "code",
   "execution_count": null,
   "metadata": {
    "execution": {
     "iopub.execute_input": "2024-10-08T20:16:03.046211Z",
     "iopub.status.busy": "2024-10-08T20:16:03.045858Z",
     "iopub.status.idle": "2024-10-08T20:16:03.053632Z",
     "shell.execute_reply": "2024-10-08T20:16:03.053094Z"
    }
   },
   "outputs": [],
   "source": [
    "# Import standard names\n",
    "df_standard_names = pd.read_csv('../outputs/clean/institutes_info.csv')\n",
    "standard_names = df_standard_names['nome_istituto'].tolist()\n",
    "standard_names"
   ]
  },
  {
   "cell_type": "code",
   "execution_count": null,
   "metadata": {
    "execution": {
     "iopub.execute_input": "2024-10-08T20:16:03.055651Z",
     "iopub.status.busy": "2024-10-08T20:16:03.055189Z",
     "iopub.status.idle": "2024-10-08T20:16:03.063843Z",
     "shell.execute_reply": "2024-10-08T20:16:03.063199Z"
    }
   },
   "outputs": [],
   "source": [
    "df_copy = df\n",
    "df_copy.head(4)"
   ]
  },
  {
   "cell_type": "code",
   "execution_count": 14,
   "metadata": {
    "execution": {
     "iopub.execute_input": "2024-10-08T20:16:03.065803Z",
     "iopub.status.busy": "2024-10-08T20:16:03.065434Z",
     "iopub.status.idle": "2024-10-08T20:16:07.045827Z",
     "shell.execute_reply": "2024-10-08T20:16:07.045147Z"
    }
   },
   "outputs": [],
   "source": [
    "def standardize_name(name):\n",
    "    match, score = process.extractOne(name, standard_names)\n",
    "    return match if score >= 90 else name  # Adjust score threshold as needed\n",
    "# Apply fuzzy matching to standardize names\n",
    "df_copy['Istituto'] = df_copy['Istituto'].apply(standardize_name)"
   ]
  },
  {
   "cell_type": "code",
   "execution_count": null,
   "metadata": {
    "execution": {
     "iopub.execute_input": "2024-10-08T20:16:07.048322Z",
     "iopub.status.busy": "2024-10-08T20:16:07.047865Z",
     "iopub.status.idle": "2024-10-08T20:16:07.054476Z",
     "shell.execute_reply": "2024-10-08T20:16:07.053883Z"
    }
   },
   "outputs": [],
   "source": [
    "sorted(df_copy['Istituto'].unique())"
   ]
  },
  {
   "cell_type": "markdown",
   "metadata": {},
   "source": [
    "Because the names that did not match are uppercase, we can identify them easily and proceed with a mapping."
   ]
  },
  {
   "cell_type": "code",
   "execution_count": null,
   "metadata": {
    "execution": {
     "iopub.execute_input": "2024-10-08T20:16:07.056537Z",
     "iopub.status.busy": "2024-10-08T20:16:07.056184Z",
     "iopub.status.idle": "2024-10-08T20:16:07.063063Z",
     "shell.execute_reply": "2024-10-08T20:16:07.062401Z"
    }
   },
   "outputs": [],
   "source": [
    "sorted(df_copy[df_copy['Istituto'].str.isupper()]['Istituto'].unique())"
   ]
  },
  {
   "cell_type": "code",
   "execution_count": null,
   "metadata": {
    "execution": {
     "iopub.execute_input": "2024-10-08T20:16:07.065038Z",
     "iopub.status.busy": "2024-10-08T20:16:07.064644Z",
     "iopub.status.idle": "2024-10-08T20:16:07.079100Z",
     "shell.execute_reply": "2024-10-08T20:16:07.078462Z"
    }
   },
   "outputs": [],
   "source": [
    "institute_mapping = {\n",
    "    'BRESCIA \"N. FISCHIONE\" CANTON MONBELLO': 'Brescia Canton Monbello',\n",
    "    'BRESCIA \"NERIO FISCHIONE\" CANTON MONBELLO': 'Brescia Canton Monbello',\n",
    "    'CAGLIARI \"E.SCALAS\"': 'Cagliari Uta',\n",
    "    'CAGLIARI \"ETTORE SCALAS\"': 'Cagliari Uta',\n",
    "    'CAMERINO': 'Camerino',\n",
    "    'CIVITAVECCHIA \"N.C.\"': 'Civitavecchia Nuovo Complesso',\n",
    "    \"FORLI'\": 'Forlì',\n",
    "    'MILANO \"F. DI CATALDO\" SAN VITTORE': 'Milano San Vittore',\n",
    "    'MILANO \"FRANCESCO DI CATALDO\" SAN VITTORE': 'Milano San Vittore',\n",
    "    'NAPOLI \"G. SALVIA\" POGGIOREALE': 'Napoli Poggioreale',\n",
    "    'NAPOLI \"GIUSEPPE SALVIA\" POGGIOREALE': 'Napoli Poggioreale',\n",
    "    'NAPOLI \"P. MANDATO\" SECONDIGLIANO': 'Napoli Secondigliano',\n",
    "    'NAPOLI \"PASQUALE MANDATO\" SECONDIGLIANO': 'Napoli Secondigliano',\n",
    "    'PALERMO \"A. LORUSSO\" PAGLIARELLI': 'Palermo Pagliarelli',\n",
    "    'PALERMO \"ANTONIO LORUSSO\" PAGLIARELLI': 'Palermo Pagliarelli',\n",
    "    'PALERMO \"C. DI BONA\" UCCIARDONE': 'Palermo Ucciardone',\n",
    "    'PALERMO \"CALOGERO DI BONA\" UCCIARDONE': 'Palermo Ucciardone',\n",
    "    'ROMA \"G. STEFANINI\" REBIBBIA FEMMINILE': 'Roma Rebibbia Femminile',\n",
    "    'ROMA \"GERMANA STEFANINI\" REBIBBIA FEMMINILE': 'Roma Rebibbia Femminile',\n",
    "    'ROMA \"R. CINOTTI\" REBIBBIA N.C.1': 'Roma Rebibbia',\n",
    "    'ROMA \"RAFFAELE CINOTTI\" REBIBBIA N.C.1': 'Roma Rebibbia',\n",
    "    'ROMA \"REBIBBIA TERZA CASA\"': 'Roma Rebibbia III Casa',\n",
    "    'SAN REMO \"N.C.\"': 'Sanremo',\n",
    "}\n",
    "\n",
    "df_copy['Istituto'] = df_copy['Istituto'].replace(institute_mapping)\n",
    "\n",
    "# Check the updated unique values\n",
    "df_copy['Istituto'].unique()"
   ]
  },
  {
   "cell_type": "code",
   "execution_count": null,
   "metadata": {
    "execution": {
     "iopub.execute_input": "2024-10-08T20:16:07.081153Z",
     "iopub.status.busy": "2024-10-08T20:16:07.080783Z",
     "iopub.status.idle": "2024-10-08T20:16:07.089640Z",
     "shell.execute_reply": "2024-10-08T20:16:07.089138Z"
    }
   },
   "outputs": [],
   "source": [
    "df_copy.sample(5)"
   ]
  },
  {
   "cell_type": "code",
   "execution_count": 19,
   "metadata": {
    "execution": {
     "iopub.execute_input": "2024-10-08T20:16:07.091537Z",
     "iopub.status.busy": "2024-10-08T20:16:07.091187Z",
     "iopub.status.idle": "2024-10-08T20:16:07.093968Z",
     "shell.execute_reply": "2024-10-08T20:16:07.093324Z"
    }
   },
   "outputs": [],
   "source": [
    "# # remove duplicate data from Dec 2021\n",
    "# df_copy = df_copy[df_copy['ID'] != 'SST360932']"
   ]
  },
  {
   "cell_type": "code",
   "execution_count": 20,
   "metadata": {
    "execution": {
     "iopub.execute_input": "2024-10-08T20:16:07.095909Z",
     "iopub.status.busy": "2024-10-08T20:16:07.095548Z",
     "iopub.status.idle": "2024-10-08T20:16:07.172955Z",
     "shell.execute_reply": "2024-10-08T20:16:07.172245Z"
    }
   },
   "outputs": [],
   "source": [
    "df_copy.to_csv('../outputs/clean/bulletines.csv', index=False, encoding=\"UTF-8-sig\")"
   ]
  }
 ],
 "metadata": {
  "kernelspec": {
   "display_name": "Python 3",
   "language": "python",
   "name": "python3"
  },
  "language_info": {
   "codemirror_mode": {
    "name": "ipython",
    "version": 3
   },
   "file_extension": ".py",
   "mimetype": "text/x-python",
   "name": "python",
   "nbconvert_exporter": "python",
   "pygments_lexer": "ipython3",
   "version": "3.10.15"
  }
 },
 "nbformat": 4,
 "nbformat_minor": 2
}
